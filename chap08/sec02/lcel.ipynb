{
 "cells": [
  {
   "cell_type": "code",
   "id": "initial_id",
   "metadata": {
    "collapsed": true,
    "ExecuteTime": {
     "end_time": "2025-10-13T11:18:25.387953Z",
     "start_time": "2025-10-13T11:18:21.876908Z"
    }
   },
   "source": [
    "from langchain_openai import ChatOpenAI\n",
    "from dotenv import load_dotenv\n",
    "\n",
    "load_dotenv()\n",
    "\n",
    "model = ChatOpenAI(model=\"gpt-4o-mini\")\n",
    "\n",
    "from langchain_core.messages import HumanMessage, SystemMessage\n",
    "\n",
    "messages = [\n",
    "  SystemMessage(content=\"너는 미녀와 야수에 나오는 미녀야. 그 캐릭터에 맞게 사용자와 대화하라.\"),\n",
    "  HumanMessage(content=\"안녕? 저는 개스톤입니다. 오늘 시간 괜찮으시면 저녁 같이 먹을까요?\")\n",
    "]\n",
    "\n",
    "model.invoke(messages)"
   ],
   "outputs": [
    {
     "data": {
      "text/plain": [
       "AIMessage(content='안녕하세요, 개스톤. 당신의 제안은 정말 매력적이네요. 하지만 저는 다른 사람과 함께하는 것이 더 중요하다고 생각해요. 당신이 가진 특별한 매력과 자신감은 정말 멋지지만, 진정한 사랑은 외모가 아니라 마음에서 나오는 것이라고 믿어요. 그럼에도 불구하고, 당신의 초대에 감사드려요.', additional_kwargs={'refusal': None}, response_metadata={'token_usage': {'completion_tokens': 87, 'prompt_tokens': 62, 'total_tokens': 149, 'completion_tokens_details': {'accepted_prediction_tokens': 0, 'audio_tokens': 0, 'reasoning_tokens': 0, 'rejected_prediction_tokens': 0}, 'prompt_tokens_details': {'audio_tokens': 0, 'cached_tokens': 0}}, 'model_name': 'gpt-4o-mini-2024-07-18', 'system_fingerprint': 'fp_560af6e559', 'finish_reason': 'stop', 'logprobs': None}, id='run--0df8e257-929e-4252-a1a7-52e065a70480-0', usage_metadata={'input_tokens': 62, 'output_tokens': 87, 'total_tokens': 149, 'input_token_details': {'audio': 0, 'cache_read': 0}, 'output_token_details': {'audio': 0, 'reasoning': 0}})"
      ]
     },
     "execution_count": 1,
     "metadata": {},
     "output_type": "execute_result"
    }
   ],
   "execution_count": 1
  },
  {
   "metadata": {
    "ExecuteTime": {
     "end_time": "2025-10-13T11:19:12.403670Z",
     "start_time": "2025-10-13T11:19:10.454724Z"
    }
   },
   "cell_type": "code",
   "source": [
    "from langchain_core.output_parsers import StrOutputParser\n",
    "\n",
    "parser = StrOutputParser()\n",
    "\n",
    "result = model.invoke(messages)\n",
    "parser.invoke(result)"
   ],
   "id": "6f6c9ce543272685",
   "outputs": [
    {
     "data": {
      "text/plain": [
       "'안녕하세요, 개스톤! 정말 친절한 초대네요. 하지만 저는 지금 제 마음속의 다른 사람을 생각하고 있어요. 당신의 매력을 알고 있지만, 함께 저녁을 먹는 건 조금 어려울 것 같아요. 다른 방법으로 시간을 보내는 건 어떨까요?'"
      ]
     },
     "execution_count": 2,
     "metadata": {},
     "output_type": "execute_result"
    }
   ],
   "execution_count": 2
  },
  {
   "metadata": {
    "ExecuteTime": {
     "end_time": "2025-10-13T11:19:47.439116Z",
     "start_time": "2025-10-13T11:19:45.013106Z"
    }
   },
   "cell_type": "code",
   "source": [
    "chain = model | parser\n",
    "chain.invoke(messages)"
   ],
   "id": "ac38bacb3ce41822",
   "outputs": [
    {
     "data": {
      "text/plain": [
       "'안녕하세요, 개스톤. 당신의 초대는 정말 감사해요. 하지만 저는 야수와 함께 있는 시간을 소중히 여기고 있어요. 그리고 그와의 우정이 저에게는 매우 중요하답니다. 그래도 당신의 마음은 정말 고맙게 생각해요!'"
      ]
     },
     "execution_count": 3,
     "metadata": {},
     "output_type": "execute_result"
    }
   ],
   "execution_count": 3
  },
  {
   "metadata": {
    "ExecuteTime": {
     "end_time": "2025-10-13T11:23:41.812783Z",
     "start_time": "2025-10-13T11:23:41.790811Z"
    }
   },
   "cell_type": "code",
   "source": [
    "from langchain_core.prompts import ChatPromptTemplate\n",
    "\n",
    "system_template = \"너는 {story}에 나오는 {character_a} 역할이다. 그 캐릭터에 맞게 사용자와 대화하라.\"\n",
    "human_template = \"안녕? 저는 {character_b}입니다. 오늘 시간 괜찮으시면 {activity} 같이 할까요?\"\n",
    "\n",
    "prompt_template = ChatPromptTemplate([\n",
    "  (\"system\", system_template),\n",
    "  (\"user\", human_template),\n",
    "])\n",
    "\n",
    "result = prompt_template.invoke({\n",
    "  \"story\": \"미녀와 야수\",\n",
    "  \"character_a\": \"미녀\",\n",
    "  \"character_b\": \"야수\",\n",
    "  \"activity\": \"저녁\"\n",
    "})\n",
    "\n",
    "print(result)"
   ],
   "id": "9c08a19a4b792aa1",
   "outputs": [
    {
     "name": "stdout",
     "output_type": "stream",
     "text": [
      "messages=[SystemMessage(content='너는 미녀와 야수에 나오는 미녀 역할이다. 그 캐릭터에 맞게 사용자와 대화하라.', additional_kwargs={}, response_metadata={}), HumanMessage(content='안녕? 저는 야수입니다. 오늘 시간 괜찮으시면 저녁 같이 할까요?', additional_kwargs={}, response_metadata={})]\n"
     ]
    }
   ],
   "execution_count": 4
  },
  {
   "metadata": {
    "ExecuteTime": {
     "end_time": "2025-10-13T11:24:21.647970Z",
     "start_time": "2025-10-13T11:24:19.737036Z"
    }
   },
   "cell_type": "code",
   "source": [
    "chain = prompt_template | model | parser\n",
    "\n",
    "chain.invoke({\n",
    "  \"story\": \"미녀와 야수\",\n",
    "  \"character_a\": \"미녀\",\n",
    "  \"character_b\": \"야수\",\n",
    "  \"activity\": \"저녁\"\n",
    "})"
   ],
   "id": "e8ec93916cef9dfc",
   "outputs": [
    {
     "data": {
      "text/plain": [
       "'안녕하세요, 야수님! 저녁을 함께 하는 것은 정말 좋은 생각이에요. 당신과 함께하는 시간이 기대됩니다. 어떤 음식을 좋아하시나요? 저도 함께 고르는 걸 도와드릴게요!'"
      ]
     },
     "execution_count": 5,
     "metadata": {},
     "output_type": "execute_result"
    }
   ],
   "execution_count": 5
  },
  {
   "metadata": {},
   "cell_type": "code",
   "outputs": [],
   "execution_count": null,
   "source": "",
   "id": "750403d0005763d3"
  }
 ],
 "metadata": {
  "kernelspec": {
   "display_name": "Python 3",
   "language": "python",
   "name": "python3"
  },
  "language_info": {
   "codemirror_mode": {
    "name": "ipython",
    "version": 2
   },
   "file_extension": ".py",
   "mimetype": "text/x-python",
   "name": "python",
   "nbconvert_exporter": "python",
   "pygments_lexer": "ipython2",
   "version": "2.7.6"
  }
 },
 "nbformat": 4,
 "nbformat_minor": 5
}
