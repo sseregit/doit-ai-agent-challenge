{
 "cells": [
  {
   "cell_type": "code",
   "id": "initial_id",
   "metadata": {
    "collapsed": true,
    "ExecuteTime": {
     "end_time": "2025-10-13T11:12:23.637828Z",
     "start_time": "2025-10-13T11:12:23.622639Z"
    }
   },
   "source": "from langchain_core.chat_history import InMemoryChatMessageHistory, BaseChatMessageHistory\nfrom langchain_core.runnables.history import RunnableWithMessageHistory\nfrom langchain_openai import ChatOpenAI\nfrom langchain_core.messages import HumanMessage\nfrom dotenv import load_dotenv\n\nload_dotenv()\n\nmodel = ChatOpenAI(model=\"gpt-4o-mini\")\n\nstore = {}\n\ndef get_session_history(session_id: str) -> BaseChatMessageHistory:\n  if session_id not in store:\n    store[session_id] = InMemoryChatMessageHistory()\n\n  return store[session_id]\n\nwith_message_history = RunnableWithMessageHistory(model, get_session_history)",
   "outputs": [],
   "execution_count": null
  },
  {
   "metadata": {
    "ExecuteTime": {
     "end_time": "2025-10-13T11:12:24.863718Z",
     "start_time": "2025-10-13T11:12:23.662095Z"
    }
   },
   "cell_type": "code",
   "source": [
    "config = {\"configurable\": {\"session_id\": \"abc2\"}}\n",
    "\n",
    "response = with_message_history.invoke(\n",
    "    [HumanMessage(content=\"나는 장연식이야.\")],\n",
    "    config=config\n",
    ")\n",
    "\n",
    "print(response.content)"
   ],
   "id": "d48aee264d655345",
   "outputs": [
    {
     "name": "stdout",
     "output_type": "stream",
     "text": [
      "안녕하세요, 장연식님! 어떻게 도와드릴까요?\n"
     ]
    }
   ],
   "execution_count": 9
  },
  {
   "metadata": {
    "ExecuteTime": {
     "end_time": "2025-10-13T11:12:27.003367Z",
     "start_time": "2025-10-13T11:12:24.895137Z"
    }
   },
   "cell_type": "code",
   "source": [
    "response = with_message_history.invoke(\n",
    "    [HumanMessage(content=\"내 이름이 뭐지?\")],\n",
    "    config=config\n",
    ")\n",
    "\n",
    "print(response.content)"
   ],
   "id": "f36292bd8eee9daf",
   "outputs": [
    {
     "name": "stdout",
     "output_type": "stream",
     "text": [
      "당신의 이름은 장연식입니다. 다른 질문이나 도움이 필요하시면 말씀해 주세요!\n"
     ]
    }
   ],
   "execution_count": 10
  },
  {
   "metadata": {
    "ExecuteTime": {
     "end_time": "2025-10-13T11:14:33.930339Z",
     "start_time": "2025-10-13T11:14:32.078574Z"
    }
   },
   "cell_type": "code",
   "source": [
    "for r in with_message_history.stream(\n",
    "    [HumanMessage(content=\"내가 어느 나라 사람인지 맞춰보고, 그 나라의 국가를 짧게 불러줘.\")],\n",
    "    config=config\n",
    "):\n",
    "  print(r.content, end=\"|\")\n"
   ],
   "id": "f747d36a9ee78033",
   "outputs": [
    {
     "name": "stdout",
     "output_type": "stream",
     "text": [
      "|장|연|식|이라는| 이름|으로| 보|아|,| 한국|에서| 오|신| 분|일| 가능|성이| 높|습니다|.| 그렇|다면| 한국|의| 국가|인| \"|애|국|가|\"|의| 첫| 구|절|을| 불|러|볼|게|요|:\n",
      "\n",
      "|\"|동|해| 물|과| 백|두|산|이| 마|르고| 닳|도록|…\"| \n",
      "\n",
      "|더| 궁|금|한| 점|이나| 다른| 요청|이| 있으|시면| 말씀|해| 주세요|!||"
     ]
    }
   ],
   "execution_count": 11
  },
  {
   "metadata": {},
   "cell_type": "code",
   "outputs": [],
   "execution_count": null,
   "source": "",
   "id": "5157312ac215613"
  }
 ],
 "metadata": {
  "kernelspec": {
   "display_name": "Python 3",
   "language": "python",
   "name": "python3"
  },
  "language_info": {
   "codemirror_mode": {
    "name": "ipython",
    "version": 2
   },
   "file_extension": ".py",
   "mimetype": "text/x-python",
   "name": "python",
   "nbconvert_exporter": "python",
   "pygments_lexer": "ipython2",
   "version": "2.7.6"
  }
 },
 "nbformat": 4,
 "nbformat_minor": 5
}
