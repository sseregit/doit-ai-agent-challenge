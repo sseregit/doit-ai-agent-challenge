{
 "cells": [
  {
   "cell_type": "code",
   "id": "initial_id",
   "metadata": {
    "collapsed": true,
    "ExecuteTime": {
     "end_time": "2025-10-14T11:18:15.617464Z",
     "start_time": "2025-10-14T11:18:15.049670Z"
    }
   },
   "source": [
    "from dotenv import load_dotenv\n",
    "from langchain_core.messages import HumanMessage\n",
    "from langchain_openai import ChatOpenAI\n",
    "\n",
    "load_dotenv()\n",
    "\n",
    "llm = ChatOpenAI(model=\"gpt-4o-mini\")"
   ],
   "outputs": [],
   "execution_count": 1
  },
  {
   "metadata": {
    "ExecuteTime": {
     "end_time": "2025-10-14T11:23:58.503663Z",
     "start_time": "2025-10-14T11:23:58.489808Z"
    }
   },
   "cell_type": "code",
   "source": [
    "from langchain_core.tools import tool\n",
    "from datetime import datetime\n",
    "import pytz\n",
    "\n",
    "\n",
    "@tool\n",
    "def get_current_time(timezone: str, location: str) -> str:\n",
    "  \"\"\" 현재 시각을 반환하는 함수\n",
    "\n",
    "    Args:\n",
    "      timezone (str): 타임존(예: 'Asia/Seoul'). 실제 존재해야 한다.\n",
    "      location (str): 지역명. 타임존은 모든 지명에 대응되지 않으므로 이후 llm 답변 생성에 사용된다.\n",
    "  \"\"\"\n",
    "  tz = pytz.timezone(timezone)\n",
    "  now = datetime.now(tz).strftime(\"%Y-%m-%d %H:%M:%S\")\n",
    "  location_and_local_time = f'{timezone} ({location}) 현재 시각 {now}'\n",
    "  print(location_and_local_time)\n",
    "  return location_and_local_time"
   ],
   "id": "f6b8ad6a901eb43b",
   "outputs": [],
   "execution_count": 2
  },
  {
   "metadata": {
    "ExecuteTime": {
     "end_time": "2025-10-14T11:24:36.505930Z",
     "start_time": "2025-10-14T11:24:36.500391Z"
    }
   },
   "cell_type": "code",
   "source": [
    "tools = [get_current_time, ]\n",
    "tool_dict = {\"get_current_time\": get_current_time, }\n",
    "\n",
    "llm_with_tools = llm.bind_tools(tools)"
   ],
   "id": "fc7ac475ec3cd27e",
   "outputs": [],
   "execution_count": 3
  },
  {
   "metadata": {
    "ExecuteTime": {
     "end_time": "2025-10-14T11:26:06.252797Z",
     "start_time": "2025-10-14T11:26:04.289929Z"
    }
   },
   "cell_type": "code",
   "source": [
    "from langchain_core.messages import SystemMessage\n",
    "\n",
    "messages = [\n",
    "  SystemMessage(\"너는 사용자의 질문에 답변을 하기 위해 tools를 사용할 수 있다.\"),\n",
    "  HumanMessage(\"부산은 지금 몇 시야?\"),\n",
    "]\n",
    "\n",
    "response = llm_with_tools.invoke(messages)\n",
    "messages.append(response)\n",
    "\n",
    "print(messages)"
   ],
   "id": "e665dc872c1b0c9a",
   "outputs": [
    {
     "name": "stdout",
     "output_type": "stream",
     "text": [
      "[SystemMessage(content='너는 사용자의 질문에 답변을 하기 위해 tools를 사용할 수 있다.', additional_kwargs={}, response_metadata={}), HumanMessage(content='부산은 지금 몇 시야?', additional_kwargs={}, response_metadata={}), AIMessage(content='', additional_kwargs={'tool_calls': [{'id': 'call_WM4dwQOufbs6qeiNh0n0yVDP', 'function': {'arguments': '{\"timezone\":\"Asia/Seoul\",\"location\":\"Busan\"}', 'name': 'get_current_time'}, 'type': 'function'}], 'refusal': None}, response_metadata={'token_usage': {'completion_tokens': 23, 'prompt_tokens': 129, 'total_tokens': 152, 'completion_tokens_details': {'accepted_prediction_tokens': 0, 'audio_tokens': 0, 'reasoning_tokens': 0, 'rejected_prediction_tokens': 0}, 'prompt_tokens_details': {'audio_tokens': 0, 'cached_tokens': 0}}, 'model_name': 'gpt-4o-mini-2024-07-18', 'system_fingerprint': 'fp_560af6e559', 'finish_reason': 'tool_calls', 'logprobs': None}, id='run--28f8d386-5209-4cad-b113-588d008530f6-0', tool_calls=[{'name': 'get_current_time', 'args': {'timezone': 'Asia/Seoul', 'location': 'Busan'}, 'id': 'call_WM4dwQOufbs6qeiNh0n0yVDP', 'type': 'tool_call'}], usage_metadata={'input_tokens': 129, 'output_tokens': 23, 'total_tokens': 152, 'input_token_details': {'audio': 0, 'cache_read': 0}, 'output_token_details': {'audio': 0, 'reasoning': 0}})]\n"
     ]
    }
   ],
   "execution_count": 4
  },
  {
   "metadata": {
    "ExecuteTime": {
     "end_time": "2025-10-14T11:28:54.389489Z",
     "start_time": "2025-10-14T11:28:54.362061Z"
    }
   },
   "cell_type": "code",
   "source": [
    "for tool_call in response.tool_calls:\n",
    "  selected_tool = tool_dict[tool_call[\"name\"]]\n",
    "  print(tool_call[\"args\"])\n",
    "  tool_msg = selected_tool.invoke(tool_call)\n",
    "  messages.append(tool_msg)\n",
    "\n",
    "messages"
   ],
   "id": "7890a0538f44fb8a",
   "outputs": [
    {
     "name": "stdout",
     "output_type": "stream",
     "text": [
      "{'timezone': 'Asia/Seoul', 'location': 'Busan'}\n",
      "Asia/Seoul (Busan) 현재 시각 2025-10-14 20:28:54\n"
     ]
    },
    {
     "data": {
      "text/plain": [
       "[SystemMessage(content='너는 사용자의 질문에 답변을 하기 위해 tools를 사용할 수 있다.', additional_kwargs={}, response_metadata={}),\n",
       " HumanMessage(content='부산은 지금 몇 시야?', additional_kwargs={}, response_metadata={}),\n",
       " AIMessage(content='', additional_kwargs={'tool_calls': [{'id': 'call_WM4dwQOufbs6qeiNh0n0yVDP', 'function': {'arguments': '{\"timezone\":\"Asia/Seoul\",\"location\":\"Busan\"}', 'name': 'get_current_time'}, 'type': 'function'}], 'refusal': None}, response_metadata={'token_usage': {'completion_tokens': 23, 'prompt_tokens': 129, 'total_tokens': 152, 'completion_tokens_details': {'accepted_prediction_tokens': 0, 'audio_tokens': 0, 'reasoning_tokens': 0, 'rejected_prediction_tokens': 0}, 'prompt_tokens_details': {'audio_tokens': 0, 'cached_tokens': 0}}, 'model_name': 'gpt-4o-mini-2024-07-18', 'system_fingerprint': 'fp_560af6e559', 'finish_reason': 'tool_calls', 'logprobs': None}, id='run--28f8d386-5209-4cad-b113-588d008530f6-0', tool_calls=[{'name': 'get_current_time', 'args': {'timezone': 'Asia/Seoul', 'location': 'Busan'}, 'id': 'call_WM4dwQOufbs6qeiNh0n0yVDP', 'type': 'tool_call'}], usage_metadata={'input_tokens': 129, 'output_tokens': 23, 'total_tokens': 152, 'input_token_details': {'audio': 0, 'cache_read': 0}, 'output_token_details': {'audio': 0, 'reasoning': 0}}),\n",
       " ToolMessage(content='Asia/Seoul (Busan) 현재 시각 2025-10-14 20:28:54', name='get_current_time', tool_call_id='call_WM4dwQOufbs6qeiNh0n0yVDP')]"
      ]
     },
     "execution_count": 5,
     "metadata": {},
     "output_type": "execute_result"
    }
   ],
   "execution_count": 5
  },
  {
   "metadata": {
    "ExecuteTime": {
     "end_time": "2025-10-14T11:30:07.477170Z",
     "start_time": "2025-10-14T11:30:05.989106Z"
    }
   },
   "cell_type": "code",
   "source": "llm_with_tools.invoke(messages)",
   "id": "b1fe90c4e7f393a9",
   "outputs": [
    {
     "data": {
      "text/plain": [
       "AIMessage(content='부산의 현재 시각은 2025년 10월 14일 20시 28분 54초입니다.', additional_kwargs={'refusal': None}, response_metadata={'token_usage': {'completion_tokens': 29, 'prompt_tokens': 185, 'total_tokens': 214, 'completion_tokens_details': {'accepted_prediction_tokens': 0, 'audio_tokens': 0, 'reasoning_tokens': 0, 'rejected_prediction_tokens': 0}, 'prompt_tokens_details': {'audio_tokens': 0, 'cached_tokens': 0}}, 'model_name': 'gpt-4o-mini-2024-07-18', 'system_fingerprint': 'fp_560af6e559', 'finish_reason': 'stop', 'logprobs': None}, id='run--ec6b0712-32d0-4683-8ff5-698af9eda822-0', usage_metadata={'input_tokens': 185, 'output_tokens': 29, 'total_tokens': 214, 'input_token_details': {'audio': 0, 'cache_read': 0}, 'output_token_details': {'audio': 0, 'reasoning': 0}})"
      ]
     },
     "execution_count": 6,
     "metadata": {},
     "output_type": "execute_result"
    }
   ],
   "execution_count": 6
  },
  {
   "metadata": {
    "ExecuteTime": {
     "end_time": "2025-10-14T11:32:35.277984Z",
     "start_time": "2025-10-14T11:32:35.274498Z"
    }
   },
   "cell_type": "code",
   "source": [
    "from pydantic import BaseModel, Field\n",
    "\n",
    "\n",
    "class StockHistoryInput(BaseModel):\n",
    "  ticker: str = Field(..., title=\"주식 코드\", description=\"주식 코드 (예: AAPL)\")\n",
    "  period: str = Field(..., title=\"기간\", description=\"주식 데이터 조회 기간 (예: 1d, 1mo, 1y)\")"
   ],
   "id": "b75f75b80e0d7697",
   "outputs": [],
   "execution_count": 7
  },
  {
   "metadata": {
    "ExecuteTime": {
     "end_time": "2025-10-14T11:35:27.190270Z",
     "start_time": "2025-10-14T11:35:25.991984Z"
    }
   },
   "cell_type": "code",
   "source": [
    "import yfinance as yf\n",
    "\n",
    "\n",
    "@tool\n",
    "def get_yf_stock_history(stock_history_input: StockHistoryInput) -> str:\n",
    "  \"\"\" 주식 종목의 가격 데이터를 조회하는 함수\"\"\"\n",
    "  stock = yf.Ticker(stock_history_input.ticker)\n",
    "  history = stock.history(period=stock_history_input.period)\n",
    "  history_md = history.to_markdown()\n",
    "  return history_md\n",
    "\n",
    "\n",
    "tools = [get_current_time, get_yf_stock_history, ]\n",
    "tool_dict = {\"get_current_time\": get_current_time, \"get_yf_stock_history\": get_yf_stock_history, }\n",
    "\n",
    "llm_with_tools = llm.bind_tools(tools)"
   ],
   "id": "e92d52fc078a5c46",
   "outputs": [],
   "execution_count": 8
  },
  {
   "metadata": {
    "ExecuteTime": {
     "end_time": "2025-10-14T11:36:12.213059Z",
     "start_time": "2025-10-14T11:36:10.096668Z"
    }
   },
   "cell_type": "code",
   "source": [
    "messages.append(HumanMessage(\"테슬라는 한 달 전에 비해 주가가 올랐나 내렸나?\"))\n",
    "\n",
    "response = llm_with_tools.invoke(messages)\n",
    "print(response)\n",
    "messages.append(response)"
   ],
   "id": "5c112047bfb450b3",
   "outputs": [
    {
     "name": "stdout",
     "output_type": "stream",
     "text": [
      "content='' additional_kwargs={'tool_calls': [{'id': 'call_lNctHDM8b8VtONpzgtrakTbP', 'function': {'arguments': '{\"stock_history_input\":{\"ticker\":\"TSLA\",\"period\":\"1mo\"}}', 'name': 'get_yf_stock_history'}, 'type': 'function'}], 'refusal': None} response_metadata={'token_usage': {'completion_tokens': 27, 'prompt_tokens': 276, 'total_tokens': 303, 'completion_tokens_details': {'accepted_prediction_tokens': 0, 'audio_tokens': 0, 'reasoning_tokens': 0, 'rejected_prediction_tokens': 0}, 'prompt_tokens_details': {'audio_tokens': 0, 'cached_tokens': 0}}, 'model_name': 'gpt-4o-mini-2024-07-18', 'system_fingerprint': 'fp_560af6e559', 'finish_reason': 'tool_calls', 'logprobs': None} id='run--d8d2f601-2e8e-489e-9fe5-4dac9c850180-0' tool_calls=[{'name': 'get_yf_stock_history', 'args': {'stock_history_input': {'ticker': 'TSLA', 'period': '1mo'}}, 'id': 'call_lNctHDM8b8VtONpzgtrakTbP', 'type': 'tool_call'}] usage_metadata={'input_tokens': 276, 'output_tokens': 27, 'total_tokens': 303, 'input_token_details': {'audio': 0, 'cache_read': 0}, 'output_token_details': {'audio': 0, 'reasoning': 0}}\n"
     ]
    }
   ],
   "execution_count": 9
  },
  {
   "metadata": {
    "ExecuteTime": {
     "end_time": "2025-10-14T11:37:43.102136Z",
     "start_time": "2025-10-14T11:37:42.297422Z"
    }
   },
   "cell_type": "code",
   "source": [
    "for tool_call in response.tool_calls:\n",
    "  selected_tool = tool_dict[tool_call[\"name\"]]\n",
    "  print(tool_call[\"args\"])\n",
    "  tool_msg = selected_tool.invoke(tool_call)\n",
    "  messages.append(tool_msg)\n",
    "  print(tool_msg)"
   ],
   "id": "44a8a4eeef2ab070",
   "outputs": [
    {
     "name": "stdout",
     "output_type": "stream",
     "text": [
      "{'stock_history_input': {'ticker': 'TSLA', 'period': '1mo'}}\n",
      "content='| Date                      |   Open |   High |    Low |   Close |      Volume |   Dividends |   Stock Splits |\\n|:--------------------------|-------:|-------:|-------:|--------:|------------:|------------:|---------------:|\\n| 2025-09-15 00:00:00-04:00 | 423.13 | 425.7  | 402.43 |  410.04 | 1.63824e+08 |           0 |              0 |\\n| 2025-09-16 00:00:00-04:00 | 414.5  | 423.25 | 411.43 |  421.62 | 1.04286e+08 |           0 |              0 |\\n| 2025-09-17 00:00:00-04:00 | 415.75 | 428.31 | 409.67 |  425.86 | 1.06134e+08 |           0 |              0 |\\n| 2025-09-18 00:00:00-04:00 | 428.87 | 432.22 | 416.56 |  416.85 | 9.04545e+07 |           0 |              0 |\\n| 2025-09-19 00:00:00-04:00 | 421.82 | 429.47 | 421.72 |  426.07 | 9.3131e+07  |           0 |              0 |\\n| 2025-09-22 00:00:00-04:00 | 431.11 | 444.98 | 429.13 |  434.21 | 9.71088e+07 |           0 |              0 |\\n| 2025-09-23 00:00:00-04:00 | 439.88 | 440.97 | 423.72 |  425.85 | 8.34227e+07 |           0 |              0 |\\n| 2025-09-24 00:00:00-04:00 | 429.83 | 444.21 | 429.03 |  442.79 | 9.31336e+07 |           0 |              0 |\\n| 2025-09-25 00:00:00-04:00 | 435.24 | 435.35 | 419.08 |  423.39 | 9.67464e+07 |           0 |              0 |\\n| 2025-09-26 00:00:00-04:00 | 428.3  | 440.47 | 421.02 |  440.4  | 1.01628e+08 |           0 |              0 |\\n| 2025-09-29 00:00:00-04:00 | 444.35 | 450.98 | 439.5  |  443.21 | 7.94915e+07 |           0 |              0 |\\n| 2025-09-30 00:00:00-04:00 | 441.52 | 445    | 433.12 |  444.72 | 7.4358e+07  |           0 |              0 |\\n| 2025-10-01 00:00:00-04:00 | 443.8  | 462.29 | 440.75 |  459.46 | 9.81223e+07 |           0 |              0 |\\n| 2025-10-02 00:00:00-04:00 | 470.54 | 470.75 | 435.57 |  436    | 1.37009e+08 |           0 |              0 |\\n| 2025-10-03 00:00:00-04:00 | 443.29 | 446.77 | 416.58 |  429.83 | 1.33188e+08 |           0 |              0 |\\n| 2025-10-06 00:00:00-04:00 | 440.75 | 453.55 | 436.69 |  453.25 | 8.53249e+07 |           0 |              0 |\\n| 2025-10-07 00:00:00-04:00 | 447.82 | 452.68 | 432.45 |  433.09 | 1.02296e+08 |           0 |              0 |\\n| 2025-10-08 00:00:00-04:00 | 437.57 | 441.33 | 425.23 |  438.69 | 7.11921e+07 |           0 |              0 |\\n| 2025-10-09 00:00:00-04:00 | 431.81 | 436.35 | 426.18 |  435.54 | 6.93399e+07 |           0 |              0 |\\n| 2025-10-10 00:00:00-04:00 | 436.54 | 443.13 | 411.45 |  413.49 | 1.12108e+08 |           0 |              0 |\\n| 2025-10-13 00:00:00-04:00 | 423.53 | 436.89 | 419.7  |  435.9  | 7.93338e+07 |           0 |              0 |' name='get_yf_stock_history' tool_call_id='call_lNctHDM8b8VtONpzgtrakTbP'\n"
     ]
    }
   ],
   "execution_count": 10
  },
  {
   "metadata": {
    "ExecuteTime": {
     "end_time": "2025-10-14T11:38:00.099859Z",
     "start_time": "2025-10-14T11:37:57.548082Z"
    }
   },
   "cell_type": "code",
   "source": "llm_with_tools.invoke(messages)",
   "id": "b5c35806f1bf6d1d",
   "outputs": [
    {
     "data": {
      "text/plain": [
       "AIMessage(content='한 달 전인 2025년 9월 15일 테슬라(TSLA)의 주가는 410.04달러로 마감했습니다. 현재 주가는 435.90달러입니다. \\n\\n따라서, 테슬라의 주가는 한 달 전보다 올랐습니다.', additional_kwargs={'refusal': None}, response_metadata={'token_usage': {'completion_tokens': 66, 'prompt_tokens': 1574, 'total_tokens': 1640, 'completion_tokens_details': {'accepted_prediction_tokens': 0, 'audio_tokens': 0, 'reasoning_tokens': 0, 'rejected_prediction_tokens': 0}, 'prompt_tokens_details': {'audio_tokens': 0, 'cached_tokens': 0}}, 'model_name': 'gpt-4o-mini-2024-07-18', 'system_fingerprint': 'fp_560af6e559', 'finish_reason': 'stop', 'logprobs': None}, id='run--e5ef9834-27d4-44d5-aa28-78e3412b01c0-0', usage_metadata={'input_tokens': 1574, 'output_tokens': 66, 'total_tokens': 1640, 'input_token_details': {'audio': 0, 'cache_read': 0}, 'output_token_details': {'audio': 0, 'reasoning': 0}})"
      ]
     },
     "execution_count": 11,
     "metadata": {},
     "output_type": "execute_result"
    }
   ],
   "execution_count": 11
  },
  {
   "metadata": {
    "ExecuteTime": {
     "end_time": "2025-10-14T11:41:41.680096Z",
     "start_time": "2025-10-14T11:41:38.261771Z"
    }
   },
   "cell_type": "code",
   "source": [
    "for c in llm.stream([HumanMessage(\"현재 Kpop 차트 1위곡\")]):\n",
    "  print(c.content, end='|')"
   ],
   "id": "ab645342c7ef5a1a",
   "outputs": [
    {
     "name": "stdout",
     "output_type": "stream",
     "text": [
      "|현재| K|-pop| 차|트| |1|위| 곡|에| 대한| 정보|는| 실|시간|으로| 변|동|되|므로|,| 정확|한| 정보를| 제공|하기| 위해|서는| 최신| 음악| 차|트를| 확인|해야| 합니다|.| 주요| K|-pop| 차|트|인| 가|온| 차|트|나| Billboard| K|-pop| 차|트를| 참고|하|시면| 최근| |1|위| 곡|을| 확인|할| 수| 있습니다|.| 추가|적으로| 궁|금|한| 내용|이나| 다른| 질문|이| 있으|시면| 말씀|해| 주세요|!||"
     ]
    }
   ],
   "execution_count": 12
  },
  {
   "metadata": {
    "ExecuteTime": {
     "end_time": "2025-10-14T11:45:44.979929Z",
     "start_time": "2025-10-14T11:45:43.102828Z"
    }
   },
   "cell_type": "code",
   "source": [
    "messages = [\n",
    "  SystemMessage(\"너는 사용자의 질문에 답변을 하기 위해 tools를 사용할 수 있다.\"),\n",
    "  HumanMessage(\"부산은 지금 몇 시야?\"),\n",
    "]\n",
    "\n",
    "response = llm_with_tools.stream(messages)\n",
    "\n",
    "is_first = True\n",
    "for chunk in response:\n",
    "  print(\"chunk type: \", type(chunk))\n",
    "  if is_first:\n",
    "    is_first = False\n",
    "    gathered = chunk\n",
    "  else:\n",
    "    gathered += chunk\n",
    "\n",
    "  print(\"content : \", gathered.content, \"tool_call_chunk\", gathered.tool_calls)\n",
    "\n",
    "messages.append(gathered)"
   ],
   "id": "480d0e22602fbdf3",
   "outputs": [
    {
     "name": "stdout",
     "output_type": "stream",
     "text": [
      "chunk type:  <class 'langchain_core.messages.ai.AIMessageChunk'>\n",
      "content :   tool_call_chunk [{'name': 'get_current_time', 'args': {}, 'id': 'call_eHCcRzMqNIZ24ywQl6YX22XK', 'type': 'tool_call'}]\n",
      "chunk type:  <class 'langchain_core.messages.ai.AIMessageChunk'>\n",
      "content :   tool_call_chunk [{'name': 'get_current_time', 'args': {}, 'id': 'call_eHCcRzMqNIZ24ywQl6YX22XK', 'type': 'tool_call'}]\n",
      "chunk type:  <class 'langchain_core.messages.ai.AIMessageChunk'>\n",
      "content :   tool_call_chunk [{'name': 'get_current_time', 'args': {}, 'id': 'call_eHCcRzMqNIZ24ywQl6YX22XK', 'type': 'tool_call'}]\n",
      "chunk type:  <class 'langchain_core.messages.ai.AIMessageChunk'>\n",
      "content :   tool_call_chunk [{'name': 'get_current_time', 'args': {'timezone': ''}, 'id': 'call_eHCcRzMqNIZ24ywQl6YX22XK', 'type': 'tool_call'}]\n",
      "chunk type:  <class 'langchain_core.messages.ai.AIMessageChunk'>\n",
      "content :   tool_call_chunk [{'name': 'get_current_time', 'args': {'timezone': 'Asia'}, 'id': 'call_eHCcRzMqNIZ24ywQl6YX22XK', 'type': 'tool_call'}]\n",
      "chunk type:  <class 'langchain_core.messages.ai.AIMessageChunk'>\n",
      "content :   tool_call_chunk [{'name': 'get_current_time', 'args': {'timezone': 'Asia/'}, 'id': 'call_eHCcRzMqNIZ24ywQl6YX22XK', 'type': 'tool_call'}]\n",
      "chunk type:  <class 'langchain_core.messages.ai.AIMessageChunk'>\n",
      "content :   tool_call_chunk [{'name': 'get_current_time', 'args': {'timezone': 'Asia/Se'}, 'id': 'call_eHCcRzMqNIZ24ywQl6YX22XK', 'type': 'tool_call'}]\n",
      "chunk type:  <class 'langchain_core.messages.ai.AIMessageChunk'>\n",
      "content :   tool_call_chunk [{'name': 'get_current_time', 'args': {'timezone': 'Asia/Seoul'}, 'id': 'call_eHCcRzMqNIZ24ywQl6YX22XK', 'type': 'tool_call'}]\n",
      "chunk type:  <class 'langchain_core.messages.ai.AIMessageChunk'>\n",
      "content :   tool_call_chunk [{'name': 'get_current_time', 'args': {'timezone': 'Asia/Seoul'}, 'id': 'call_eHCcRzMqNIZ24ywQl6YX22XK', 'type': 'tool_call'}]\n",
      "chunk type:  <class 'langchain_core.messages.ai.AIMessageChunk'>\n",
      "content :   tool_call_chunk [{'name': 'get_current_time', 'args': {'timezone': 'Asia/Seoul'}, 'id': 'call_eHCcRzMqNIZ24ywQl6YX22XK', 'type': 'tool_call'}]\n",
      "chunk type:  <class 'langchain_core.messages.ai.AIMessageChunk'>\n",
      "content :   tool_call_chunk [{'name': 'get_current_time', 'args': {'timezone': 'Asia/Seoul', 'location': ''}, 'id': 'call_eHCcRzMqNIZ24ywQl6YX22XK', 'type': 'tool_call'}]\n",
      "chunk type:  <class 'langchain_core.messages.ai.AIMessageChunk'>\n",
      "content :   tool_call_chunk [{'name': 'get_current_time', 'args': {'timezone': 'Asia/Seoul', 'location': '부'}, 'id': 'call_eHCcRzMqNIZ24ywQl6YX22XK', 'type': 'tool_call'}]\n",
      "chunk type:  <class 'langchain_core.messages.ai.AIMessageChunk'>\n",
      "content :   tool_call_chunk [{'name': 'get_current_time', 'args': {'timezone': 'Asia/Seoul', 'location': '부산'}, 'id': 'call_eHCcRzMqNIZ24ywQl6YX22XK', 'type': 'tool_call'}]\n",
      "chunk type:  <class 'langchain_core.messages.ai.AIMessageChunk'>\n",
      "content :   tool_call_chunk [{'name': 'get_current_time', 'args': {'timezone': 'Asia/Seoul', 'location': '부산'}, 'id': 'call_eHCcRzMqNIZ24ywQl6YX22XK', 'type': 'tool_call'}]\n",
      "chunk type:  <class 'langchain_core.messages.ai.AIMessageChunk'>\n",
      "content :   tool_call_chunk [{'name': 'get_current_time', 'args': {'timezone': 'Asia/Seoul', 'location': '부산'}, 'id': 'call_eHCcRzMqNIZ24ywQl6YX22XK', 'type': 'tool_call'}]\n"
     ]
    }
   ],
   "execution_count": 14
  },
  {
   "metadata": {
    "ExecuteTime": {
     "end_time": "2025-10-14T11:46:09.353575Z",
     "start_time": "2025-10-14T11:46:09.349929Z"
    }
   },
   "cell_type": "code",
   "source": "gathered",
   "id": "2ed9c0d458bae082",
   "outputs": [
    {
     "data": {
      "text/plain": [
       "AIMessageChunk(content='', additional_kwargs={'tool_calls': [{'index': 0, 'id': 'call_eHCcRzMqNIZ24ywQl6YX22XK', 'function': {'arguments': '{\"timezone\":\"Asia/Seoul\",\"location\":\"부산\"}', 'name': 'get_current_time'}, 'type': 'function'}]}, response_metadata={'finish_reason': 'tool_calls', 'model_name': 'gpt-4o-mini-2024-07-18', 'system_fingerprint': 'fp_560af6e559'}, id='run--140eac43-4bc1-4aad-b259-0e3c6b6b17e9', tool_calls=[{'name': 'get_current_time', 'args': {'timezone': 'Asia/Seoul', 'location': '부산'}, 'id': 'call_eHCcRzMqNIZ24ywQl6YX22XK', 'type': 'tool_call'}], tool_call_chunks=[{'name': 'get_current_time', 'args': '{\"timezone\":\"Asia/Seoul\",\"location\":\"부산\"}', 'id': 'call_eHCcRzMqNIZ24ywQl6YX22XK', 'index': 0, 'type': 'tool_call_chunk'}])"
      ]
     },
     "execution_count": 15,
     "metadata": {},
     "output_type": "execute_result"
    }
   ],
   "execution_count": 15
  },
  {
   "metadata": {
    "ExecuteTime": {
     "end_time": "2025-10-14T11:47:41.402184Z",
     "start_time": "2025-10-14T11:47:41.397064Z"
    }
   },
   "cell_type": "code",
   "source": [
    "for tool_call in gathered.tool_calls:\n",
    "  selected_tool = tool_dict[tool_call[\"name\"]]\n",
    "  print(tool_call[\"args\"])\n",
    "  tool_msg = selected_tool.invoke(tool_call)\n",
    "  messages.append(tool_msg)\n",
    "\n",
    "messages"
   ],
   "id": "b34921c61cba0603",
   "outputs": [
    {
     "name": "stdout",
     "output_type": "stream",
     "text": [
      "{'timezone': 'Asia/Seoul', 'location': '부산'}\n",
      "Asia/Seoul (부산) 현재 시각 2025-10-14 20:47:41\n"
     ]
    },
    {
     "data": {
      "text/plain": [
       "[SystemMessage(content='너는 사용자의 질문에 답변을 하기 위해 tools를 사용할 수 있다.', additional_kwargs={}, response_metadata={}),\n",
       " HumanMessage(content='부산은 지금 몇 시야?', additional_kwargs={}, response_metadata={}),\n",
       " AIMessageChunk(content='', additional_kwargs={'tool_calls': [{'index': 0, 'id': 'call_eHCcRzMqNIZ24ywQl6YX22XK', 'function': {'arguments': '{\"timezone\":\"Asia/Seoul\",\"location\":\"부산\"}', 'name': 'get_current_time'}, 'type': 'function'}]}, response_metadata={'finish_reason': 'tool_calls', 'model_name': 'gpt-4o-mini-2024-07-18', 'system_fingerprint': 'fp_560af6e559'}, id='run--140eac43-4bc1-4aad-b259-0e3c6b6b17e9', tool_calls=[{'name': 'get_current_time', 'args': {'timezone': 'Asia/Seoul', 'location': '부산'}, 'id': 'call_eHCcRzMqNIZ24ywQl6YX22XK', 'type': 'tool_call'}], tool_call_chunks=[{'name': 'get_current_time', 'args': '{\"timezone\":\"Asia/Seoul\",\"location\":\"부산\"}', 'id': 'call_eHCcRzMqNIZ24ywQl6YX22XK', 'index': 0, 'type': 'tool_call_chunk'}]),\n",
       " ToolMessage(content='Asia/Seoul (부산) 현재 시각 2025-10-14 20:47:41', name='get_current_time', tool_call_id='call_eHCcRzMqNIZ24ywQl6YX22XK')]"
      ]
     },
     "execution_count": 16,
     "metadata": {},
     "output_type": "execute_result"
    }
   ],
   "execution_count": 16
  },
  {
   "metadata": {
    "ExecuteTime": {
     "end_time": "2025-10-14T11:48:30.668287Z",
     "start_time": "2025-10-14T11:48:28.972234Z"
    }
   },
   "cell_type": "code",
   "source": [
    "for c in llm_with_tools.stream(messages):\n",
    "  print(c.content, end='|')"
   ],
   "id": "bd061c8ec34ff518",
   "outputs": [
    {
     "name": "stdout",
     "output_type": "stream",
     "text": [
      "|부|산|은| 지금| |202|5|년| |10|월| |14|일| |20|시| |47|분|입니다|.||"
     ]
    }
   ],
   "execution_count": 17
  },
  {
   "metadata": {},
   "cell_type": "code",
   "outputs": [],
   "execution_count": null,
   "source": "",
   "id": "c66c9896130d4edb"
  }
 ],
 "metadata": {
  "kernelspec": {
   "display_name": "Python 3",
   "language": "python",
   "name": "python3"
  },
  "language_info": {
   "codemirror_mode": {
    "name": "ipython",
    "version": 2
   },
   "file_extension": ".py",
   "mimetype": "text/x-python",
   "name": "python",
   "nbconvert_exporter": "python",
   "pygments_lexer": "ipython2",
   "version": "2.7.6"
  }
 },
 "nbformat": 4,
 "nbformat_minor": 5
}
