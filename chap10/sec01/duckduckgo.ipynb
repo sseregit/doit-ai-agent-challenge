{
 "cells": [
  {
   "cell_type": "code",
   "id": "initial_id",
   "metadata": {
    "collapsed": true,
    "ExecuteTime": {
     "end_time": "2025-10-16T11:23:44.221235Z",
     "start_time": "2025-10-16T11:23:41.764549Z"
    }
   },
   "source": [
    "from langchain_openai import ChatOpenAI\n",
    "from dotenv import load_dotenv\n",
    "\n",
    "load_dotenv()\n",
    "\n",
    "llm = ChatOpenAI(model=\"gpt-4o-mini\")\n",
    "\n",
    "llm.invoke(\"25-26시즌 웨스트브룩 팀은 어디야?\")"
   ],
   "outputs": [
    {
     "data": {
      "text/plain": [
       "AIMessage(content='2025-2026 시즌에 러셀 웨스트브룩은 로스앤젤레스 클리퍼스에서 활동할 것으로 예상됩니다. 2023-2024 시즌에서 클리퍼스와 계약을 맺었으며, 이후의 시즌에서도 계속 팀에 남을 가능성이 큽니다. 하지만 선수 이동이나 계약 상황은 변동성이 있으니, 최신 정보를 확인하는 것이 좋습니다.', additional_kwargs={'refusal': None}, response_metadata={'token_usage': {'completion_tokens': 89, 'prompt_tokens': 23, 'total_tokens': 112, 'completion_tokens_details': {'accepted_prediction_tokens': 0, 'audio_tokens': 0, 'reasoning_tokens': 0, 'rejected_prediction_tokens': 0}, 'prompt_tokens_details': {'audio_tokens': 0, 'cached_tokens': 0}}, 'model_name': 'gpt-4o-mini-2024-07-18', 'system_fingerprint': 'fp_560af6e559', 'finish_reason': 'stop', 'logprobs': None}, id='run--47ef4c94-51eb-4ca8-8458-e52370300aca-0', usage_metadata={'input_tokens': 23, 'output_tokens': 89, 'total_tokens': 112, 'input_token_details': {'audio': 0, 'cache_read': 0}, 'output_token_details': {'audio': 0, 'reasoning': 0}})"
      ]
     },
     "execution_count": 10,
     "metadata": {},
     "output_type": "execute_result"
    }
   ],
   "execution_count": 10
  },
  {
   "metadata": {
    "ExecuteTime": {
     "end_time": "2025-10-16T11:23:44.785537Z",
     "start_time": "2025-10-16T11:23:44.235010Z"
    }
   },
   "cell_type": "code",
   "source": "%pip install ddgs duckduckgo_search",
   "id": "23f63d411342188a",
   "outputs": [
    {
     "name": "stderr",
     "output_type": "stream",
     "text": [
      "/Users/yeonsigjang/.local/share/uv/python/cpython-3.12.11-macos-aarch64-none/lib/python3.12/pty.py:95: DeprecationWarning: This process (pid=5861) is multi-threaded, use of forkpty() may lead to deadlocks in the child.\n",
      "  pid, fd = os.forkpty()\n"
     ]
    },
    {
     "name": "stdout",
     "output_type": "stream",
     "text": [
      "Requirement already satisfied: ddgs in /Users/yeonsigjang/ideaProject/gpt_agent_2025_book_pip/.venv/lib/python3.12/site-packages (9.6.1)\r\n",
      "Requirement already satisfied: duckduckgo_search in /Users/yeonsigjang/ideaProject/gpt_agent_2025_book_pip/.venv/lib/python3.12/site-packages (8.1.1)\r\n",
      "Requirement already satisfied: click>=8.1.8 in /Users/yeonsigjang/ideaProject/gpt_agent_2025_book_pip/.venv/lib/python3.12/site-packages (from ddgs) (8.3.0)\r\n",
      "Requirement already satisfied: primp>=0.15.0 in /Users/yeonsigjang/ideaProject/gpt_agent_2025_book_pip/.venv/lib/python3.12/site-packages (from ddgs) (0.15.0)\r\n",
      "Requirement already satisfied: lxml>=6.0.0 in /Users/yeonsigjang/ideaProject/gpt_agent_2025_book_pip/.venv/lib/python3.12/site-packages (from ddgs) (6.0.2)\r\n",
      "Requirement already satisfied: httpx>=0.28.1 in /Users/yeonsigjang/ideaProject/gpt_agent_2025_book_pip/.venv/lib/python3.12/site-packages (from httpx[brotli,http2,socks]>=0.28.1->ddgs) (0.28.1)\r\n",
      "Requirement already satisfied: anyio in /Users/yeonsigjang/ideaProject/gpt_agent_2025_book_pip/.venv/lib/python3.12/site-packages (from httpx>=0.28.1->httpx[brotli,http2,socks]>=0.28.1->ddgs) (4.11.0)\r\n",
      "Requirement already satisfied: certifi in /Users/yeonsigjang/ideaProject/gpt_agent_2025_book_pip/.venv/lib/python3.12/site-packages (from httpx>=0.28.1->httpx[brotli,http2,socks]>=0.28.1->ddgs) (2025.8.3)\r\n",
      "Requirement already satisfied: httpcore==1.* in /Users/yeonsigjang/ideaProject/gpt_agent_2025_book_pip/.venv/lib/python3.12/site-packages (from httpx>=0.28.1->httpx[brotli,http2,socks]>=0.28.1->ddgs) (1.0.9)\r\n",
      "Requirement already satisfied: idna in /Users/yeonsigjang/ideaProject/gpt_agent_2025_book_pip/.venv/lib/python3.12/site-packages (from httpx>=0.28.1->httpx[brotli,http2,socks]>=0.28.1->ddgs) (3.10)\r\n",
      "Requirement already satisfied: h11>=0.16 in /Users/yeonsigjang/ideaProject/gpt_agent_2025_book_pip/.venv/lib/python3.12/site-packages (from httpcore==1.*->httpx>=0.28.1->httpx[brotli,http2,socks]>=0.28.1->ddgs) (0.16.0)\r\n",
      "Requirement already satisfied: brotli in /Users/yeonsigjang/ideaProject/gpt_agent_2025_book_pip/.venv/lib/python3.12/site-packages (from httpx[brotli,http2,socks]>=0.28.1->ddgs) (1.1.0)\r\n",
      "Requirement already satisfied: h2<5,>=3 in /Users/yeonsigjang/ideaProject/gpt_agent_2025_book_pip/.venv/lib/python3.12/site-packages (from httpx[brotli,http2,socks]>=0.28.1->ddgs) (4.3.0)\r\n",
      "Requirement already satisfied: socksio==1.* in /Users/yeonsigjang/ideaProject/gpt_agent_2025_book_pip/.venv/lib/python3.12/site-packages (from httpx[brotli,http2,socks]>=0.28.1->ddgs) (1.0.0)\r\n",
      "Requirement already satisfied: hyperframe<7,>=6.1 in /Users/yeonsigjang/ideaProject/gpt_agent_2025_book_pip/.venv/lib/python3.12/site-packages (from h2<5,>=3->httpx[brotli,http2,socks]>=0.28.1->ddgs) (6.1.0)\r\n",
      "Requirement already satisfied: hpack<5,>=4.1 in /Users/yeonsigjang/ideaProject/gpt_agent_2025_book_pip/.venv/lib/python3.12/site-packages (from h2<5,>=3->httpx[brotli,http2,socks]>=0.28.1->ddgs) (4.1.0)\r\n",
      "Requirement already satisfied: sniffio>=1.1 in /Users/yeonsigjang/ideaProject/gpt_agent_2025_book_pip/.venv/lib/python3.12/site-packages (from anyio->httpx>=0.28.1->httpx[brotli,http2,socks]>=0.28.1->ddgs) (1.3.1)\r\n",
      "Requirement already satisfied: typing_extensions>=4.5 in /Users/yeonsigjang/ideaProject/gpt_agent_2025_book_pip/.venv/lib/python3.12/site-packages (from anyio->httpx>=0.28.1->httpx[brotli,http2,socks]>=0.28.1->ddgs) (4.15.0)\r\n",
      "\r\n",
      "\u001B[1m[\u001B[0m\u001B[34;49mnotice\u001B[0m\u001B[1;39;49m]\u001B[0m\u001B[39;49m A new release of pip is available: \u001B[0m\u001B[31;49m24.3.1\u001B[0m\u001B[39;49m -> \u001B[0m\u001B[32;49m25.2\u001B[0m\r\n",
      "\u001B[1m[\u001B[0m\u001B[34;49mnotice\u001B[0m\u001B[1;39;49m]\u001B[0m\u001B[39;49m To update, run: \u001B[0m\u001B[32;49mpip install --upgrade pip\u001B[0m\r\n",
      "Note: you may need to restart the kernel to use updated packages.\n"
     ]
    }
   ],
   "execution_count": 11
  },
  {
   "metadata": {
    "ExecuteTime": {
     "end_time": "2025-10-16T11:23:44.979573Z",
     "start_time": "2025-10-16T11:23:44.798650Z"
    }
   },
   "cell_type": "code",
   "source": [
    "from langchain_community.tools import DuckDuckGoSearchResults\n",
    "\n",
    "search = DuckDuckGoSearchResults(results_separator=';\\n')\n",
    "docs = search.invoke(\"25-26시즌 웨스트브룩 팀은 어디야?\")\n",
    "\n",
    "print(docs)"
   ],
   "id": "5a72d5652b4274bf",
   "outputs": [
    {
     "name": "stdout",
     "output_type": "stream",
     "text": [
      "snippet: 2 days ago · 3、100英寸大尺寸电视 雷鸟 100MAX 25款 100英寸 京东编码：100149243096 国补价格：6799 雷鸟100MAX25款是同价位中参数配置相对 …, title: 2025电视机推荐+选购指南-双11更新（选购要点，产品型号，品牌 ..., link: https://www.zhihu.com/tardis/bd/art/265075724;\n",
      "snippet: 2 days ago · 从相关数据可以看到，随着华为手机5G芯片受阻的持续，2023年华为手机的份额已经逐渐没落，其他国产品牌蜂拥而上。这两年OPPO、vivo和 …, title: 2025年10月哪一款手机性价比高？全品牌、全价位手机推荐与选购 ..., link: https://www.zhihu.com/tardis/zm/art/181591457;\n",
      "snippet: 1080P/2K/4K分辨率，以RTX 5050为基准（25款主流游戏测试成绩取平均值） 数据来源于：TechPowerUp 桌面端显卡天梯图： 作者：秋刀鱼半藏 （原帖地 …, title: 2025年 10月 显卡天梯图（更新RTX 5090Dv2&RX 9060）, link: https://www.zhihu.com/tardis/zm/art/294283384;\n",
      "snippet: 2025年了，要不要升级win11？ 或者说：25年了用win10会少什么功能/特性？ 显示全部 关注者 282 被浏览, title: 2025年了，要不要升级win11？ - 知乎, link: https://www.zhihu.com/question/8521605198\n"
     ]
    },
    {
     "name": "stderr",
     "output_type": "stream",
     "text": [
      "/Users/yeonsigjang/ideaProject/gpt_agent_2025_book_pip/.venv/lib/python3.12/site-packages/langchain_community/utilities/duckduckgo_search.py:63: RuntimeWarning: This package (`duckduckgo_search`) has been renamed to `ddgs`! Use `pip install ddgs` instead.\n",
      "  with DDGS() as ddgs:\n",
      "/Users/yeonsigjang/ideaProject/gpt_agent_2025_book_pip/.venv/lib/python3.12/site-packages/langchain_community/utilities/duckduckgo_search.py:64: UserWarning: backend='api' is deprecated, using backend='auto'\n",
      "  ddgs_gen = ddgs.text(\n"
     ]
    }
   ],
   "execution_count": 12
  },
  {
   "metadata": {
    "ExecuteTime": {
     "end_time": "2025-10-16T11:23:44.988148Z",
     "start_time": "2025-10-16T11:23:44.985129Z"
    }
   },
   "cell_type": "code",
   "source": [
    "from langchain_core.prompts import ChatPromptTemplate, MessagesPlaceholder\n",
    "\n",
    "question_answering_prompt = ChatPromptTemplate.from_messages([\n",
    "  (\"system\", \"아래 context에 기반하여 사용자의 질문에 답변하라.:\\n\\n{context}\"),\n",
    "  MessagesPlaceholder(variable_name=\"messages\"),\n",
    "])\n",
    "\n",
    "document_chain = question_answering_prompt | llm"
   ],
   "id": "6508c9d4e009ed0",
   "outputs": [],
   "execution_count": 13
  },
  {
   "metadata": {
    "ExecuteTime": {
     "end_time": "2025-10-16T11:23:47.392594Z",
     "start_time": "2025-10-16T11:23:45.018632Z"
    }
   },
   "cell_type": "code",
   "source": [
    "from langchain.memory import ChatMessageHistory\n",
    "\n",
    "chat_history = ChatMessageHistory()\n",
    "\n",
    "chat_history.add_user_message(\"25-26시즌 웨스트브룩 팀은 어디야?\")\n",
    "\n",
    "answer = document_chain.invoke({\n",
    "  \"messages\": chat_history.messages,\n",
    "  \"context\": docs,\n",
    "})\n",
    "\n",
    "chat_history.add_ai_message(answer)\n",
    "\n",
    "print(answer)"
   ],
   "id": "968e1c181795512f",
   "outputs": [
    {
     "name": "stdout",
     "output_type": "stream",
     "text": [
      "content='현재로서는 2025-2026 시즌에 웨스트브룩이 어떤 팀에서 활약할지는 확정되지 않았습니다. 선수의 팀은 이적 시장이나 계약 상황에 따라 변동될 수 있으므로, 웨스트브룩의 최신 소식이나 이적 관련 뉴스를 확인하는 것이 좋습니다.' additional_kwargs={'refusal': None} response_metadata={'token_usage': {'completion_tokens': 72, 'prompt_tokens': 442, 'total_tokens': 514, 'completion_tokens_details': {'accepted_prediction_tokens': 0, 'audio_tokens': 0, 'reasoning_tokens': 0, 'rejected_prediction_tokens': 0}, 'prompt_tokens_details': {'audio_tokens': 0, 'cached_tokens': 0}}, 'model_name': 'gpt-4o-mini-2024-07-18', 'system_fingerprint': 'fp_560af6e559', 'finish_reason': 'stop', 'logprobs': None} id='run--3d504a7c-b254-4fc8-ba29-28dfcc7abf1f-0' usage_metadata={'input_tokens': 442, 'output_tokens': 72, 'total_tokens': 514, 'input_token_details': {'audio': 0, 'cache_read': 0}, 'output_token_details': {'audio': 0, 'reasoning': 0}}\n"
     ]
    }
   ],
   "execution_count": 14
  },
  {
   "metadata": {
    "ExecuteTime": {
     "end_time": "2025-10-16T11:23:47.424003Z",
     "start_time": "2025-10-16T11:23:47.421857Z"
    }
   },
   "cell_type": "code",
   "source": [
    "from langchain_community.utilities import DuckDuckGoSearchAPIWrapper\n",
    "\n",
    "wrapper = DuckDuckGoSearchAPIWrapper(region=\"kr-kr\", time=\"m\")"
   ],
   "id": "a030310fb201fd48",
   "outputs": [],
   "execution_count": 15
  },
  {
   "metadata": {
    "ExecuteTime": {
     "end_time": "2025-10-16T11:23:47.428734Z",
     "start_time": "2025-10-16T11:23:47.427122Z"
    }
   },
   "cell_type": "code",
   "source": [
    "search = DuckDuckGoSearchResults(\n",
    "    api_wrapper=wrapper,\n",
    "    source=\"news\",\n",
    "    results_separator=';\\n'\n",
    ")"
   ],
   "id": "a78a7bedc66c7ba5",
   "outputs": [],
   "execution_count": 16
  },
  {
   "metadata": {
    "ExecuteTime": {
     "end_time": "2025-10-16T11:23:47.613126Z",
     "start_time": "2025-10-16T11:23:47.432320Z"
    }
   },
   "cell_type": "code",
   "source": [
    "docs = search.invoke(\"25-26시즌 웨스트브룩 전망\")\n",
    "\n",
    "print(docs)"
   ],
   "id": "8548b365434ba497",
   "outputs": [
    {
     "name": "stdout",
     "output_type": "stream",
     "text": [
      "snippet: 2 days ago · 3、100英寸大尺寸电视 雷鸟 100MAX 25款 100英寸 京东编码：100149243096 国补价格：6799 雷鸟100MAX25款是同价位中参数配置相对不错的机型。 该机型采用了4K VA面 …, title: 2025电视机推荐+选购指南-双11更新（选购要点，产品型号，品牌 ..., link: https://www.zhihu.com/tardis/bd/art/265075724;\n",
      "snippet: 2 days ago · 从相关数据可以看到，随着华为手机5G芯片受阻的持续，2023年华为手机的份额已经逐渐没落，其他国产品牌蜂拥而上。这两年OPPO、vivo和小米的手机产品线逐渐完善，市场 …, title: 2025年10月哪一款手机性价比高？全品牌、全价位手机推荐与选购 ..., link: https://www.zhihu.com/tardis/zm/art/181591457;\n",
      "snippet: 1080P/2K/4K分辨率，以RTX 5050为基准（25款主流游戏测试成绩取平均值） 数据来源于：TechPowerUp 桌面端显卡天梯图： 作者：秋刀鱼半藏 （原帖地址） 显卡Time Spy分数天梯 …, title: 2025年 10月 显卡天梯图（更新RTX 5090Dv2&RX 9060）, link: https://www.zhihu.com/tardis/zm/art/294283384;\n",
      "snippet: 2025年了，要不要升级win11？ 或者说：25年了用win10会少什么功能/特性？ 显示全部 关注者 282 被浏览, title: 2025年了，要不要升级win11？ - 知乎, link: https://www.zhihu.com/question/8521605198\n"
     ]
    },
    {
     "name": "stderr",
     "output_type": "stream",
     "text": [
      "/Users/yeonsigjang/ideaProject/gpt_agent_2025_book_pip/.venv/lib/python3.12/site-packages/langchain_community/utilities/duckduckgo_search.py:63: RuntimeWarning: This package (`duckduckgo_search`) has been renamed to `ddgs`! Use `pip install ddgs` instead.\n",
      "  with DDGS() as ddgs:\n",
      "/Users/yeonsigjang/ideaProject/gpt_agent_2025_book_pip/.venv/lib/python3.12/site-packages/langchain_community/utilities/duckduckgo_search.py:64: UserWarning: backend='api' is deprecated, using backend='auto'\n",
      "  ddgs_gen = ddgs.text(\n"
     ]
    }
   ],
   "execution_count": 17
  },
  {
   "metadata": {
    "ExecuteTime": {
     "end_time": "2025-10-16T11:23:52.150282Z",
     "start_time": "2025-10-16T11:23:47.629119Z"
    }
   },
   "cell_type": "code",
   "source": [
    "docs = search.invoke(\"site:naver.com 25-26시즌 웨스트브룩에 대한 분석\")\n",
    "docs"
   ],
   "id": "82e184097ee2792a",
   "outputs": [
    {
     "name": "stderr",
     "output_type": "stream",
     "text": [
      "/Users/yeonsigjang/ideaProject/gpt_agent_2025_book_pip/.venv/lib/python3.12/site-packages/langchain_community/utilities/duckduckgo_search.py:63: RuntimeWarning: This package (`duckduckgo_search`) has been renamed to `ddgs`! Use `pip install ddgs` instead.\n",
      "  with DDGS() as ddgs:\n",
      "/Users/yeonsigjang/ideaProject/gpt_agent_2025_book_pip/.venv/lib/python3.12/site-packages/langchain_community/utilities/duckduckgo_search.py:64: UserWarning: backend='api' is deprecated, using backend='auto'\n",
      "  ddgs_gen = ddgs.text(\n"
     ]
    },
    {
     "data": {
      "text/plain": [
       "''"
      ]
     },
     "execution_count": 18,
     "metadata": {},
     "output_type": "execute_result"
    }
   ],
   "execution_count": 18
  },
  {
   "metadata": {
    "ExecuteTime": {
     "end_time": "2025-10-16T11:27:29.209559Z",
     "start_time": "2025-10-16T11:27:23.441996Z"
    }
   },
   "cell_type": "code",
   "source": [
    "from ddgs import DDGS\n",
    "\n",
    "search = DDGS()\n",
    "\n",
    "docs = search.text(\"site:naver.com 25-26시즌 웨스트브룩에 대한 분석\", region='kr-kr')\n",
    "docs"
   ],
   "id": "7e8a920bc1398001",
   "outputs": [
    {
     "data": {
      "text/plain": [
       "[{'title': 'Naver [공지사항] 25-26 시즌 해외축구 개막 기념 이벤트 안내! 🎉🎁 (축구 유니폼 증정 등)',\n",
       "  'href': 'https://contents.premium.naver.com/footballanalyst/soocermaster/contents/250710160527740rz',\n",
       "  'body': '안녕하세요. 축구전문가, 축잘알이 되는법 입니다. 이번 25 -26 시즌 개막을 맞아 구독자님들께 25 / 26시즌 개막 기념 3가지 이벤트를 진행하고자 합니다. + 채널 개설 800일 기념 깜짝 이벤트 ! 1. 📣 “ 25 /26 시즌 EPL 우승팀 맞추기!'},\n",
       " {'title': 'Naver [오늘의 NBA] 2025-26시즌 일정&30개 팀 프리뷰 공지',\n",
       "  'href': 'https://contents.premium.naver.com/nba/shemagicnba/contents/250912095310230ec',\n",
       "  'body': '안녕하세요. 염용근 컬럼리스트입니다. NBA 2025- 26시즌 개막이 다가왔습니다. 개막전은 한국 기준 10월 22일 수요일 오클라호마시티 vs 휴스턴, LA 레이커스 vs 골든스테이트 2경기입니다. 차기 시즌 주요 일정은 아래 내용을 ...'},\n",
       " {'title': 'Naver Games 네이버 e스포츠',\n",
       "  'href': 'https://game.naver.com/esports/League_of_Legends/schedule/world_championship',\n",
       "  'body': 'NAVER · e스포츠 · 더보기 · GAMEe스포츠치지직 · 선택됨 · 발로란트 · 오버워치 · 일반 · 로그인 · 스포츠'},\n",
       " {'title': 'Naver Blog [NBA] 러셀 웨스트브룩: 테크니컬 파울을 공부했다 ...',\n",
       "  'href': 'http://m.blog.naver.com/daoking/220583480797',\n",
       "  'body': '러셀 웨스트브룩: 테크니컬 파울을 공부했다 (Stacy Bengs / AP Photo) 오클라호마시티 썬더의 러셀 ...'},\n",
       " {'title': 'Naver Kin 프리미어리그 25-26시즌 시작하는 순위 : 네이버 지식iN',\n",
       "  'href': 'https://m.kin.naver.com/qna/dirs/1001010202/docs/485953925?d1id=10&qb=7ZSE66as66+47Ja066as6re4',\n",
       "  'body': '바뀐순위 프리미어리그 인스타보니깐 1등인 리버풀이 12ㄷ등으로 갔던데 왜 어떤 영향때문에 밑으로간거죠?'},\n",
       " {'title': 'Naver [오늘의 NBA] (11/20) 덴버의 러셀 웨스트브룩',\n",
       "  'href': 'https://contents.premium.naver.com/nba/shemagicnba/contents/241120162853631zf',\n",
       "  'body': '덴버가 멤피스 원정에서 소중한 승리를 수확했다. MVP 센터 니콜라 요키치 없이 승리하는 습관을 들였다(개인 사정 3경기 연속 결장). MVP 출신 포인트가드 러셀 웨스트브룩은 마침내 커리어 누적 200번째 트리플-더블 작성.'},\n",
       " {'title': 'Naver [EPL PREVIEW] 아스날 vs 웨스트햄 최종 경기 결과 예측',\n",
       "  'href': 'https://contents.premium.naver.com/footballanalyst/soocermaster/contents/251004221608663by',\n",
       "  'body': '✅ 리그 4승1무1패(승점 13점), 현재 2위로 선두 경쟁 중 ✅ 최근 공식 6경기 무패(5승1무), 홈 5경기 무패(4승1무) ✅ 최근 5경기 9득점 2실점, 공·수 밸런스 우수 ✅ 웨스트햄 상대 최근 홈 10경기에서 8승 2패, 확실한 우위 ⚠️ ...'},\n",
       " {'title': 'Naver [축구 정보] 프리미어리그 2024/25 시즌 일정 확정! 이번에 승격한 팀은 누구?',\n",
       "  'href': 'https://contents.premium.naver.com/footballanalyst/soocermaster/contents/240618173416416cf',\n",
       "  'body': '2024/ 25 시즌 잉글랜드 프리미어리그 개막전은 8월 17일 새벽 4시에 시작합니다. 개막전은 맨체스터 유나이티드와 풀럼이 맞붙을 예정이며 맨체스터 유나이티드의 홈 구장인 올드 트래포드에서 펼쳐질 예정입니다.'},\n",
       " {'title': 'Naver Kin 러셀 웨스트브룩이랑 크리스 폴 : 네이버 지식iN',\n",
       "  'href': 'https://m.kin.naver.com/qna/dirs/10010305/docs/411690092?d1id=10&qb=65+s7IWA&enc=utf8&section=kin.qna&rank=647&search_sort=0&spq=1',\n",
       "  'body': '커리어 위상 스타성 누가 더 뛰어난 선수인가요?둘다 좋아하는 선수인데 각 선수 장단점이 어떻게 되나요?'},\n",
       " {'title': 'Naver Kin 25-26시즌 프리미어리그 개막전 경기 일정과 상대팀? : 네이버 지식iN',\n",
       "  'href': 'https://m.kin.naver.com/qna/dirs/10010102/docs/486350410',\n",
       "  'body': '2025-26 시즌 프리미어리그의 개막전 경기는 2025년 8월 16일에 진행되며, 이때의 경기 일정과 상대팀에 대한 정보를 알고 싶습니다. 또한, 이 경기가 어떤 팀의 홈구장에서...'}]"
      ]
     },
     "execution_count": 19,
     "metadata": {},
     "output_type": "execute_result"
    }
   ],
   "execution_count": 19
  },
  {
   "metadata": {
    "ExecuteTime": {
     "end_time": "2025-10-16T11:33:00.575903Z",
     "start_time": "2025-10-16T11:33:00.573487Z"
    }
   },
   "cell_type": "code",
   "source": [
    "links = []\n",
    "\n",
    "for doc in docs:\n",
    "  print(doc)\n",
    "  link = doc.get('href')\n",
    "  links.append(link)\n",
    "\n",
    "print(links)"
   ],
   "id": "fbdb68e3ad6c85be",
   "outputs": [
    {
     "name": "stdout",
     "output_type": "stream",
     "text": [
      "{'title': 'Naver [공지사항] 25-26 시즌 해외축구 개막 기념 이벤트 안내! 🎉🎁 (축구 유니폼 증정 등)', 'href': 'https://contents.premium.naver.com/footballanalyst/soocermaster/contents/250710160527740rz', 'body': '안녕하세요. 축구전문가, 축잘알이 되는법 입니다. 이번 25 -26 시즌 개막을 맞아 구독자님들께 25 / 26시즌 개막 기념 3가지 이벤트를 진행하고자 합니다. + 채널 개설 800일 기념 깜짝 이벤트 ! 1. 📣 “ 25 /26 시즌 EPL 우승팀 맞추기!'}\n",
      "{'title': 'Naver [오늘의 NBA] 2025-26시즌 일정&30개 팀 프리뷰 공지', 'href': 'https://contents.premium.naver.com/nba/shemagicnba/contents/250912095310230ec', 'body': '안녕하세요. 염용근 컬럼리스트입니다. NBA 2025- 26시즌 개막이 다가왔습니다. 개막전은 한국 기준 10월 22일 수요일 오클라호마시티 vs 휴스턴, LA 레이커스 vs 골든스테이트 2경기입니다. 차기 시즌 주요 일정은 아래 내용을 ...'}\n",
      "{'title': 'Naver Games 네이버 e스포츠', 'href': 'https://game.naver.com/esports/League_of_Legends/schedule/world_championship', 'body': 'NAVER · e스포츠 · 더보기 · GAMEe스포츠치지직 · 선택됨 · 발로란트 · 오버워치 · 일반 · 로그인 · 스포츠'}\n",
      "{'title': 'Naver Blog [NBA] 러셀 웨스트브룩: 테크니컬 파울을 공부했다 ...', 'href': 'http://m.blog.naver.com/daoking/220583480797', 'body': '러셀 웨스트브룩: 테크니컬 파울을 공부했다 (Stacy Bengs / AP Photo) 오클라호마시티 썬더의 러셀 ...'}\n",
      "{'title': 'Naver Kin 프리미어리그 25-26시즌 시작하는 순위 : 네이버 지식iN', 'href': 'https://m.kin.naver.com/qna/dirs/1001010202/docs/485953925?d1id=10&qb=7ZSE66as66+47Ja066as6re4', 'body': '바뀐순위 프리미어리그 인스타보니깐 1등인 리버풀이 12ㄷ등으로 갔던데 왜 어떤 영향때문에 밑으로간거죠?'}\n",
      "{'title': 'Naver [오늘의 NBA] (11/20) 덴버의 러셀 웨스트브룩', 'href': 'https://contents.premium.naver.com/nba/shemagicnba/contents/241120162853631zf', 'body': '덴버가 멤피스 원정에서 소중한 승리를 수확했다. MVP 센터 니콜라 요키치 없이 승리하는 습관을 들였다(개인 사정 3경기 연속 결장). MVP 출신 포인트가드 러셀 웨스트브룩은 마침내 커리어 누적 200번째 트리플-더블 작성.'}\n",
      "{'title': 'Naver [EPL PREVIEW] 아스날 vs 웨스트햄 최종 경기 결과 예측', 'href': 'https://contents.premium.naver.com/footballanalyst/soocermaster/contents/251004221608663by', 'body': '✅ 리그 4승1무1패(승점 13점), 현재 2위로 선두 경쟁 중 ✅ 최근 공식 6경기 무패(5승1무), 홈 5경기 무패(4승1무) ✅ 최근 5경기 9득점 2실점, 공·수 밸런스 우수 ✅ 웨스트햄 상대 최근 홈 10경기에서 8승 2패, 확실한 우위 ⚠️ ...'}\n",
      "{'title': 'Naver [축구 정보] 프리미어리그 2024/25 시즌 일정 확정! 이번에 승격한 팀은 누구?', 'href': 'https://contents.premium.naver.com/footballanalyst/soocermaster/contents/240618173416416cf', 'body': '2024/ 25 시즌 잉글랜드 프리미어리그 개막전은 8월 17일 새벽 4시에 시작합니다. 개막전은 맨체스터 유나이티드와 풀럼이 맞붙을 예정이며 맨체스터 유나이티드의 홈 구장인 올드 트래포드에서 펼쳐질 예정입니다.'}\n",
      "{'title': 'Naver Kin 러셀 웨스트브룩이랑 크리스 폴 : 네이버 지식iN', 'href': 'https://m.kin.naver.com/qna/dirs/10010305/docs/411690092?d1id=10&qb=65+s7IWA&enc=utf8&section=kin.qna&rank=647&search_sort=0&spq=1', 'body': '커리어 위상 스타성 누가 더 뛰어난 선수인가요?둘다 좋아하는 선수인데 각 선수 장단점이 어떻게 되나요?'}\n",
      "{'title': 'Naver Kin 25-26시즌 프리미어리그 개막전 경기 일정과 상대팀? : 네이버 지식iN', 'href': 'https://m.kin.naver.com/qna/dirs/10010102/docs/486350410', 'body': '2025-26 시즌 프리미어리그의 개막전 경기는 2025년 8월 16일에 진행되며, 이때의 경기 일정과 상대팀에 대한 정보를 알고 싶습니다. 또한, 이 경기가 어떤 팀의 홈구장에서...'}\n",
      "['https://contents.premium.naver.com/footballanalyst/soocermaster/contents/250710160527740rz', 'https://contents.premium.naver.com/nba/shemagicnba/contents/250912095310230ec', 'https://game.naver.com/esports/League_of_Legends/schedule/world_championship', 'http://m.blog.naver.com/daoking/220583480797', 'https://m.kin.naver.com/qna/dirs/1001010202/docs/485953925?d1id=10&qb=7ZSE66as66+47Ja066as6re4', 'https://contents.premium.naver.com/nba/shemagicnba/contents/241120162853631zf', 'https://contents.premium.naver.com/footballanalyst/soocermaster/contents/251004221608663by', 'https://contents.premium.naver.com/footballanalyst/soocermaster/contents/240618173416416cf', 'https://m.kin.naver.com/qna/dirs/10010305/docs/411690092?d1id=10&qb=65+s7IWA&enc=utf8&section=kin.qna&rank=647&search_sort=0&spq=1', 'https://m.kin.naver.com/qna/dirs/10010102/docs/486350410']\n"
     ]
    }
   ],
   "execution_count": 25
  },
  {
   "metadata": {
    "ExecuteTime": {
     "end_time": "2025-10-16T11:35:43.595041Z",
     "start_time": "2025-10-16T11:35:39.635950Z"
    }
   },
   "cell_type": "code",
   "source": [
    "from langchain_community.document_loaders import WebBaseLoader\n",
    "\n",
    "loader = WebBaseLoader(\n",
    "    web_paths=links,\n",
    "    bs_get_text_kwargs={\n",
    "      \"strip\": True,\n",
    "    }\n",
    ")\n",
    "\n",
    "page_contents = []\n",
    "async for doc in loader.alazy_load():\n",
    "  page_contents.append(doc)\n",
    "\n",
    "for content in page_contents:\n",
    "  print(content)\n",
    "  print('---------------------')"
   ],
   "id": "bed9655a20c02329",
   "outputs": [
    {
     "name": "stderr",
     "output_type": "stream",
     "text": [
      "USER_AGENT environment variable not set, consider setting it to identify your requests.\n"
     ]
    },
    {
     "name": "stdout",
     "output_type": "stream",
     "text": [
      "page_content='[공지사항] 25-26 시즌 해외축구 개막 기념 이벤트 안내! 🎉🎁 (축구 유니폼 증정 등)본문 바로가기페이지 스크롤 진행률Premium Contents이전 페이지축구전문가, 축잘알이 되는 법검색로그인[공지사항][공지사항] 25-26 시즌 해외축구 개막 기념 이벤트 안내! 🎉🎁 (축구 유니폼 증정 등)2025.07.10. 오후 4:05by축구예측 전문가 K좋아요댓글SNS 보내기글씨 크기 조정더 작게가더 크게25-26 시즌⚽ 해외축구 개막 이벤트 🎉5대리그 (EPL, 분데스리가, 라리가, 리그앙, 세리에)안녕하세요.축구전문가, 축잘알이 되는법입니다.이번 25-26 시즌 개막을 맞아 구독자님들께25/26시즌개막 기념 3가지 이벤트를 진행하고자 합니다.+ 채널 개설 800일 기념 깜짝 이벤트 !출처 :GIPHY1. 📣 “25/26 시즌 EPL 우승팀 맞추기!“이번 시즌 EPL 우승은 어디일까?”당신의 축잘알 감각을 증명하세요!상품 :푸마 맨체스터 시티 2024/25 홈 저지 팀 라이트 블루​2. 📢 25/26 시즌 EPL 득점왕 맞추기!“득점왕은 홀란드? 살라? 아니면 손흥민?”시즌 종료 후 득점왕 맞히면, 맛있는 축구 한 끼를 쏩니다!상품 :배달의민족 상품권 3만원 권​3. 🔔 25/26 시즌 EPL 첫 해트트릭 선수 맞추기!“이번 시즌 첫 해트트릭은 누구일까요?”개막전부터 예측력 뽐내고,시원한 스타벅스받아가세요!상품 :스타벅스 상품권 1만원 권축구전문가, 축잘알이 되는법이벤트 안내 전,, 한번만 읽어주세요 🙏🏻축잘알은 23년 5월 3일 첫 발행을 시작했습니다.그리고 25년 7월 10일까지800일간1136개의게시물을 발행했습니다.한달에 약50건의 게시물을 발행하고 있습니다.(분석 게시물 하나당 58원 꼴)채널 개설800일기념🎉 이벤트 안내 🎉7월 한 달간, 첫 달 구독료 100% 무료!​📢[축구전문가 축잘알이 되는법]개설 800일을 맞아 감사 이벤트를 준비했습니다.바로~ 첫달 무료 이벤트 입니다!​7월 한 달간, 첫 달 구독료 100% 무료!🎲 언제까지 감에 의존하시겠습니까? 🎰🤖 통계 데이터에 기반한 축구 분석! 📊▼ 지금 시작하세요! ▼이용권 선택 : 축구전문가, 축잘알이 되는 법축구전문가, 축잘알이 되는 법의 콘텐츠 상품을 구매하실 수 있습니다.contents.premium.naver.com🍀 지금 구독하면첫달 무료!✅ 지금 시작하지 않으면 손해입니다.​<구독 혜택>25/26 시즌 주요 경기 승부예측오버/언더, 핸디캡 분석 제공​📊 배당 분석 + 전력 비교⚽ 킥오프 시간 / 팀 평균 평점 / 선발 라인업📈 국내 & 해외 배당률 / 심판 카드 성향🎯 최종 경기 예측 & 핸디캡 배팅 TIP🔥 팀 승점, 포메이션, 최근 경기 동향 등🎁 이벤트 상세 설명 시작합니다! 🎉읽어주셔서 감사합니다.출처 :GIPHY📢 25/26 시즌 EPL 우승팀은?이벤트 마감 기간EPL 1R 개막전 2025년 8월 16일 토요일 04:00 전지금 바로 참여하세요!Puma Manchester City 2024/25 Home Jersey Team Light Blue (Non Marking Ver.)25/26 시즌의 EPL 우승 팀을 예측해주세요.당첨자 中 추첨을 통해 한분께24/25 시즌, 맨체스터 시티 유니폼을 선물로 드리겠습니다.​예측 적중시 시즌 종료 후 정답자는 선물! 🎁상품 :푸마 맨체스터 시티 2024/25 홈 저지 팀 라이트 블루​💡 댓글 작성 안내예시 1번) : 우승팀 : 리버풀예시 2번) : 맨시티예시 3번) : 아스날 우승가자!!(아스날 우승 예측으로 댓글 작성 인정)EPL 25-26시즌 참가팀📢 25/26 시즌 EPL 득점왕은?이벤트 마감 기간EPL 1R 개막전 2025년 8월 16일 토요일 04:00 전지금 바로 참여하세요!​25/26 시즌의 EPL 득점왕을 예측해주세요.당첨자 中 추첨을 통해 한분께배달의민족 상품권을 선물로 드리겠습니다.​예측 적중시 시즌 종료 후 정답자는 선물! 🎁상품 :배달의민족 상품권 3만원권​💡 댓글 작성 안내예시 1번) : 득점왕 : 홀란드예시 2번) : 살라예시 3번) : 손흥민 득점왕 가자!!!(손흥민 예측으로 댓글 작성 인정)23/24, 24/25 시즌 득점왕 순위📢 25/26 시즌 EPL첫 헤트트릭 선수는?이벤트 마감 기간EPL 1R 개막전 2025년 8월 16일 토요일 04:00 전지금 바로 참여하세요!​25/26 시즌 EPL 첫 헤트트릭 선수를 예측해주세요.당첨자 中 추첨을 통해 한분께스타벅스 상품권을 선물로 드리겠습니다.​예측 적중시 시즌 종료 후 정답자는 선물! 🎁상품 :스타벅스 상품권 3만원권​💡 댓글 작성 안내예시 1번) : 첫 헤트트릭 : 홀란드예시 2번) : 살라예시 3번) : 손흥민 헤트트릭 가자!!!(손흥민 예측으로 댓글 작성 인정)🔒 유의사항시즌 종료 시점까지 구독을 유지한 분에한하여 경품 지급 대상이 됩니다.​중간 구독 해지 시 이벤트 대상 제외.중복 아이디 응모는 무효 처리됩니다.​모든 이벤트는 시즌 종료 이후댓글 혹은 톡톡 메세지를 통하여경품을 전달드릴 예정입니다.축구전문가, 축잘알이 되는법은축알못이 사라지는 그 날까지!열심히 축구를 재밌게 보고, 즐길 수 있는주요 해외 축구 분석글을 올리도록 하겠습니다.좋은 의견이 있으시면 언제든지 톡톡 문의주세요.분석 원하시는 경기가 있으시면 댓글 요청주세요.출처 :GIPHY축구팬 여러분,드디어 기다리던25-26시즌 해외축구가 개막 예정입니다.구독취소하지않고 긴 시간 기다려주신 구독자님들!다시한번 감사의 말씀드립니다.더욱 더 양질의 콘텐츠로 함께하겠습니다.감사합니다!▼ 지금 무료구독하기! ▼이용권 선택 : 축구전문가, 축잘알이 되는 법축구전문가, 축잘알이 되는 법의 콘텐츠 상품을 구매하실 수 있습니다.contents.premium.naver.com▲ 지금 무료 구독하고 댓글 달기! ▲해당 콘텐츠는 프리미엄 구독자 공개(유료) 콘텐츠로 무단 캡쳐 및 불법 공유시 법적 제재를 받을 수 있습니다.본 콘텐츠는 무료로 제공중입니다.콘텐츠가 마음에 드셨나요?축구전문가, 축잘알이 되는 법 구독으로 더 많은 콘텐츠를 만나보세요!쿠폰프리미엄 구독2,900원/월첫 달1,900원축구예측 전문가 K축구 입문자부터 실전 예측 고수까지, 모두 환영합니다!심층 분석으로 경기를 더 재미있고, 더 분석적으로 즐기세요.📊 배당 분석 + 전력 비교⚽ 킥오프 시간 / 팀 평균 평점 / 선발 라인업📈 국내 & 해외 배당률 / 심판 카드 성향🎯 최종 경기 예측 & 핸디캡 배팅 TIP🔥 팀 승점, 포메이션, 최근 경기 동향 등축구 승부 예측의 고수가 될 수 있는 실전형 콘텐츠 제공!좋아요댓글공유하기축구전문가, 축잘알이 되는 법채널에서 무료 제공하는 콘텐츠가 있습니다.지금 로그인하면 무료로 볼 수 있습니다.로그인닫기축구전문가, 축잘알이 되는 법이 채널의 콘텐츠가 마음에 드셨나요?채널을 구독하고 창작자의 콘텐츠를 응원해 주세요!스포츠/건강평균 주17회 신규 업데이트닫기무료 콘텐츠 모아보기[공지사항] 25-26 시즌 해외축구 개막 기념 이벤트 안내! 🎉🎁 (축구 유니폼 증정 등)2025.07.10.[이벤트] [유로파 결승][토트넘 vs 맨체스터 유나이티드] 최종 점수 예측하고 푸짐한 상품 받아가세요! 🎁🔥2025.05.20.[이벤트] 챔피언스리그 결승에 진출할 2팀을 예측하고 상품 받아가세요 🎁2025.04.26.[이벤트] [프랑크푸르트 VS 토트넘] 최종 점수와 첫 득점자를 맞히고 푸짐한 상품 받아가세요! 🎁🔥2025.04.17.다른 채널의 무료 콘텐츠 더보기전체콘텐츠PICK[리그앙 PREVIEW] 파리 생제르맹 vs RC 스트라스부르 최종 경기 결과 예측2025.10.16.좋아요댓글PICK[분데스 PREVIEW] 유니온 베를린 vs 묀헨글라트바흐 최종 경기 결과 예측2025.10.16.좋아요댓글[월드컵 유럽 예선 PREVIEW] 스코틀랜드 vs 벨라루스 최종 경기 결과 예측2025.10.12.좋아요댓글PICK[월드컵 유럽 예선 PREVIEW] 네덜란드 vs 핀란드 최종 경기 결과 예측2025.10.12.좋아요댓글[월드컵 유럽 예선 PREVIEW] 리투아니아 vs 폴란드 최종 경기 결과 예측2025.10.12.좋아요댓글함께 볼만한 프리미엄삼성전자 ‘어닝 서프라이즈’ — 한국 경제의 전환 신호, 그리고 10만전자의 의미SF307김밥을 만들어요 순서도여름쌤 this summerINCEPTION model 딥러닝 신경망 구조중 하나SF307CES2026, 더밀크 '판7' 뜬다... 현장 VIP 가이드 런칭더밀크구독이 망설여진다면창작자가 추천하는 무료 콘텐츠를 더 확인해 보세요![이벤트] [유로파 결승][토트넘 vs 맨체스터 유나이티드] 최종 점수 예측하고 푸짐한 상품 받아가세요! 🎁🔥2025.05.20.좋아요댓글[이벤트] 챔피언스리그 결승에 진출할 2팀을 예측하고 상품 받아가세요 🎁2025.04.26.좋아요댓글[이벤트] [프랑크푸르트 VS 토트넘] 최종 점수와 첫 득점자를 맞히고 푸짐한 상품 받아가세요! 🎁🔥2025.04.17.좋아요댓글바로 구독하러 가기닫기맨위로로그인전체서비스사업자정보확인개인정보처리방침네이버 이용약관네이버 운영정책프리미엄콘텐츠 판매회원 이용약관프리미엄콘텐츠 운영정책법적고지고객센터네이버(주)는 통신판매중개시스템의 제공자로서 통신판매의 당사자가 아닙니다. 콘텐츠판매, 환불 등과 관련한 의무와 책임은 판매자에게 있습니다.Premium Contentsⓒ NAVER Corp.' metadata={'source': 'https://contents.premium.naver.com/footballanalyst/soocermaster/contents/250710160527740rz', 'title': '[공지사항] 25-26 시즌 해외축구 개막 기념 이벤트 안내! 🎉🎁 (축구 유니폼 증정 등)', 'description': '안녕하세요. 축구전문가, 축잘알이 되는법 입니다. 이번 25-26 시즌 개막을 맞아 구독자님들께 25/26시즌 개막 기념 3가지 이벤트를 진행하고자 합니다. + 채널 개설 800일 기념 깜짝 이벤트 ! 1. 📣 “25/26 시즌 EPL 우승팀 맞추기! “이번 시즌 E', 'language': 'ko'}\n",
      "---------------------\n",
      "page_content='[오늘의 NBA] 2025-26시즌 일정&30개 팀 프리뷰 공지본문 바로가기페이지 스크롤 진행률Premium Contents이전 페이지염용근 오늘의 NBA검색로그인오늘의 NBA[오늘의 NBA] 2025-26시즌 일정&30개 팀 프리뷰 공지2025.09.12. 오전 9:53by염용근좋아요댓글SNS 보내기글씨 크기 조정더 작게가더 크게​​안녕하세요. 염용근 컬럼리스트입니다. NBA 2025-26시즌 개막이 다가왔습니다. 개막전은 한국 기준 10월 22일 수요일 오클라호마시티 vs 휴스턴, LA 레이커스 vs 골든스테이트 2경기입니다. 차기 시즌 주요 일정은 아래 내용을 참조하시면 됩니다.​[오늘의 NBA]는 30개 팀 프리뷰로 출발합니다. 9월 22일 월요일을 시작으로 10월 21일 화요일까지 진행됩니다. 또한, 10월 22일부터 정규시즌 컬럼이 시작되고요. 팬분들은 구독에 차질이 없게끔 일정 체크 부탁드릴게요. 저는 9월 22일부터 시작될 프리뷰 일정에 맞춰 찾아뵙겠습니다. 비시즌 동안 구독을 유지해 주셨던 팬분들께도 다시 한번 감사 인사 전합니다!​[오늘의 NBA] 시즌 프리뷰 일정9월 22일(월) : 유타 재즈9월 23일(화) : 워싱턴 위저즈9월 24일(수) : 샬럿 호네츠..10월 19일(일) : 보스턴 셀틱스10월 20일(월) : 클리블랜드 캐벌리어스10월 21일(화) : 오클라호마시티 썬더​NBA 2025-26시즌 주요 일정(한국 기준)프리 시즌 : 10월 3일~18일정규시즌 개막 : 10월 22일(OKC vs HOU, LAL vs GSW)인-시즌 토너먼트 : 11월 1일~12월 17일트레이드 마감일 : 2월 6일올스타전 주간(휴식기 포함) : 2월 14일~19일정규시즌 마감 : 4월 13일플레이-인 토너먼트 : 4월 15일~18일플레이오프 : 4월 19일~미정​​사진 출처 : nbcuniversal.com​​염용근 기자(shemagic2@naver.com)해당 콘텐츠는 프리미엄 구독자 공개(유료) 콘텐츠로 무단 캡쳐 및 불법 공유시 법적 제재를 받을 수 있습니다.본 콘텐츠는 무료로 제공중입니다.콘텐츠가 마음에 드셨나요?염용근 오늘의 NBA  구독으로 더 많은 콘텐츠를 만나보세요!프리미엄 구독9,900원/월염용근염용근 NBA 컬럼리스트#염용근#오늘의NBA#NBA#2025-26시즌#프리뷰좋아요댓글공유하기염용근 오늘의 NBA채널에서 무료 제공하는 콘텐츠가 있습니다.지금 로그인하면 무료로 볼 수 있습니다.로그인닫기염용근 오늘의 NBA이 채널의 콘텐츠가 마음에 드셨나요?채널을 구독하고 창작자의 콘텐츠를 응원해 주세요!스포츠/건강평균 주5회 신규 업데이트닫기무료 콘텐츠 모아보기[오늘의 NBA] 시즌 프리뷰 : 마이애미 히트2025.10.02.[오늘의 NBA] 시즌 프리뷰 : 유타 재즈2025.09.22.[오늘의 NBA] 2025-26시즌 일정&30개 팀 프리뷰 공지2025.09.12.[오늘의 NBA] (8/13) 2025년 오프 시즌 현황2025.08.13.다른 채널의 무료 콘텐츠 더보기많이 본 콘텐츠안내전일 00시~24시까지 집계한 결과입니다.닫기안내전주 월요일 00시부터 일요일 24시까지 집계한 결과입니다.닫기일간주간1[오늘의 NBA] 시즌 프리뷰 : 덴버 너게츠덴버의 2024-25시즌  단장과 감독이 싸우면? 둘 다 쫓아내면 됩니다. by 조쉬 크론케  성적 : 50승 32패(승률 61.0%) 리그 전체 공동 6위, PO 2R 진출     득점 : 120.8점(3위)  ORtg 118.9(4위) 실점 : 116.9점(25위)  DRtg 115.1(21위) 마진 : +3.9점(9위)  NetRtg +3.8(9위) *( )안은 리그 전체 순위  *ORtg/DRtg : 각각 100번의 공격/수비 기회에서 득점/실점 기대치. 오랜만에 업 템포 농구를 선보였다. 니콜라 요키치 시대가 본격적으로 시작된 2018-19시즌부터 2023-24시즌까지 줄곧 리그 평균 대비 48분 환산 공격 기회인 Relative Pace 마이너스 수치를 기록했던 반면, 2024-25시즌에는 +1.0까지 끌어올렸다. 공세적인 운영은 래리 브라운(1974~79시즌), 덕 모(1981~90시즌), 조지 칼(2005~13시즌) 등 과거 시대 명장들이 즐겨 활용했던 프랜차이즈 전통이다. 전체 시즌 통합 PACE 99.4 역대 2위를 달리고 있다(1위 GSW 992025.10.15.2[오늘의 NBA] 시즌 프리뷰 : LA 레이커스레이커스의 2024-25시즌  LUKA MAGIC IN THE HOUSE by 롭 펠린카  성적 : 50승 32패(승률 61.0%) 리그 전체 공동 6위, PO 진출     득점 : 113.4점(19위)  ORtg 115.0(11위) 실점 : 112.2점(10위)  DRtg 113.8(17위) 마진 : +1.2점(14위)  NetRtg +1.2(14위) *( )안은 리그 전체 순위  *ORtg/DRtg : 각각 100번의 공격/수비 기회에서 득점/실점 기대치. 평균 수준 득실점 마진 대비 우수한 승률을 자랑했다. 원동력은 크게 두 가지다. 첫째, 출중한 초반 러쉬 솜씨를 바탕으로 기선 제압에 성공했다. 1쿼터 평균 득실점 마진이 +2.4점 리그 전체 4위다. 아무래도 경기 초반부터 앞서나가는 쪽이 운영상의 이점을 가진다. 둘째, 경기 막판 승부처에서 강한 집중력을 발휘했다. 르브론 제임스, 루카 돈치치, 오스틴 리브스 등 클러치 득점원을 다수 보유했던 덕분이다. 실제로 종료 5분 전, 5점차 이내 접전 승부 구간2025.10.14.3[오늘의 NBA] 시즌 프리뷰 : LA 클리퍼스클리퍼스의 2024-25시즌  인튜이트 돔 시대 by 스티브 발머  성적 : 50승 32패(승률 61.0%) 리그 전체 공동 6위, PO 진출     득점 : 112.9점(22위)  ORtg 114.3(15위) 실점 : 108.2점(4위)  DRtg 109.4(3위) 마진 : +4.7점(6위)  NetRtg +4.9(5위) *( )안은 리그 전체 순위  *ORtg/DRtg : 각각 100번의 공격/수비 기회에서 득점/실점 기대치. 2023-24시즌에 리그 전체 16위로 떨어졌던 DRtg 수치를 2024-25시즌 들어 3위까지 끌어올렸다. 리그 평균 대비 실점 억제력을 의미하는 Relative DRtg –4.2점의 경우 구단 역대 단일 시즌 가장 우수한 성과다(2023-24시즌 +0.1점). 수비 전술에 조예가 깊은 제프 밴 건디 수석 어시스턴트 코치, 크리스 던(트레이드), 데릭 존스 주니어(FA) 영입 효과를 톡톡히 봤다. 공격 코트에서도 6할대 승률에 필요한 득점 정도는 무난하게 산출해 냈다(ORtg 114.3 15위).  클리퍼스는 굴지의2025.10.13.4[오늘의 NBA] 시즌 프리뷰 : 댈러스 매버릭스댈러스의 2024-25시즌  우승하지 못하면 신께서 저를 용서하실까요? by 니코 해리슨  성적 : 39승 43패(승률 47.6%) 리그 전체 공동 18위    득점 : 114.2점(15위)  ORtg 113.7(18위) 실점 : 115.4점(20위)  DRtg 115.0(20위) 마진 : -1.2점(19위)  NetRtg –1.3(19위) *( )안은 리그 전체 순위  *ORtg/DRtg : 각각 100번의 공격/수비 기회에서 득점/실점 기대치. 충격적인 간판스타 트레이드와 별개로 부상 결장 인원이 너무 많았다. 리그가 펜데믹(pandemic)에 시달렸던 2020-21시즌, 주축 선수들이 죄다 나가떨어졌던 2023-24시즌 버전 멤피스처럼 경기 성립 자체를 걱정해야 할 지경이었다. 실격패를 모면하기 위한 최소 인원 8명을 겨우 맞췄으니 말 다 했다. 그나마 시즌 전반기에 벌어 놓은 승수(30승 26패 승률 53.6% 서부컨퍼런스 8위), 후반기 막판 눈물겨운 분전에 기대어 플레이-인 토너먼트 진출권2025.10.04.5[오늘의 NBA] 시즌 프리뷰 : 골든스테이트 워리어스골든스테이트의 2024-25시즌  우리에겐 시간이 얼마 남지 않았습니다. by 스티브 커  성적 : 48승 34패(승률 58.5%) 리그 전체 공동 11위, PO 2R 진출     득점 : 113.8점(17위)  ORtg 114.2(16위) 실점 : 110.5점(8위)  DRtg 111.0(7위) 마진 : +3.3점(10위)  NetRtg +3.2(10위) *( )안은 리그 전체 순위  *ORtg/DRtg : 각각 100번의 공격/수비 기회에서 득점/실점 기대치. 2010년대 중후반 왕조 시절과 비교해 화력이 큰 폭으로 감소했다. 2014~19시즌 구간 합계 ORtg 수치가 리그 전체 압도적인 1위, 2019~25시즌 구간은 14위다. 혁명적인 공격 전술로도 세월의 흐름을 거스르긴 어렵다. 다행히 강팀의 기본 조건인 수비 코트 경쟁력만큼은 건재하다. 지난 시즌 역시 기복 심한 득점력을 1월 제외 꾸준하게 유지된 실점 억제력으로 만회했다. 리그 평균 대비 DRtg –2.8점은 플레이오프 파이널 정상에 올랐던 20212025.10.11.1[오늘의 NBA] 시즌 프리뷰 : 새크라멘토 킹스새크라멘토의 2024-25시즌  바보가 바보x2에게 쓴 편지 by 아투라스 카니쇼바스 시카고 부사장  성적 : 40승 42패(승률 48.8%) 리그 전체 공동 16위    득점 : 115.7점(10위)  ORtg 115.9(7위) 실점 : 115.3점(19위)  DRtg 115.3(22위) 마진 : +0.4점(16위)  NetRtg +0.6(15위) *( )안은 리그 전체 순위  *ORtg/DRtg : 각각 100번의 공격/수비 기회에서 득점/실점 기대치. 2023-24시즌 DRtg 114.4 리그 전체 14위 수치가 2024-25시즌 들어 115.3 22위까지 떨어졌다. 공수 균형이 무너졌던 이유다. 또한, 수비 코트 경쟁력 유지를 목 놓아 부르짖던 마이크 브라운 감독이 경질당했다. 공격 쪽에 치우친 선수단 구성을 고려하면 애꿎은 감독만 유탄을 맞았다. 강점 중 하나였던 클러치 경쟁력마저 시원찮았다. 최근 3시즌 종료 5분 전, 5점차 이내 접전 승부 구간이 발생한 경기 승률 변화를 살펴보면 56.8% 9위 -> 51.3% 12025.10.06.2[오늘의 NBA] 시즌 프리뷰 : 디트로이트 피스톤스디트로이트의 2024-25시즌  지옥에서 천국으로 가는 계단 by 케이드 커닝햄  성적 : 44승 38패(승률 53.7%) 리그 전체 14위, PO 진출     득점 : 115.5점(12위)  ORtg 114.6(14위) 실점 : 113.6점(14위)  DRtg 112.5(10위) 마진 : +1.9점(13위)  NetRtg +2.1(12위) *( )안은 리그 전체 순위  *ORtg/DRtg : 각각 100번의 공격/수비 기회에서 득점/실점 기대치. 공격, 수비 양쪽 모두 천지개벽 수준으로 개선되었다. 2020년대 내내 승점 자판기 취급받던 팀이 불과 1시즌 만에 5할 승률 이상 집단으로 거듭났다. 선수단 투지도 마찬가지다. 패배주의에 물들었던 시절과 달리 상대를 최후의 순간까지 물고 늘어졌다. 리그 전체 승률 꼴찌였던 2022~24시즌 구간 경기 종료 5분 전, 5점차 이내 접전 승부 연출 점유율이 43.9%, 2024-25시즌은 53.6%다(해당 경기들 승률 35.8% -> 47.7%). 혁명을 일궈낸 구단 수뇌부와 코치진,2025.10.08.3[오늘의 NBA] 시즌 프리뷰 : 올랜도 매직올랜도의 2024-25시즌  함께 가난해지는 농구 by 자말 모슬리  성적 : 41승 41패(승률 50.0%) 리그 전체 15위, PO 진출     득점 : 105.4점(28위)  ORtg 108.9(27위) 실점 : 105.5점(1위)  DRtg 109.1(2위) 마진 : -0.1점(17위)  NetRtg –0.2(17위) *( )안은 리그 전체 순위  *ORtg/DRtg : 각각 100번의 공격/수비 기회에서 득점/실점 기대치. 2023-24시즌에 이어 2024-25시즌에도 공수 불균형에 시달렸다. 경기당 평균 105.4득점, ORtg 108.9, TS% 55.0%, 패스가 어시스트로 연결된 점유율(AST to PASS%) 8.2%, 볼 터치 당 득점 기대치(Point Per Touch) 0.265점 모두 하위권에 머물렀다. 득점력만 놓고 보면 전략적으로(?) 패배한 탱킹 집단들과 별반 다르지 않았다. 다행히 자말 모슬리 감독이 구축한 수비 시스템은 건재했다. 최근 2시즌 리그 평균 대비 DRtg 수치가 각각 –4.0점, -4.9점(relative DRtg). 2024~25년 플레이오프 파이널2025.10.07.4[오늘의 NBA] 시즌 프리뷰 : 밀워키 벅스밀워키의 2024-25시즌  플레이오프 1라운드에서 지는 별 by 닥 리버스   성적 : 48승 34패(승률 58.5%) 리그 전체 공동 11위, PO 진출     득점 : 115.5점(11위)  ORtg 115.1(10위) 실점 : 113.0점(13위)  DRtg 112.7(12위) 마진 : +2.5점(11위)  NetRtg 2.4(11위) *( )안은 리그 전체 순위  *ORtg/DRtg : 각각 100번의 공격/수비 기회에서 득점/실점 기대치. 시즌 전체 결과물만 놓고 보면 평균 수준 공수 균형이 산출되었다. 경기 템포, 득점력, 실점 억제력 모두 리그 중위권에 걸쳤다. 구간별 세부 지표는 달랐다. 특히 시즌 초반 부진을 로테이션 개혁에 힘입어 극복했다. AJ 그린, 라이언 롤린스, 안드레 잭슨 주니어 등 영건들을 전진 배치한 선택이 터닝 포인트로 작용했다. 궁색할수록 총명해지는 닥 리버스 감독의 공로다. 시즌 막판 야니스 아테토쿤보 1번 기용 승부수도 대단히 성공적이었다. 82025.10.10.5[오늘의 NBA] 시즌 프리뷰 : 멤피스 그리즐리스멤피스의 2024-25시즌  사공이 많으면 감독부터 쫓겨납니다. by 테일러 젠킨스  성적 : 48승 34패(승률 58.5%) 리그 전체 공동 11위, PO 진출     득점 : 121.7점(2위)  ORtg 117.2(6위) 실점 : 116.9점(24위)  DRtg 112.6(11위) 마진 : +4.8점(5위)  NetRtg +4.6(6위) *( )안은 리그 전체 순위  *ORtg/DRtg : 각각 100번의 공격/수비 기회에서 득점/실점 기대치. 1995-96시즌 창단 이래 가장 공격적인 운영을 선보였다. 48분 환산 공격 기회인 경기 페이스(PACE) 수치 103.69, 121.7득점, ORtg 117.2, TS% 58.8% 모두 구단 역대 신기록이다. 눈에 보이는 실점 대비 수비 코트 경쟁력도 준수했다. DRtg 112.6 리그 전체 11위, 상대 TS% 56.9% 허용 6위, TS% 마진 +1.9% 9위에 올랐다. 단, 시즌 후반기 들어 팀 단위 공수 균형이 선수단 내 불협화음과 연동되어 큰 폭으로 떨어졌다. 패배한 16경기 평균 126.8실점을 헌납했던 신세다(마2025.10.09.전체콘텐츠PICK[오늘의 NBA] 시즌 프리뷰 : 인디애나 페이서스2025.10.16.좋아요댓글PICK[오늘의 NBA] 시즌 프리뷰 : 덴버 너게츠2025.10.15.좋아요댓글PICK[오늘의 NBA] 시즌 프리뷰 : LA 레이커스2025.10.14.좋아요댓글[오늘의 NBA] 시즌 프리뷰 : LA 클리퍼스2025.10.13.좋아요댓글[오늘의 NBA] 시즌 프리뷰 : 미네소타 팀버울브스2025.10.12.좋아요댓글함께 볼만한 프리미엄[IFRS Shorts 33]KIFRS1110, 특별한 관계(Special relationship)와 지배력 형성 여부20년차 회계사가 남긴 모든 것동영상[LIVE] 2025.10.16.(목) '모닝차트' 해설유목민의 시그널리포트10월 15일 주요뉴스딜링룸 이야기중국의 대만 침공을 러시아가 돕는 이유지식부장관 글로벌 인사이트구독이 망설여진다면창작자가 추천하는 무료 콘텐츠를 더 확인해 보세요![오늘의 NBA] 시즌 프리뷰 : 마이애미 히트2025.10.02.좋아요댓글[오늘의 NBA] 시즌 프리뷰 : 유타 재즈2025.09.22.좋아요댓글[오늘의 NBA] (8/13) 2025년 오프 시즌 현황2025.08.13.좋아요댓글바로 구독하러 가기닫기맨위로로그인전체서비스사업자정보확인개인정보처리방침네이버 이용약관네이버 운영정책프리미엄콘텐츠 판매회원 이용약관프리미엄콘텐츠 운영정책법적고지고객센터네이버(주)는 통신판매중개시스템의 제공자로서 통신판매의 당사자가 아닙니다. 콘텐츠판매, 환불 등과 관련한 의무와 책임은 판매자에게 있습니다.Premium Contentsⓒ NAVER Corp.' metadata={'source': 'https://contents.premium.naver.com/nba/shemagicnba/contents/250912095310230ec', 'title': '[오늘의 NBA] 2025-26시즌 일정&30개 팀 프리뷰 공지', 'description': '안녕하세요. 염용근 컬럼리스트입니다. NBA 2025-26시즌 개막이 다가왔습니다. 개막전은 한국 기준 10월 22일 수요일 오클라호마시티 vs 휴스턴, LA 레이커스 vs 골든스테이트 2경기입니다. 차기 시즌 주요 일정은 아래 내용을 참조하시면 됩니다.  [오늘의 N', 'language': 'ko'}\n",
      "---------------------\n",
      "page_content='네이버 e스포츠NAVERe스포츠더보기GAMEe스포츠치지직선택됨LoLPUBG발로란트오버워치일반로그인스포츠홈커뮤니티뉴스선택됨일정영상순위네이버 이용약관네이버 게임 커뮤니티 가이드개인정보 처리방침네이버 게임 고객센터대표번호 : 1588-3820ⓒ NAVER Corp.' metadata={'source': 'https://game.naver.com/esports/League_of_Legends/schedule/world_championship', 'title': '네이버 e스포츠', 'language': 'ko'}\n",
      "---------------------\n",
      "page_content='[NBA] 러셀 웨스트브룩: 테크니컬 파울을 공부했다 : 네이버 블로그본문 바로가기블로그카테고리 이동느바의 NBA 블로그검색MY메뉴 열기NBA Inside +[NBA] 러셀 웨스트브룩: 테크니컬 파울을 공부했다느바2015. 12. 31. 4:25이웃추가본문 기타 기능본문 폰트 크기 조정본문 폰트 크기 작게 보기본문 폰트 크기 크게 보기가공유하기URL 복사신고하기러셀 웨스트브룩: 테크니컬 파울을 공부했다(Stacy Bengs / AP Photo)오클라호마시티 썬더의러셀 웨스트브룩(Russell Westbrook)은 지난 2014-15시즌 총 17개의 테크니컬 파울을 범하며 '리그 최다 테크니컬 파울'이라는 불명예 타이틀을 얻었다. 하지만, 웨스트브룩은 이번 오프 시즌 동안 테크니컬 파울에 대한 많은 공부를 했다고 밝혔다.\"이제 테크니컬 파울을 남발하던 웨스트브룩은 없을겁니다.\"슈팅 연습을 하던 웨스트브룩이 입을 열었다.\"이번 오프 시즌 동안, 지난 시즌에 내가 범했던 테크니컬 파울 동영상들을 보고 공부했어요. 내 행동이 어리석었음을 깨달았습니다.\"앞서 언급했듯 웨스트브룩은 지난 시즌에만 17개의 테크니컬 파울을 기록했는데, 이는 82경기가 아닌 67경기 동안 범한 파울의 횟수이다. 4경기 당 하나의 테크니컬 파울을 범한 웨스트브룩은 실제로 이번 시즌 달라진 모습을 보여주고 있는데, 32경기를 소화한 시점에서 단 4개의 테크니컬 파울만을 범했다.이 추세라면, 웨스트브룩이 82경기를 모두 소화하더라도 최대 11개의 테크니컬 파울에 그칠 수 있다. 더군다나 1위였던 웨스트브룩은 이번 시즌 테크니컬 파울 부분 9위에 이름을 올리고 있으며, 리그 최다인 7개와는 3개 차이로 어느 정도 여유가 있다.한편, 웨스트브룩은 이번 시즌 경기 당 평균 34.4분 25.6득점(.467) 6.9리바운드 9.3어시스트 2.5스틸을 기록하고 있다.{\"title\":\"[NBA] 러셀 웨스트브룩: 테크니컬 파울을 공부했다\",\"source\":\"https://blog.naver.com/daoking/220583480797\",\"blogName\":\"느바의 N..\",\"domainIdOrBlogId\":\"daoking\",\"nicknameOrBlogId\":\"느바\",\"logNo\":220583480797,\"smartEditorVersion\":2,\"lineDisplay\":true,\"outsideDisplay\":true,\"cafeDisplay\":true,\"blogDisplay\":true,\"meDisplay\":true}닫기카테고리이 블로그 홈느바(daoking)님을 이웃추가하고 새글을 받아보세요취소이웃추가' metadata={'source': 'http://m.blog.naver.com/daoking/220583480797', 'title': '[NBA] 러셀 웨스트브룩: 테크니컬 파울을 공부했다 : 네이버 블로그', 'language': 'ko'}\n",
      "---------------------\n",
      "page_content='프리미어리그 25-26시즌 시작하는 순위 : 네이버 지식iNNAVER지식iNeXpert질문홈Q&ACHOiCENEW답변하기지식기부사람들명예의전당룰렛Q&AQ&A프리미어리그 25-26시즌 시작하는 순위비공개조회수 6462025.06.07.바뀐순위 프리미어리그 인스타보니깐 1등인 리버풀이 12ㄷ등으로 갔던데 왜 어떤 영향때문에 밑으로간거죠?#해외프로축구댓글답변 알림 받기공유하기메뉴 더보기4명의 답변자가 답변을 남겼어요!답변 4개추천순답변을 입력해주세요저니맨수호신열심답변자 뱃지2025.06.07메뉴 더보기리그 다시 시작하면 어차피 리셋이라 처음 경기를 하지 않았을 때 순위는 무의미합니다​자세히 순차적으로 팀 이름 살펴보시면 알파벳 순서로 나열된 걸 보실 수 있을 겁니다​시즌 시작 전에 순위 정렬 해놓을 때 알파벳 순으로 하는 경우가 많습니다​어차피 1경기 치르고 나면 승점에 따라 순위가 조정이 됩니다더보기UP2DOWN댓글커리어하이우주신열심답변자 뱃지2025.06.08메뉴 더보기25~26시즌은 8월 중순에야 개막합니다.​아직 경기도 치르지 않은 리그순위는 아무 의미도 없는것이죠.팀당 38경기를 치뤄서 승점순으로 순위를 매기므로 현재 나와있는 순위에는 전혀 신경쓰실 필요가 없습니다.​​더보기UP1DOWN댓글hus9****2025.08.04메뉴 더보기#프리미어리글2526접기안녕하세요프리미어리그 2025–26 시즌 개막 이후 현재 순위표를 확인해보면, 대다수 팀들이 아직 아무 경기도 치르지 않은 상태입니다. 그래서 리버풀이 인스타그램 같은 플랫폼에서 “1등 → 12등”처럼 보였다면, 이는 일시적인 순위 변경일 가능성이 높아요.✅ 왜 리버풀이 갑자기 이렇게 내려갔을까요?경기력이 반영되지 않은 초기 상태이번 시즌은 아직 모든 팀이 0경기 0승 0무 0패 상태이고,리그가 시작되기 전이나 경기가 전혀 없는 시점의 순위는→ 기본 정렬 규칙(골득실, 알파벳 순 등)에 의해 자동 배정될 뿐이에요.인스타그램 게시물의 착오 가능성공식 기록이 아니라 이미지 편집이나 임의 데이터일 경우,일부 팀들이 고의로 배치되거나, 잘못된 정보로 노출됐을 수 있습니다.공식 웹사이트 순위 확정은 경기 이후에 판단 가능실제 게임이 치러지고 점수가 쌓이면 순위도 변동합니다.현재는 아무도 경기를 안 뛰었기에 순위는 아직 의미 없어요.요약 정리현재 리버풀 순위가 낮게 보이는 것은→ 경기 결과가 반영되지 않은 초기 테이블이라 실제로 의미 없어요.더보기프리미어리그25-26 개막전 개막일 시즌시작 유니폼 순위 (+토트넘) - 풋볼인사이트https://m.site.naver.com/1NPojUP1DOWN댓글채택된 답변seoj****2025.06.07메뉴 더보기그냥 시즌 시작전이니까 의미 없어요더보기UPDOWN댓글맨위로이동로그인PC버전전체서비스이용약관지식iN 서비스 운영정책개인정보처리방침권리보호센터지식iN 고객센터© NAVER Corp.' metadata={'source': 'https://m.kin.naver.com/qna/dirs/1001010202/docs/485953925?d1id=10&qb=7ZSE66as66+47Ja066as6re4', 'title': '프리미어리그 25-26시즌 시작하는 순위 : 네이버 지식iN', 'description': '바뀐순위 프리미어리그 인스타보니깐 1등인 리버풀이 12ㄷ등으로 갔던데 왜 어떤 영향때문에 밑으로간거죠?', 'language': 'No language found.'}\n",
      "---------------------\n",
      "page_content='[오늘의 NBA] (11/20) 덴버의 러셀 웨스트브룩본문 바로가기페이지 스크롤 진행률Premium Contents이전 페이지염용근 오늘의 NBA검색로그인오늘의 NBA[오늘의 NBA] (11/20) 덴버의 러셀 웨스트브룩2024.11.20. 오후 4:28by염용근좋아요댓글SNS 보내기글씨 크기 조정더 작게가더 크게​​덴버가 멤피스 원정에서 소중한 승리를 수확했다. MVP 센터 니콜라 요키치 없이 승리하는 습관을 들였다(개인 사정 3경기 연속 결장). MVP 출신 포인트가드 러셀 웨스트브룩은 마침내 커리어 누적 200번째 트리플-더블 작성. 전인미답 경지에 도달했다. 팀 승리를 견인한 퍼포먼스였기에 더욱 빛이 난다.​브루클린, 댈러스, 샌안토니오, LA 레이커스는 각각 샬럿, 뉴올리언스, 오클라호마시티, 유타를 제압했다. 카메론 존슨, 루카 돈치치, 켈든 존슨, 달튼 크넥트 등이 돋보이는 활약을 펼쳤다.​한편, 클리블랜드의 개막 15연승 행진에는 마침표가 찍혔다. 디펜딩 챔피언 보스턴과 만난 원정 경기에서 아쉬운 3점차 패배를 당했다. 하필 중요한 일전에 앞서 발생한 윙 포지션 부상 악재가 치명타로 작용했던 밤이다.​인-시즌 토너먼트 순위동부컨퍼런스 A조1위 ORL : 2승(마진 +37점)2위 NYK : 2승(마진 +14점)3위 BKN : 1승 1패(마진 –1점)4위 PHI : 2패(마진 –24점)5위 CHA :2패(마진 –26점)​동부컨퍼런스 B조1위 DET : 2승(마진 +4점)2위 MIL : 1승(마진 +14점)3위 MIA : 1승 1패(마진 +13점)4위 IND : 1패(마진 –13점)5위 TOR : 2패(마진 –18점)​동부컨퍼런스 C조1위 ATL : 2승(마진 +13점)2위 BOS : 1승 1패(마진 +2점)3위 CLE : 1승 1패(마진 +15점)4위 WAS : 1패(마진 –12점)5위 CHI : 1패(마진 –18점)​서부컨퍼런스 A조1위 HOU : 1승(마진 +21점)2위 POR : 1승(마진 +14점)3위 MIN : 1승 1패(마진 –14점)4위 SAC : 1패(마진 0점)5위 LAC : 1패(마진 –21점)​서부컨퍼런스 B조1위 LAL : 2승(마진 +11점)2위 SAS : 1승 1패(마진 +1점)3위 OKC : 1승 1패(마진 +10점)4위 PHX : 1승 1패(마진 -8점)5위 UTA : 2패(마진 –8점)​서부컨퍼런스 C조1위 GSW : 2승(마진 +8점)2위 DAL : 1승 1패(마진 +38점)3위 NOP : 1승 1패(마진 -34점)4위 DEN : 1승 1패(마진 +5점)5위 MEM : 2패(마진 -17점)*다음 인-시즌 토너먼트 일정은 11월 23일이다(12월 4일까지 매주 수요일, 토요일에 조별 리그 진행).*같은 조 기준 타이브레이커는 맞대결 성적 우선이다. 연장전은 득실점 마진 계산에서 제외된다.​​멤피스 그리즐리스(8승 7패) 110-122 덴버 너게츠(8승 5패)덴버마이클 포터 주니어 24득점 11리바운드자말 머레이 27득점 4리바운드 6어시스트 3PM 5개러셀 웨스트브룩 12득점 10리바운드 14어시스트멤피스산티 알다마 28득점 11리바운드 3PM 4개재런 잭슨 주니어 19득점 8리바운드 5블록슛스카티 피펜 주니어 16득점 6리바운드 6어시스트​1쿼터 : 24-312쿼터 : 33-373쿼터 : 21-244쿼터 : 32-30​덴버와 멤피스가 하루 휴식 간격 리턴 매치에서 1승씩 나눠 가졌다(MEM 홈). 각각 1차전은 멤피스 15점차, 오늘 2차전의 경우 덴버 12점차 승리다. 주목할 부문은 덴버가 MVP 센터 니콜라 요키치(개인 사정) 없이 5할 승률 이상 팀을 제압했다는 점이다. 심지어 단 한 번도 동점조차 허락하지 않은 와이어 투 와이어(wire-to-wire) 승리를 연출했다! *¹조커가 결장했던 직전 2경기와 달리, 오늘 밤에는 선수단 구성원 전원이 똘똘 뭉쳐 연패 사슬을 끊었다. 이틀 휴식 후 펼쳐질 댈러스전에서도 긍정적인 결과가 기대된다. 물론 간판스타가 복귀할 수 있다면 금상첨화다. 멤피스는 홈 4연승 행진이 중단되었다. 주전 라인업 대결부터 갈려 나가는 등 48분 내내 고전을 면치 못했다. 주축 선수들인 자 모란트(엉덩이), 마커스 스마트(컨디션 난조), 잭 이디(왼쪽 발목), GG 잭슨(오른발) 부상 결장 핑계 뒤에 숨으면 곤란하다. 상대도 MVP 센터 요키치, 핵심 포워드 애런 고든(오른쪽 종아리)이 코트를 비웠다.​한편, MVP 출신 포인트가드 러셀 웨스트브룩은 마침내 전인미답의 고지에 올랐다. 커리어 200번째 트리플-더블을 작성했다! *²199호 작성 이후 약 7개월 만에 역대 no.1 트리블-더블 달인 명성을 다시 뽐냈다. 더욱 고무적인 소식은 괴인의 주전+벤치 대결 구간 퍼포먼스가 팀 승리 밑바탕에 깔렸다는 점이다. 로우 레버리지 상황에서 만만한(?) 오브젝트(object)를 취한 게 아니다! *³특히 4쿼터 종료 1분 17초 전에 기록한 10번째 리바운드가 리드 흐름 유지에 큰 보탬이 되었다. 이무기가 오랜 기다림 끝에 여의주를 물고 승천했던 모양새다. 마이클 말론도 새로운 이정표를 세웠다. *⁴커리어 432번째 승리로 덴버 구단 역대 공동 1위에 올랐다. 1승만 더 추가하면 1980년대 명장 덕 모를 제치고 단독 1위에 등극한다.​*¹ 덴버는 11월 16일 뉴올리언스 원정 당시 상대 6연패 사슬을 끊어줬다.*² 러셀 웨스트브룩은 LA 클리퍼스 소속 시절이던 올해 4월 10일 피닉스 원정에서 커리어 199호 트리플-더블을 작성했었다.*³ 러셀 웨스트브룩은 정직한 남자다. 트리플-더블 작성으로 연결된 공격리바운드 후 시도한 중거리 풀업점프슛 시도가 당연하다는 듯이(?) 림을 외면했다.*⁴ 마이클 말론의 새크라멘토 감독 시절 포함 커리어 승수는 471승이다. 현역 감독 중 그렉 포포비치, 닥 리버스, 릭 칼라일, 에릭 스포엘스트라, 탐 티보도, 스티브 커, 마이크 부덴홀저에 이어 8위다.​역대 누적 트리플-더블 작성 순위1위 러셀 웨스트브룩 : 200회2위 오스카 로버트슨 : 181회3위 매직 존슨 : 138회4위 니콜라 요키치 : 136회5위 르브론 제임스 : 117회​덴버 구단 역대 최다승 감독1위 덕 모(1981~90시즌) : 432승 357패 승률 54.8%+PO 진출 9회1위 마이클 말론(2016~25시즌) : 432승 300패 승률 59.1%+PO 진출 6회3위 조지 칼(2005~13시즌) : 423승 257패 승률 62.2%+PO 진출 9회4위 래리 브라운(1975~79시즌) : 251승 134패 승률 65.2%+PO 진출 4회​원정팀이 직전 2경기 전패를 당했던 원인은 간단하다. MVP 센터 없이 공격 작업 자체가 성립되지 않았던 탓이다. 실제로 시즌 요키치 출전 구간에서 100번의 공격 기회에서 득점 기대치인 오펜시브 레이팅(ORtg) 수치 125.8을 적립했던 반면, 결장 구간 해당 수치는 끔찍하게도 87.8에 불과했었다. 이는 NBA에 경기 페이스(PACE) 개념이 도입된 이래 듣도 보도 못했던 격차다. 예를 들면 디펜딩 챔피언 간판스타 제이슨 테이텀의 출전/결장 구간 ORtg 수치 격차가 –10.3(요키치 –38.0). 보스턴이 테이텀이 코트 위에 없을 때 –10.3점, 덴버는 요키치 결장 구간에서 –38.0점 손실이 발생했다는 의미다.​다행히 오늘 밤에는 1쿼터부터 공격 작업이 비단결처럼 부드럽게 풀렸다. 빅라인업 3번부터 스몰라인업 5번(!)까지 오간 마이클 포터 주니어가 24득점(FG 11/21, FT 2/6), 11리바운드 동반 더블-더블 작성에 성공한 가운데, 자말 머레이 역시 오랜만에 백코트 에이스 존재감을 선보였다. 특히 요키치 결장에 따른 세트 오펜스 경쟁력 저하를 템포 푸쉬 기반 역습으로 극복했다. 각각 속공 득실점 마진 +11점(28-18), 상대 실책 기반 득실점 마진 +12점(26-14) 넉넉한 우위에 섰던 배경이다. 뇌를 맑게 비우니 쉬운 득점이 따라왔다! *¹MPJ가 장기인 중장거리 지역 점프슛을 고집하지 않고, 림 직접 공략에 적극적으로 임한 선택도 호재였다. 커리어 단일 경기 최다인 페인트존 20득점을 쓸어 담았다.​말론 감독의 로테이션 운영도 적재적소에 이루어졌다. 디안드레 조던, 블랫코 찬차르, 지크 나지 등 벤치 끝자락 프런트코트 자원들까지 동원해 높이 균형을 맞췄다. 주전+벤치 대결 구간 *²보릿고개 넘기 과업은 웨스트브룩의 몫. \"WHY NOT ME?\" 정신이 탑재된 괴인답게 위기를 오히려 기회로 인식했다. 32분 출전 시간 동안 좌충우돌 들이박은 결과, 12득점, 10리바운드, 14어시스트(5실책), 총 46점 생산 동반 트리플-더블을 작성했다! 특히 크리스티안 브라운, 페이튼 왓슨, 포터 주니어 등 운동 능력 좋은 동료들의 림 방향 침투 기동을 칼 박자 어시스트 패스로 살려줬다. 커리어 200번째 트리플-더블을 작성한 후에는? 경기 종료 0.1초 전 마무리 일격으로 대기록의 밤을 자축했다. 홈팀 선수들도 슈퍼스타 출신 포인트가드의 근래 험난했던 여정을 알기에 불필요한 막타(?)를 두고 딱히 뭐라 하지 않았다.​*¹ 마이클 포터 주니어 2024-25시즌 오늘 일정 전까지 전체 득점 대비 3점슛 득점 점유율(3PT%) 49.1%, 페인트존 득점 점유율(PITP%) 30.8% -> 오늘 멤피스 원정 3PT% 0.0%, PITP% 83.3%. 기습적인 림 방향 침투 기동이 상대 수비 허점을 정확하게 찔렀다.*² 덴버 2024-25시즌 오늘 일정 전까지 경기당 평균 벤치 코트 마진 –5.0점 리그 전체 압도적인 꼴찌 -> 오늘 멤피스 원정 –2.6점. 그리즐리 군단의 두꺼운 벤치 전력을 고려하면 선전했다는 평가다(MEM 11인 로테이션 가동).​오늘은 다르다! 시즌 니콜라 요키치 출전 여부에 따른 덴버 공격 지표 변화출전 : ORtg 125.8 TS% 62.6% AST% 73.6%결장 : ORtg 87.8 TS% 47.5% AST% 64.1%오늘 : ORtg 108.9 TS% 55.6% AST% 60.4%*벤치 휴식 시간도 결장에 포함했다.*ORtg : 100번의 공격 기회에서 득점 기대치*TS% : True Shooting%. 3점슛, 자유투에 보정을 가한 슈팅 효율성 지표다.*AST% : 야투 성공 대비 어시스트 동반 점유율​두 팀 주전 생산력 비교MEM : 58득점 16어시스트/12실책 FG 37.0% 3P 3/19 FT 15/24 코트 마진 –16.8점DEN : 93득점 14어시스트/12실책 FG 52.2% 3P 9/25 FT 12/18 코트 마진 +14.6점​덴버 주요 라인업 공수 지표 비교머레이+브라운+MPJ+왓슨+사리치(10분) :ORtg 95.8 DRtg 50.0 NetRtg +45.8괴인+머레이+브라운+MPJ+조던(6분) :ORtg 107.7 DRtg 57.1 NetRtg +50.6*ORtg/DRtg : 각각 100번의 공격/수비 기회에서 득점/실점 기대치*NetRtg : ORtg-DRtg. 100번의 공격/수비 기회에서 발생한 득실점 마진 기대치를 의미한다. 팀 공수 균형을 간접적으로 파악할 수 있다.​프리미엄 구독자 전용 콘텐츠입니다.염용근 오늘의 NBA  구독으로 더 많은 콘텐츠를 만나보세요!프리미엄 구독9,900원/월염용근염용근 NBA 컬럼리스트#염용근#오늘의NBA#NBA#덴버#멤피스#러셀웨스트브룩#니콜라요키치#마이클말론#보스턴#클리블랜드#제이슨테이텀#도노반미첼#케니앳킨슨#조마쥴라#샌안토니오#오클라호마시티#레이커스#유타#달튼크넥트좋아요댓글공유하기염용근 오늘의 NBA채널에서 무료 제공하는 콘텐츠가 있습니다.지금 로그인하면 무료로 볼 수 있습니다.로그인닫기염용근 오늘의 NBA이 채널의 콘텐츠가 마음에 드셨나요?채널을 구독하고 창작자의 콘텐츠를 응원해 주세요!스포츠/건강평균 주5회 신규 업데이트닫기무료 콘텐츠 모아보기[오늘의 NBA] 시즌 프리뷰 : 마이애미 히트2025.10.02.[오늘의 NBA] 시즌 프리뷰 : 유타 재즈2025.09.22.[오늘의 NBA] 2025-26시즌 일정&30개 팀 프리뷰 공지2025.09.12.[오늘의 NBA] (8/13) 2025년 오프 시즌 현황2025.08.13.다른 채널의 무료 콘텐츠 더보기많이 본 콘텐츠안내전일 00시~24시까지 집계한 결과입니다.닫기안내전주 월요일 00시부터 일요일 24시까지 집계한 결과입니다.닫기일간주간1[오늘의 NBA] 시즌 프리뷰 : 덴버 너게츠덴버의 2024-25시즌  단장과 감독이 싸우면? 둘 다 쫓아내면 됩니다. by 조쉬 크론케  성적 : 50승 32패(승률 61.0%) 리그 전체 공동 6위, PO 2R 진출     득점 : 120.8점(3위)  ORtg 118.9(4위) 실점 : 116.9점(25위)  DRtg 115.1(21위) 마진 : +3.9점(9위)  NetRtg +3.8(9위) *( )안은 리그 전체 순위  *ORtg/DRtg : 각각 100번의 공격/수비 기회에서 득점/실점 기대치. 오랜만에 업 템포 농구를 선보였다. 니콜라 요키치 시대가 본격적으로 시작된 2018-19시즌부터 2023-24시즌까지 줄곧 리그 평균 대비 48분 환산 공격 기회인 Relative Pace 마이너스 수치를 기록했던 반면, 2024-25시즌에는 +1.0까지 끌어올렸다. 공세적인 운영은 래리 브라운(1974~79시즌), 덕 모(1981~90시즌), 조지 칼(2005~13시즌) 등 과거 시대 명장들이 즐겨 활용했던 프랜차이즈 전통이다. 전체 시즌 통합 PACE 99.4 역대 2위를 달리고 있다(1위 GSW 992025.10.15.2[오늘의 NBA] 시즌 프리뷰 : LA 레이커스레이커스의 2024-25시즌  LUKA MAGIC IN THE HOUSE by 롭 펠린카  성적 : 50승 32패(승률 61.0%) 리그 전체 공동 6위, PO 진출     득점 : 113.4점(19위)  ORtg 115.0(11위) 실점 : 112.2점(10위)  DRtg 113.8(17위) 마진 : +1.2점(14위)  NetRtg +1.2(14위) *( )안은 리그 전체 순위  *ORtg/DRtg : 각각 100번의 공격/수비 기회에서 득점/실점 기대치. 평균 수준 득실점 마진 대비 우수한 승률을 자랑했다. 원동력은 크게 두 가지다. 첫째, 출중한 초반 러쉬 솜씨를 바탕으로 기선 제압에 성공했다. 1쿼터 평균 득실점 마진이 +2.4점 리그 전체 4위다. 아무래도 경기 초반부터 앞서나가는 쪽이 운영상의 이점을 가진다. 둘째, 경기 막판 승부처에서 강한 집중력을 발휘했다. 르브론 제임스, 루카 돈치치, 오스틴 리브스 등 클러치 득점원을 다수 보유했던 덕분이다. 실제로 종료 5분 전, 5점차 이내 접전 승부 구간2025.10.14.3[오늘의 NBA] 시즌 프리뷰 : LA 클리퍼스클리퍼스의 2024-25시즌  인튜이트 돔 시대 by 스티브 발머  성적 : 50승 32패(승률 61.0%) 리그 전체 공동 6위, PO 진출     득점 : 112.9점(22위)  ORtg 114.3(15위) 실점 : 108.2점(4위)  DRtg 109.4(3위) 마진 : +4.7점(6위)  NetRtg +4.9(5위) *( )안은 리그 전체 순위  *ORtg/DRtg : 각각 100번의 공격/수비 기회에서 득점/실점 기대치. 2023-24시즌에 리그 전체 16위로 떨어졌던 DRtg 수치를 2024-25시즌 들어 3위까지 끌어올렸다. 리그 평균 대비 실점 억제력을 의미하는 Relative DRtg –4.2점의 경우 구단 역대 단일 시즌 가장 우수한 성과다(2023-24시즌 +0.1점). 수비 전술에 조예가 깊은 제프 밴 건디 수석 어시스턴트 코치, 크리스 던(트레이드), 데릭 존스 주니어(FA) 영입 효과를 톡톡히 봤다. 공격 코트에서도 6할대 승률에 필요한 득점 정도는 무난하게 산출해 냈다(ORtg 114.3 15위).  클리퍼스는 굴지의2025.10.13.4[오늘의 NBA] 시즌 프리뷰 : 댈러스 매버릭스댈러스의 2024-25시즌  우승하지 못하면 신께서 저를 용서하실까요? by 니코 해리슨  성적 : 39승 43패(승률 47.6%) 리그 전체 공동 18위    득점 : 114.2점(15위)  ORtg 113.7(18위) 실점 : 115.4점(20위)  DRtg 115.0(20위) 마진 : -1.2점(19위)  NetRtg –1.3(19위) *( )안은 리그 전체 순위  *ORtg/DRtg : 각각 100번의 공격/수비 기회에서 득점/실점 기대치. 충격적인 간판스타 트레이드와 별개로 부상 결장 인원이 너무 많았다. 리그가 펜데믹(pandemic)에 시달렸던 2020-21시즌, 주축 선수들이 죄다 나가떨어졌던 2023-24시즌 버전 멤피스처럼 경기 성립 자체를 걱정해야 할 지경이었다. 실격패를 모면하기 위한 최소 인원 8명을 겨우 맞췄으니 말 다 했다. 그나마 시즌 전반기에 벌어 놓은 승수(30승 26패 승률 53.6% 서부컨퍼런스 8위), 후반기 막판 눈물겨운 분전에 기대어 플레이-인 토너먼트 진출권2025.10.04.5[오늘의 NBA] 시즌 프리뷰 : 골든스테이트 워리어스골든스테이트의 2024-25시즌  우리에겐 시간이 얼마 남지 않았습니다. by 스티브 커  성적 : 48승 34패(승률 58.5%) 리그 전체 공동 11위, PO 2R 진출     득점 : 113.8점(17위)  ORtg 114.2(16위) 실점 : 110.5점(8위)  DRtg 111.0(7위) 마진 : +3.3점(10위)  NetRtg +3.2(10위) *( )안은 리그 전체 순위  *ORtg/DRtg : 각각 100번의 공격/수비 기회에서 득점/실점 기대치. 2010년대 중후반 왕조 시절과 비교해 화력이 큰 폭으로 감소했다. 2014~19시즌 구간 합계 ORtg 수치가 리그 전체 압도적인 1위, 2019~25시즌 구간은 14위다. 혁명적인 공격 전술로도 세월의 흐름을 거스르긴 어렵다. 다행히 강팀의 기본 조건인 수비 코트 경쟁력만큼은 건재하다. 지난 시즌 역시 기복 심한 득점력을 1월 제외 꾸준하게 유지된 실점 억제력으로 만회했다. 리그 평균 대비 DRtg –2.8점은 플레이오프 파이널 정상에 올랐던 20212025.10.11.1[오늘의 NBA] 시즌 프리뷰 : 새크라멘토 킹스새크라멘토의 2024-25시즌  바보가 바보x2에게 쓴 편지 by 아투라스 카니쇼바스 시카고 부사장  성적 : 40승 42패(승률 48.8%) 리그 전체 공동 16위    득점 : 115.7점(10위)  ORtg 115.9(7위) 실점 : 115.3점(19위)  DRtg 115.3(22위) 마진 : +0.4점(16위)  NetRtg +0.6(15위) *( )안은 리그 전체 순위  *ORtg/DRtg : 각각 100번의 공격/수비 기회에서 득점/실점 기대치. 2023-24시즌 DRtg 114.4 리그 전체 14위 수치가 2024-25시즌 들어 115.3 22위까지 떨어졌다. 공수 균형이 무너졌던 이유다. 또한, 수비 코트 경쟁력 유지를 목 놓아 부르짖던 마이크 브라운 감독이 경질당했다. 공격 쪽에 치우친 선수단 구성을 고려하면 애꿎은 감독만 유탄을 맞았다. 강점 중 하나였던 클러치 경쟁력마저 시원찮았다. 최근 3시즌 종료 5분 전, 5점차 이내 접전 승부 구간이 발생한 경기 승률 변화를 살펴보면 56.8% 9위 -> 51.3% 12025.10.06.2[오늘의 NBA] 시즌 프리뷰 : 디트로이트 피스톤스디트로이트의 2024-25시즌  지옥에서 천국으로 가는 계단 by 케이드 커닝햄  성적 : 44승 38패(승률 53.7%) 리그 전체 14위, PO 진출     득점 : 115.5점(12위)  ORtg 114.6(14위) 실점 : 113.6점(14위)  DRtg 112.5(10위) 마진 : +1.9점(13위)  NetRtg +2.1(12위) *( )안은 리그 전체 순위  *ORtg/DRtg : 각각 100번의 공격/수비 기회에서 득점/실점 기대치. 공격, 수비 양쪽 모두 천지개벽 수준으로 개선되었다. 2020년대 내내 승점 자판기 취급받던 팀이 불과 1시즌 만에 5할 승률 이상 집단으로 거듭났다. 선수단 투지도 마찬가지다. 패배주의에 물들었던 시절과 달리 상대를 최후의 순간까지 물고 늘어졌다. 리그 전체 승률 꼴찌였던 2022~24시즌 구간 경기 종료 5분 전, 5점차 이내 접전 승부 연출 점유율이 43.9%, 2024-25시즌은 53.6%다(해당 경기들 승률 35.8% -> 47.7%). 혁명을 일궈낸 구단 수뇌부와 코치진,2025.10.08.3[오늘의 NBA] 시즌 프리뷰 : 올랜도 매직올랜도의 2024-25시즌  함께 가난해지는 농구 by 자말 모슬리  성적 : 41승 41패(승률 50.0%) 리그 전체 15위, PO 진출     득점 : 105.4점(28위)  ORtg 108.9(27위) 실점 : 105.5점(1위)  DRtg 109.1(2위) 마진 : -0.1점(17위)  NetRtg –0.2(17위) *( )안은 리그 전체 순위  *ORtg/DRtg : 각각 100번의 공격/수비 기회에서 득점/실점 기대치. 2023-24시즌에 이어 2024-25시즌에도 공수 불균형에 시달렸다. 경기당 평균 105.4득점, ORtg 108.9, TS% 55.0%, 패스가 어시스트로 연결된 점유율(AST to PASS%) 8.2%, 볼 터치 당 득점 기대치(Point Per Touch) 0.265점 모두 하위권에 머물렀다. 득점력만 놓고 보면 전략적으로(?) 패배한 탱킹 집단들과 별반 다르지 않았다. 다행히 자말 모슬리 감독이 구축한 수비 시스템은 건재했다. 최근 2시즌 리그 평균 대비 DRtg 수치가 각각 –4.0점, -4.9점(relative DRtg). 2024~25년 플레이오프 파이널2025.10.07.4[오늘의 NBA] 시즌 프리뷰 : 밀워키 벅스밀워키의 2024-25시즌  플레이오프 1라운드에서 지는 별 by 닥 리버스   성적 : 48승 34패(승률 58.5%) 리그 전체 공동 11위, PO 진출     득점 : 115.5점(11위)  ORtg 115.1(10위) 실점 : 113.0점(13위)  DRtg 112.7(12위) 마진 : +2.5점(11위)  NetRtg 2.4(11위) *( )안은 리그 전체 순위  *ORtg/DRtg : 각각 100번의 공격/수비 기회에서 득점/실점 기대치. 시즌 전체 결과물만 놓고 보면 평균 수준 공수 균형이 산출되었다. 경기 템포, 득점력, 실점 억제력 모두 리그 중위권에 걸쳤다. 구간별 세부 지표는 달랐다. 특히 시즌 초반 부진을 로테이션 개혁에 힘입어 극복했다. AJ 그린, 라이언 롤린스, 안드레 잭슨 주니어 등 영건들을 전진 배치한 선택이 터닝 포인트로 작용했다. 궁색할수록 총명해지는 닥 리버스 감독의 공로다. 시즌 막판 야니스 아테토쿤보 1번 기용 승부수도 대단히 성공적이었다. 82025.10.10.5[오늘의 NBA] 시즌 프리뷰 : 멤피스 그리즐리스멤피스의 2024-25시즌  사공이 많으면 감독부터 쫓겨납니다. by 테일러 젠킨스  성적 : 48승 34패(승률 58.5%) 리그 전체 공동 11위, PO 진출     득점 : 121.7점(2위)  ORtg 117.2(6위) 실점 : 116.9점(24위)  DRtg 112.6(11위) 마진 : +4.8점(5위)  NetRtg +4.6(6위) *( )안은 리그 전체 순위  *ORtg/DRtg : 각각 100번의 공격/수비 기회에서 득점/실점 기대치. 1995-96시즌 창단 이래 가장 공격적인 운영을 선보였다. 48분 환산 공격 기회인 경기 페이스(PACE) 수치 103.69, 121.7득점, ORtg 117.2, TS% 58.8% 모두 구단 역대 신기록이다. 눈에 보이는 실점 대비 수비 코트 경쟁력도 준수했다. DRtg 112.6 리그 전체 11위, 상대 TS% 56.9% 허용 6위, TS% 마진 +1.9% 9위에 올랐다. 단, 시즌 후반기 들어 팀 단위 공수 균형이 선수단 내 불협화음과 연동되어 큰 폭으로 떨어졌다. 패배한 16경기 평균 126.8실점을 헌납했던 신세다(마2025.10.09.전체콘텐츠PICK[오늘의 NBA] 시즌 프리뷰 : 인디애나 페이서스2025.10.16.좋아요댓글PICK[오늘의 NBA] 시즌 프리뷰 : 덴버 너게츠2025.10.15.좋아요댓글PICK[오늘의 NBA] 시즌 프리뷰 : LA 레이커스2025.10.14.좋아요댓글[오늘의 NBA] 시즌 프리뷰 : LA 클리퍼스2025.10.13.좋아요댓글[오늘의 NBA] 시즌 프리뷰 : 미네소타 팀버울브스2025.10.12.좋아요댓글함께 볼만한 프리미엄식지 않는 똘똘한 한 채 신드롬, 부동산 규제 3탄 나온다.슬로우뉴스학원 교재비 제대로 확인하고 계신가요?영어학원에 대한 모든 것[도안] 케이팝 데몬 헌터스 컬러링 / 색칠공부미술쌤을 위한 디지털 드로잉「스승의 구두」 허수경, 세상에서 제일 자세한 해설 : 낡음의 성실함과 새로움의 운명, 그 가치를 묻다 [2025년 고2 10월 전국연합학력평가]외솔 클래스룸구독이 망설여진다면창작자가 추천하는 무료 콘텐츠를 더 확인해 보세요![오늘의 NBA] 시즌 프리뷰 : 마이애미 히트2025.10.02.좋아요댓글[오늘의 NBA] 시즌 프리뷰 : 유타 재즈2025.09.22.좋아요댓글[오늘의 NBA] 2025-26시즌 일정&30개 팀 프리뷰 공지2025.09.12.좋아요댓글바로 구독하러 가기닫기맨위로로그인전체서비스사업자정보확인개인정보처리방침네이버 이용약관네이버 운영정책프리미엄콘텐츠 판매회원 이용약관프리미엄콘텐츠 운영정책법적고지고객센터네이버(주)는 통신판매중개시스템의 제공자로서 통신판매의 당사자가 아닙니다. 콘텐츠판매, 환불 등과 관련한 의무와 책임은 판매자에게 있습니다.Premium Contentsⓒ NAVER Corp.' metadata={'source': 'https://contents.premium.naver.com/nba/shemagicnba/contents/241120162853631zf', 'title': '[오늘의 NBA] (11/20) 덴버의 러셀 웨스트브룩', 'description': '덴버가 멤피스 원정에서 소중한 승리를 수확했다. MVP 센터 니콜라 요키치 없이 승리하는 습관을 들였다(개인 사정 3경기 연속 결장). MVP 출신 포인트가드 러셀 웨스트브룩은 마침내 커리어 누적 200번째 트리플-더블 작성. 전인미답 경지에 도달했다. 팀 승리를 견인', 'language': 'ko'}\n",
      "---------------------\n",
      "page_content='[EPL PREVIEW] 아스날 vs 웨스트햄 최종 경기 결과 예측본문 바로가기페이지 스크롤 진행률Premium Contents이전 페이지축구전문가, 축잘알이 되는 법검색로그인﻿[EPL] PREVIEW[EPL PREVIEW] 아스날 vs 웨스트햄 최종 경기 결과 예측2025.10.04. 오후 10:16by축구예측 전문가 K좋아요댓글SNS 보내기글씨 크기 조정더 작게가더 크게[EPL PREVIEW]아스날vs웨스트햄최종 경기 결과 예측🧭 킥오프 시간 🧭🌎 순위, 승점, 최근 경기 & 홈 경기장 🌎🖐 심판 카드 성향 🖐📊 전력 분석 리포트 📊📃 양 팀 포메이션 📑⚽ 예상 선발 라인업 ⚽⚡ 최근 상대 전적 ⚡📈 최근 5경기 전적 📈🔥 양 팀 키플레이어 🔥🎯 최종 경기 결과 예측🎯📊 전술 및 경기 흐름 예측 📊🏆 최종 결론 및 추천 🏆🔎 핸디캡 배팅 TIP 🔎경기 전 필수 체크 ✅킥오프 시간 🧭출처 : sofascore.com순위, 승점, 최근 경기 🌎출처 : sofascore.com심판 카드 성향 🖐 & 홈 경기장 🏟️출처 : sofascore.com전력 분석 리포트 📊아스날 vs 웨스트햄아스날 분석 📊✅ 리그 4승1무1패(승점 13점), 현재 2위로 선두 경쟁 중✅ 최근 공식 6경기 무패(5승1무), 홈 5경기 무패(4승1무)✅ 최근 5경기 9득점 2실점, 공·수 밸런스 우수✅ 웨스트햄 상대 최근 홈 10경기에서 8승 2패, 확실한 우위⚠️ 제수스, 마두에케, 하베르츠, 인카피에 등 부상 결장자 다수웨스트햄분석 📊⚠️ 리그 1승1무4패(승점 4점, 19위), 강등권에 위치⚠️ 최근 공식 3경기 무승(1무2패), 원정 4경기 1승1무2패⚠️ 최근 5경기 9실점(경기당 1.8실점), 수비 집중력 문제⚠️ 소우체크 퇴장 징계로 결장, 완-비사카 출전 불투명✅ 보웬이 빠른 역습으로 위협 가능⚠️ 최근 10경기 중 6번 핸디캡 패배📃 양 팀 포메이션 📑⚽ 예상 선발 라인업 ⚽출처 : sofascore.com최근 상대 전적 ⚡출처 : fotmob.com최근 5경기 전적 📈출처 : fotmob.com양 팀 키플레이어 🔥출처 : fotmob.com최종 경기 결과 예측🎯📊 전술 및 경기 흐름 예측 📊🏆 최종 결론 및 추천 🏆🔎 핸디캡 배팅 TIP 🔎프리미엄 구독자 전용 콘텐츠입니다.축구전문가, 축잘알이 되는 법 구독으로 더 많은 콘텐츠를 만나보세요!쿠폰프리미엄 구독2,900원/월첫 달1,900원콘텐츠만 결제하기5,000원/7일축구예측 전문가 K축구 입문자부터 실전 예측 고수까지, 모두 환영합니다!심층 분석으로 경기를 더 재미있고, 더 분석적으로 즐기세요.📊 배당 분석 + 전력 비교⚽ 킥오프 시간 / 팀 평균 평점 / 선발 라인업📈 국내 & 해외 배당률 / 심판 카드 성향🎯 최종 경기 예측 & 핸디캡 배팅 TIP🔥 팀 승점, 포메이션, 최근 경기 동향 등축구 승부 예측의 고수가 될 수 있는 실전형 콘텐츠 제공!좋아요댓글공유하기축구전문가, 축잘알이 되는 법채널에서 무료 제공하는 콘텐츠가 있습니다.지금 로그인하면 무료로 볼 수 있습니다.로그인닫기축구전문가, 축잘알이 되는 법이 채널의 콘텐츠가 마음에 드셨나요?채널을 구독하고 창작자의 콘텐츠를 응원해 주세요!스포츠/건강평균 주17회 신규 업데이트닫기무료 콘텐츠 모아보기[공지사항] 25-26 시즌 해외축구 개막 기념 이벤트 안내! 🎉🎁 (축구 유니폼 증정 등)2025.07.10.[이벤트] [유로파 결승][토트넘 vs 맨체스터 유나이티드] 최종 점수 예측하고 푸짐한 상품 받아가세요! 🎁🔥2025.05.20.[이벤트] 챔피언스리그 결승에 진출할 2팀을 예측하고 상품 받아가세요 🎁2025.04.26.[이벤트] [프랑크푸르트 VS 토트넘] 최종 점수와 첫 득점자를 맞히고 푸짐한 상품 받아가세요! 🎁🔥2025.04.17.다른 채널의 무료 콘텐츠 더보기전체콘텐츠PICK[리그앙 PREVIEW] 파리 생제르맹 vs RC 스트라스부르 최종 경기 결과 예측2025.10.16.좋아요댓글PICK[분데스 PREVIEW] 유니온 베를린 vs 묀헨글라트바흐 최종 경기 결과 예측2025.10.16.좋아요댓글[월드컵 유럽 예선 PREVIEW] 스코틀랜드 vs 벨라루스 최종 경기 결과 예측2025.10.12.좋아요댓글PICK[월드컵 유럽 예선 PREVIEW] 네덜란드 vs 핀란드 최종 경기 결과 예측2025.10.12.좋아요댓글[월드컵 유럽 예선 PREVIEW] 리투아니아 vs 폴란드 최종 경기 결과 예측2025.10.12.좋아요댓글함께 볼만한 프리미엄[IFRS Shorts 33]KIFRS1110, 특별한 관계(Special relationship)와 지배력 형성 여부20년차 회계사가 남긴 모든 것동영상[LIVE] 2025.10.16.(목) '모닝차트' 해설유목민의 시그널리포트10월 15일 주요뉴스딜링룸 이야기중국의 대만 침공을 러시아가 돕는 이유지식부장관 글로벌 인사이트구독이 망설여진다면창작자가 추천하는 무료 콘텐츠를 더 확인해 보세요![공지사항] 25-26 시즌 해외축구 개막 기념 이벤트 안내! 🎉🎁 (축구 유니폼 증정 등)2025.07.10.좋아요댓글[이벤트] [유로파 결승][토트넘 vs 맨체스터 유나이티드] 최종 점수 예측하고 푸짐한 상품 받아가세요! 🎁🔥2025.05.20.좋아요댓글[이벤트] 챔피언스리그 결승에 진출할 2팀을 예측하고 상품 받아가세요 🎁2025.04.26.좋아요댓글바로 구독하러 가기닫기맨위로로그인전체서비스사업자정보확인개인정보처리방침네이버 이용약관네이버 운영정책프리미엄콘텐츠 판매회원 이용약관프리미엄콘텐츠 운영정책법적고지고객센터네이버(주)는 통신판매중개시스템의 제공자로서 통신판매의 당사자가 아닙니다. 콘텐츠판매, 환불 등과 관련한 의무와 책임은 판매자에게 있습니다.Premium Contentsⓒ NAVER Corp.' metadata={'source': 'https://contents.premium.naver.com/footballanalyst/soocermaster/contents/251004221608663by', 'title': '[EPL PREVIEW] 아스날 vs 웨스트햄 최종 경기 결과 예측', 'description': '✅ 리그 4승1무1패(승점 13점), 현재 2위로 선두 경쟁 중 ✅ 최근 공식 6경기 무패(5승1무), 홈 5경기 무패(4승1무) ✅ 최근 5경기 9득점 2실점, 공·수 밸런스 우수 ✅ 웨스트햄 상대 최근 홈 10경기에서 8승 2패, 확실한 우위 ⚠️ 제수스, 마두에케', 'language': 'ko'}\n",
      "---------------------\n",
      "page_content='[축구 정보] 프리미어리그 2024/25 시즌 일정 확정! 이번에 승격한 팀은 누구?본문 바로가기페이지 스크롤 진행률Premium Contents이전 페이지축구전문가, 축잘알이 되는 법검색로그인[축구 정보][축구 정보] 프리미어리그 2024/25 시즌 일정 확정! 이번에 승격한 팀은 누구?2024.06.18. 오후 5:34by축구예측 전문가 K좋아요댓글SNS 보내기글씨 크기 조정더 작게가더 크게사진:Unsplash의Benjamin Elliott24/25 시즌프리미어리그 일정 확정!출처 : 스포티비 인스타그램2024/25 시즌 개막전은 언제? 어느 팀이 맞붙나요?시즌 첫 경기 1라운드 경기 정보2024/25 시즌 잉글랜드 프리미어리그 개막전은 8월 17일 새벽 4시에 시작합니다.개막전은맨체스터 유나이티드와 풀럼이 맞붙을 예정이며 맨체스터 유나이티드의 홈 구장인 올드 트래포드에서 펼쳐질 예정입니다.지난 시즌 챔피언이었던 맨체스터 시티는 시즌 첫 경기로 첼시와 맞붙을 예정입니다.지난 시즌 준우승팀인 아스날은 울버햄튼과 홈구장인 에미레이트 스타디움에서 첫 경기를 할 예정입니다.리버풀의 클롭 감독이 떠난 뒤, 안 슬롯 감독 체제의 리버풀 첫 경기는 프리미어리그에 갓 승격한 신인 구단, 입스위치 타운의 경기장에서 열릴 예정입니다.뉴캐슬 유나이티드는 홈 구장인 세인트 제임스 파크에서 사우스햄튼을 맞이할 예정입니다.에버튼은 구디슨 파크에서 브라이튼 앤 호브 앨비언을, 노팅엄 포레스트는 시티 그라운드에서 본머스를, 웨스트햄 유나이티드는 지난 시즌 깜짝 챔피언스리그에 진출에 성공한 아스톤 빌라를, 브렌트포드는 홈에서 크리스탈 팰리스를 상대할 예정입니다.그리고 화요일 새벽 4시, 토트넘과 레스터시티의 경기를 끝으로 1라운드 경기가 마무리 될 예정입니다.※ 일부 프리미어 리그 경기에 대한 날짜 또는 킥오프 시간은 변경될 수 있습니다.2024/25 프리미어리그, 더 넉넉한 휴식 기간 가진다!2024/25 프리미어리그 경기는 33번의 주말, 4번의 주중 라운드, 1번의 휴일 매치위크에 걸쳐 진행됩니다.2024/25 시즌 프리미어리그는 크리스마스와 새해의 혼잡한 일정을 해결하고자 했습니다.축제기간(크리스마스 새해)동안, 팀에 더 많은 휴식 시간을 제공하고, 다음 경기 후 60시간 이내에 어떤 클럽도 경기할 수 없도록 룰을 개정했습니다.지난 시즌(2023년) 울버햄튼이 크리스마스 이브에 첼시를 상대했었던 것과 같은 일은 일어날 수 없게 되었습니다. 그로 인해 이번 2024년 12월 24일에는 경기가 없을 예정입니다.프리미어리그 시즌은 언제 끝나나요?최종 라운드 경기는 2025년 5월 25일 일요일에 진행됩니다.이전과 같이, 최종전이 열리는 날에는 모든 경기가 동시에 시작됩니다.시즌 마지막 라운드는 아스날이 사우스햄튼 원정을, 맨체스터 시티가 풀럼 원정, 리버풀이 크리스탈 팰리스, 맨체스터 유나이티드는 아스톤 빌라로 원정길을 떠날 예정입니다.입스위치는 포트만 로드에서 웨스트 햄과 맞붙고, 2부리그 챔피언십 우승자였던 레스터시티는 본머스를 상대할 예정입니다.2024/25년 EPL에 새로 합류한 팀은 어디 팀인가요?레스터시티는 챔피언십을 우승하며 프리미어리그로 승격되었습니다.입스위치 타운의 키에란 맥케나 감독은 22년 만에 EPL로 복귀시켰습니다.사우스햄튼은 챔피언십 플레이오프 결승전에서 승리한 뒤 EPL로 합류에 성공했습니다.​22/23 시즌에 승격했던 3팀셰필드 유나이티드, 번리, 루턴타운은 곧바로 2부 리그로 강등되고 말았습니다.여름 이적시장은 언제 열리고 닫히나요?프리미어리그의 2024년 여름 이적 기간은 \"유로 2024\"가 시작되는 날인6월 14일 금요일에 공식적으로 시작되었으며, 영국 시간으로 8월 30일 금요일 오후 11시에 마감됩니다.프리미어리그는 유럽의 다른 메이저 리그와 이적시장을 연계하기 위해 마감일을 앞당겼습니다.프리미엄 구독자 전용 콘텐츠입니다.축구전문가, 축잘알이 되는 법 구독으로 더 많은 콘텐츠를 만나보세요!쿠폰프리미엄 구독2,900원/월첫 달1,900원축구예측 전문가 K축구 입문자부터 실전 예측 고수까지, 모두 환영합니다!심층 분석으로 경기를 더 재미있고, 더 분석적으로 즐기세요.📊 배당 분석 + 전력 비교⚽ 킥오프 시간 / 팀 평균 평점 / 선발 라인업📈 국내 & 해외 배당률 / 심판 카드 성향🎯 최종 경기 예측 & 핸디캡 배팅 TIP🔥 팀 승점, 포메이션, 최근 경기 동향 등축구 승부 예측의 고수가 될 수 있는 실전형 콘텐츠 제공!#해외축구#EPL#일정#2425시즌#강등#승격#맨시티#아스날#리버풀#맨유좋아요댓글공유하기축구전문가, 축잘알이 되는 법채널에서 무료 제공하는 콘텐츠가 있습니다.지금 로그인하면 무료로 볼 수 있습니다.로그인닫기축구전문가, 축잘알이 되는 법이 채널의 콘텐츠가 마음에 드셨나요?채널을 구독하고 창작자의 콘텐츠를 응원해 주세요!스포츠/건강평균 주17회 신규 업데이트닫기무료 콘텐츠 모아보기[공지사항] 25-26 시즌 해외축구 개막 기념 이벤트 안내! 🎉🎁 (축구 유니폼 증정 등)2025.07.10.[이벤트] [유로파 결승][토트넘 vs 맨체스터 유나이티드] 최종 점수 예측하고 푸짐한 상품 받아가세요! 🎁🔥2025.05.20.[이벤트] 챔피언스리그 결승에 진출할 2팀을 예측하고 상품 받아가세요 🎁2025.04.26.[이벤트] [프랑크푸르트 VS 토트넘] 최종 점수와 첫 득점자를 맞히고 푸짐한 상품 받아가세요! 🎁🔥2025.04.17.다른 채널의 무료 콘텐츠 더보기전체콘텐츠PICK[리그앙 PREVIEW] 파리 생제르맹 vs RC 스트라스부르 최종 경기 결과 예측2025.10.16.좋아요댓글PICK[분데스 PREVIEW] 유니온 베를린 vs 묀헨글라트바흐 최종 경기 결과 예측2025.10.16.좋아요댓글[월드컵 유럽 예선 PREVIEW] 스코틀랜드 vs 벨라루스 최종 경기 결과 예측2025.10.12.좋아요댓글PICK[월드컵 유럽 예선 PREVIEW] 네덜란드 vs 핀란드 최종 경기 결과 예측2025.10.12.좋아요댓글[월드컵 유럽 예선 PREVIEW] 리투아니아 vs 폴란드 최종 경기 결과 예측2025.10.12.좋아요댓글함께 볼만한 프리미엄삼성전자 ‘어닝 서프라이즈’ — 한국 경제의 전환 신호, 그리고 10만전자의 의미SF307김밥을 만들어요 순서도여름쌤 this summerINCEPTION model 딥러닝 신경망 구조중 하나SF307CES2026, 더밀크 '판7' 뜬다... 현장 VIP 가이드 런칭더밀크구독이 망설여진다면창작자가 추천하는 무료 콘텐츠를 더 확인해 보세요![공지사항] 25-26 시즌 해외축구 개막 기념 이벤트 안내! 🎉🎁 (축구 유니폼 증정 등)2025.07.10.좋아요댓글[이벤트] [유로파 결승][토트넘 vs 맨체스터 유나이티드] 최종 점수 예측하고 푸짐한 상품 받아가세요! 🎁🔥2025.05.20.좋아요댓글[이벤트] 챔피언스리그 결승에 진출할 2팀을 예측하고 상품 받아가세요 🎁2025.04.26.좋아요댓글바로 구독하러 가기닫기맨위로로그인전체서비스사업자정보확인개인정보처리방침네이버 이용약관네이버 운영정책프리미엄콘텐츠 판매회원 이용약관프리미엄콘텐츠 운영정책법적고지고객센터네이버(주)는 통신판매중개시스템의 제공자로서 통신판매의 당사자가 아닙니다. 콘텐츠판매, 환불 등과 관련한 의무와 책임은 판매자에게 있습니다.Premium Contentsⓒ NAVER Corp.' metadata={'source': 'https://contents.premium.naver.com/footballanalyst/soocermaster/contents/240618173416416cf', 'title': '[축구 정보] 프리미어리그 2024/25 시즌 일정 확정! 이번에 승격한 팀은 누구?', 'description': '2024/25 시즌 잉글랜드 프리미어리그 개막전은 8월 17일 새벽 4시에 시작합니다. 개막전은 맨체스터 유나이티드와 풀럼이 맞붙을 예정이며 맨체스터 유나이티드의 홈 구장인 올드 트래포드에서 펼쳐질 예정입니다. 지난 시즌 챔피언이었던 맨체스터 시티는 시즌 첫 경기로 첼', 'language': 'ko'}\n",
      "---------------------\n",
      "page_content='러셀 웨스트브룩이랑 크리스 폴 : 네이버 지식iNNAVER지식iNeXpert질문홈Q&ACHOiCENEW답변하기지식기부사람들명예의전당룰렛Q&AQ&A러셀 웨스트브룩이랑 크리스 폴정보가 없는 사용자조회수 8642022.02.08.커리어 위상 스타성 누가 더 뛰어난 선수인가요?둘다 좋아하는 선수인데 각 선수 장단점이 어떻게 되나요?#농구 선수, 감독댓글답변 알림 받기공유하기메뉴 더보기답변 2개추천순답변을 입력해주세요채택된 답변오듀본2022.02.08메뉴 더보기접기안녕하세요?~ 오랫동안 nba를 즐겨본 nba 팬입니다.답변 드립니다.Q1. 커리어 위상 스타성 누가 더 뛰어난 선수인가요?- 현재는 웨스트브룩이 전성기 폼에서 워낙 내려가 크리스 폴이 압도를 하고 있습니다만, 커리어 전반적으로 보면 비슷하다고 봅니다. (개인적인 평과 후대의 평은 밑에 코멘트 하겠습니다.)- 크리스 폴은 올nba 퍼스트팀(베스트팀) 4회, 세컨드팀5회, 서드팀1회 / 올nba디펜시브팀 총9회 / mvp 수상 없음(최고 2위) / 어시스트왕 4회 / 스틸왕6회 / 우승 없음- 웨스트브룩 올nba 퍼스트팀2회, 세컨드팀 5회, 서드팀2회 / mvp1회 / 시즌 트리블더블(역사상 단 2명) 3시즌 연속 및 총4회 기록 / 득점왕2회 / 어시스트왕 3회 / 우승 없음두 선수의 주요 수상내역인데, 보시면 비슷합니다. 폴이 퍼스트팀 횟수가 더 많긴 하나 웨스트브룩은 mvp수상이 대신 있습니다.팀으로 이룬 성과도 언뜻 보면 비슷합니다. 우승은 둘 다 없고, 최고는 둘 다 준우승 1회입니다. 다만 준우승 1회를 했을 때 웨스더보기UP1DOWN1댓글1열심답변자절대신2022.02.08메뉴 더보기러셀 웨스트브룩이랑 크리스 폴커리어 위상 스타성 누가 더 뛰어난 선수인가요?​둘다 좋아하는 선수인데 각 선수 장단점이 어떻게 되나요?​​크리스 폴 이겠죠​현재 성적이....​​현재 러셀 심각함  벽돌.​현재 크리스 폴  잘  심각함  총사령관.더보기UPDOWN1댓글맨위로이동로그인PC버전전체서비스이용약관지식iN 서비스 운영정책개인정보처리방침권리보호센터지식iN 고객센터© NAVER Corp.' metadata={'source': 'https://m.kin.naver.com/qna/dirs/10010305/docs/411690092?d1id=10&qb=65+s7IWA&enc=utf8&section=kin.qna&rank=647&search_sort=0&spq=1', 'title': '러셀 웨스트브룩이랑 크리스 폴 : 네이버 지식iN', 'description': '커리어 위상 스타성 누가 더 뛰어난 선수인가요?둘다 좋아하는 선수인데 각 선수 장단점이 어떻게 되나요?', 'language': 'No language found.'}\n",
      "---------------------\n",
      "page_content='25-26시즌 프리미어리그 개막전 경기 일정과 상대팀? : 네이버 지식iNNAVER지식iNeXpert질문홈Q&ACHOiCENEW답변하기지식기부사람들명예의전당룰렛Q&AQ&A25-26시즌 프리미어리그 개막전 경기 일정과 상대팀?지식iN서비스조회수 9002025.06.20.2025-26 시즌 프리미어리그의 개막전 경기는 2025년 8월 16일에 진행되며, 이때의 경기 일정과 상대팀에 대한 정보를 알고 싶습니다. 또한, 이 경기가 어떤 팀의 홈구장에서 열리는지도 궁금합니다.#프로축구#오늘숏텐츠#프리미어리그#개막전#경기일정#상대팀댓글답변 알림 받기공유하기답변 2개추천순답변을 입력해주세요hus9****2025.08.04메뉴 더보기#프리미어리그2526접기아래는 2025‑26 프리미어리그 개막전 경기 일정과 상대, 그리고 경기 장소에 대한 정확한 정보입니다.EPL 일정한국 표준시Newcastle UnitedAston Villa8월 16일 (토)오후 8:30Fulham FCBrighton & Hove Albion8월 16일 (토)오후 11:00West Ham UnitedSunderland AFC8월 16일 (토)오후 11:00Burnley FCTottenham Hotspur8월 16일 (토)오후 11:00Manchester CityWolverhampton Wanderers8월 17일 (일)오전 1:30⚽ 2025‑26시즌 프리미어리그 개막전 일정2025년 8월 16일 (토요일)애스턴 빌라 vs 뉴캐슬 유나이티드경기장: 애스턴 빌라의 빌라 파크 (Aston Villa의 홈구장)에서 개최됩니다.이 경기는 TNT Sports를 통해 12:30 UK 시간(한국 기준 오전)에 중계됩니다.이 경기가 프리미어리그의 정식 개막전으로, 시즌 첫 번째 경기로 지정되어 있으며 가장 먼저 시작되는 매치입니다.더보기프리미어리그25-26 개막전 개막일 시즌시작 유니폼 순위 (+토트넘) - 풋볼인사이트https://m.site.naver.com/1NPojUP1DOWN댓글3j6s****태양신2025.06.20메뉴 더보기2025년 8월 16일,프리미어리그 개막전은 홈팀의 경기가 펼쳐집니다.더보기UPDOWN댓글맨위로이동로그인PC버전전체서비스이용약관지식iN 서비스 운영정책개인정보처리방침권리보호센터지식iN 고객센터© NAVER Corp.' metadata={'source': 'https://m.kin.naver.com/qna/dirs/10010102/docs/486350410', 'title': '25-26시즌 프리미어리그 개막전 경기 일정과 상대팀? : 네이버 지식iN', 'description': '2025-26 시즌 프리미어리그의 개막전 경기는 2025년 8월 16일에 진행되며, 이때의 경기 일정과 상대팀에 대한 정보를 알고 싶습니다. 또한, 이 경기가 어떤 팀의 홈구장에서...', 'language': 'No language found.'}\n",
      "---------------------\n"
     ]
    }
   ],
   "execution_count": 26
  },
  {
   "metadata": {
    "ExecuteTime": {
     "end_time": "2025-10-16T11:46:39.894753Z",
     "start_time": "2025-10-16T11:46:39.891776Z"
    }
   },
   "cell_type": "code",
   "source": [
    "import requests\n",
    "from bs4 import BeautifulSoup\n",
    "\n",
    "def get_article_text(url):\n",
    "  try:\n",
    "    response = requests.get(url)\n",
    "    response.raise_for_status()\n",
    "\n",
    "    soup = BeautifulSoup(response.content, 'html.parser')\n",
    "\n",
    "    article = soup.find('div', class_='container_content _GRID_TEMPLATE_COLUMN _STICKY_CONTENT')\n",
    "\n",
    "    if article:\n",
    "      return article.get_text(strip=True)\n",
    "    else:\n",
    "      try:\n",
    "        if soup.find('article'):\n",
    "          return soup.find('article').get_text(strip=True)\n",
    "        elif soup.find('div', class_='article_area'):\n",
    "          return soup.find('div', class_='article_area').get_text(strip=True)\n",
    "      except:\n",
    "        return \"기사 내용을 찾을 수 없습니다.\"\n",
    "\n",
    "  except requests.exceptions.RequestException as e:\n",
    "    return f\"URL을 가져오는 중 오류 발생: {e}\""
   ],
   "id": "7a2313ad12a0f179",
   "outputs": [],
   "execution_count": 29
  },
  {
   "metadata": {
    "ExecuteTime": {
     "end_time": "2025-10-16T11:46:43.344522Z",
     "start_time": "2025-10-16T11:46:41.602485Z"
    }
   },
   "cell_type": "code",
   "source": [
    "articles = []\n",
    "\n",
    "for link in links:\n",
    "  print(f\"URL: {link}\\n\")\n",
    "  article_text = get_article_text(link)\n",
    "  print(f\"Content:\\n{article_text}\")\n",
    "  print(\"------------------------------------\")\n",
    "  articles.append(article_text)"
   ],
   "id": "32928ea99de3579",
   "outputs": [
    {
     "name": "stdout",
     "output_type": "stream",
     "text": [
      "URL: https://contents.premium.naver.com/footballanalyst/soocermaster/contents/250710160527740rz\n",
      "\n",
      "Content:\n",
      "[공지사항][공지사항] 25-26 시즌 해외축구 개막 기념 이벤트 안내! 🎉🎁 (축구 유니폼 증정 등)2025.07.10. 오후 4:05by축구예측 전문가 K좋아요댓글SNS 보내기글씨 크기 조정더 작게가더 크게25-26 시즌⚽ 해외축구 개막 이벤트 🎉5대리그 (EPL, 분데스리가, 라리가, 리그앙, 세리에)안녕하세요.축구전문가, 축잘알이 되는법입니다.이번 25-26 시즌 개막을 맞아 구독자님들께25/26시즌개막 기념 3가지 이벤트를 진행하고자 합니다.+ 채널 개설 800일 기념 깜짝 이벤트 !출처 :GIPHY1. 📣 “25/26 시즌 EPL 우승팀 맞추기!“이번 시즌 EPL 우승은 어디일까?”당신의 축잘알 감각을 증명하세요!상품 :푸마 맨체스터 시티 2024/25 홈 저지 팀 라이트 블루​2. 📢 25/26 시즌 EPL 득점왕 맞추기!“득점왕은 홀란드? 살라? 아니면 손흥민?”시즌 종료 후 득점왕 맞히면, 맛있는 축구 한 끼를 쏩니다!상품 :배달의민족 상품권 3만원 권​3. 🔔 25/26 시즌 EPL 첫 해트트릭 선수 맞추기!“이번 시즌 첫 해트트릭은 누구일까요?”개막전부터 예측력 뽐내고,시원한 스타벅스받아가세요!상품 :스타벅스 상품권 1만원 권축구전문가, 축잘알이 되는법이벤트 안내 전,, 한번만 읽어주세요 🙏🏻축잘알은 23년 5월 3일 첫 발행을 시작했습니다.그리고 25년 7월 10일까지800일간1136개의게시물을 발행했습니다.한달에 약50건의 게시물을 발행하고 있습니다.(분석 게시물 하나당 58원 꼴)채널 개설800일기념🎉 이벤트 안내 🎉7월 한 달간, 첫 달 구독료 100% 무료!​📢[축구전문가 축잘알이 되는법]개설 800일을 맞아 감사 이벤트를 준비했습니다.바로~ 첫달 무료 이벤트 입니다!​7월 한 달간, 첫 달 구독료 100% 무료!🎲 언제까지 감에 의존하시겠습니까? 🎰🤖 통계 데이터에 기반한 축구 분석! 📊▼ 지금 시작하세요! ▼이용권 선택 : 축구전문가, 축잘알이 되는 법축구전문가, 축잘알이 되는 법의 콘텐츠 상품을 구매하실 수 있습니다.contents.premium.naver.com🍀 지금 구독하면첫달 무료!✅ 지금 시작하지 않으면 손해입니다.​<구독 혜택>25/26 시즌 주요 경기 승부예측오버/언더, 핸디캡 분석 제공​📊 배당 분석 + 전력 비교⚽ 킥오프 시간 / 팀 평균 평점 / 선발 라인업📈 국내 & 해외 배당률 / 심판 카드 성향🎯 최종 경기 예측 & 핸디캡 배팅 TIP🔥 팀 승점, 포메이션, 최근 경기 동향 등🎁 이벤트 상세 설명 시작합니다! 🎉읽어주셔서 감사합니다.출처 :GIPHY📢 25/26 시즌 EPL 우승팀은?이벤트 마감 기간EPL 1R 개막전 2025년 8월 16일 토요일 04:00 전지금 바로 참여하세요!Puma Manchester City 2024/25 Home Jersey Team Light Blue (Non Marking Ver.)25/26 시즌의 EPL 우승 팀을 예측해주세요.당첨자 中 추첨을 통해 한분께24/25 시즌, 맨체스터 시티 유니폼을 선물로 드리겠습니다.​예측 적중시 시즌 종료 후 정답자는 선물! 🎁상품 :푸마 맨체스터 시티 2024/25 홈 저지 팀 라이트 블루​💡 댓글 작성 안내예시 1번) : 우승팀 : 리버풀예시 2번) : 맨시티예시 3번) : 아스날 우승가자!!(아스날 우승 예측으로 댓글 작성 인정)EPL 25-26시즌 참가팀📢 25/26 시즌 EPL 득점왕은?이벤트 마감 기간EPL 1R 개막전 2025년 8월 16일 토요일 04:00 전지금 바로 참여하세요!​25/26 시즌의 EPL 득점왕을 예측해주세요.당첨자 中 추첨을 통해 한분께배달의민족 상품권을 선물로 드리겠습니다.​예측 적중시 시즌 종료 후 정답자는 선물! 🎁상품 :배달의민족 상품권 3만원권​💡 댓글 작성 안내예시 1번) : 득점왕 : 홀란드예시 2번) : 살라예시 3번) : 손흥민 득점왕 가자!!!(손흥민 예측으로 댓글 작성 인정)23/24, 24/25 시즌 득점왕 순위📢 25/26 시즌 EPL첫 헤트트릭 선수는?이벤트 마감 기간EPL 1R 개막전 2025년 8월 16일 토요일 04:00 전지금 바로 참여하세요!​25/26 시즌 EPL 첫 헤트트릭 선수를 예측해주세요.당첨자 中 추첨을 통해 한분께스타벅스 상품권을 선물로 드리겠습니다.​예측 적중시 시즌 종료 후 정답자는 선물! 🎁상품 :스타벅스 상품권 3만원권​💡 댓글 작성 안내예시 1번) : 첫 헤트트릭 : 홀란드예시 2번) : 살라예시 3번) : 손흥민 헤트트릭 가자!!!(손흥민 예측으로 댓글 작성 인정)🔒 유의사항시즌 종료 시점까지 구독을 유지한 분에한하여 경품 지급 대상이 됩니다.​중간 구독 해지 시 이벤트 대상 제외.중복 아이디 응모는 무효 처리됩니다.​모든 이벤트는 시즌 종료 이후댓글 혹은 톡톡 메세지를 통하여경품을 전달드릴 예정입니다.축구전문가, 축잘알이 되는법은축알못이 사라지는 그 날까지!열심히 축구를 재밌게 보고, 즐길 수 있는주요 해외 축구 분석글을 올리도록 하겠습니다.좋은 의견이 있으시면 언제든지 톡톡 문의주세요.분석 원하시는 경기가 있으시면 댓글 요청주세요.출처 :GIPHY축구팬 여러분,드디어 기다리던25-26시즌 해외축구가 개막 예정입니다.구독취소하지않고 긴 시간 기다려주신 구독자님들!다시한번 감사의 말씀드립니다.더욱 더 양질의 콘텐츠로 함께하겠습니다.감사합니다!▼ 지금 무료구독하기! ▼이용권 선택 : 축구전문가, 축잘알이 되는 법축구전문가, 축잘알이 되는 법의 콘텐츠 상품을 구매하실 수 있습니다.contents.premium.naver.com▲ 지금 무료 구독하고 댓글 달기! ▲해당 콘텐츠는 프리미엄 구독자 공개(유료) 콘텐츠로 무단 캡쳐 및 불법 공유시 법적 제재를 받을 수 있습니다.본 콘텐츠는 무료로 제공중입니다.콘텐츠가 마음에 드셨나요?축구전문가, 축잘알이 되는 법 구독으로 더 많은 콘텐츠를 만나보세요!쿠폰프리미엄 구독2,900원/월첫 달1,900원축구예측 전문가 K축구 입문자부터 실전 예측 고수까지, 모두 환영합니다!심층 분석으로 경기를 더 재미있고, 더 분석적으로 즐기세요.📊 배당 분석 + 전력 비교⚽ 킥오프 시간 / 팀 평균 평점 / 선발 라인업📈 국내 & 해외 배당률 / 심판 카드 성향🎯 최종 경기 예측 & 핸디캡 배팅 TIP🔥 팀 승점, 포메이션, 최근 경기 동향 등축구 승부 예측의 고수가 될 수 있는 실전형 콘텐츠 제공!좋아요댓글공유하기축구전문가, 축잘알이 되는 법채널에서 무료 제공하는 콘텐츠가 있습니다.지금 로그인하면 무료로 볼 수 있습니다.로그인닫기축구전문가, 축잘알이 되는 법이 채널의 콘텐츠가 마음에 드셨나요?채널을 구독하고 창작자의 콘텐츠를 응원해 주세요!스포츠/건강평균 주17회 신규 업데이트닫기무료 콘텐츠 모아보기[공지사항] 25-26 시즌 해외축구 개막 기념 이벤트 안내! 🎉🎁 (축구 유니폼 증정 등)2025.07.10.[이벤트] [유로파 결승][토트넘 vs 맨체스터 유나이티드] 최종 점수 예측하고 푸짐한 상품 받아가세요! 🎁🔥2025.05.20.[이벤트] 챔피언스리그 결승에 진출할 2팀을 예측하고 상품 받아가세요 🎁2025.04.26.[이벤트] [프랑크푸르트 VS 토트넘] 최종 점수와 첫 득점자를 맞히고 푸짐한 상품 받아가세요! 🎁🔥2025.04.17.다른 채널의 무료 콘텐츠 더보기전체콘텐츠PICK[리그앙 PREVIEW] 파리 생제르맹 vs RC 스트라스부르 최종 경기 결과 예측2025.10.16.좋아요댓글PICK[분데스 PREVIEW] 유니온 베를린 vs 묀헨글라트바흐 최종 경기 결과 예측2025.10.16.좋아요댓글[월드컵 유럽 예선 PREVIEW] 스코틀랜드 vs 벨라루스 최종 경기 결과 예측2025.10.12.좋아요댓글PICK[월드컵 유럽 예선 PREVIEW] 네덜란드 vs 핀란드 최종 경기 결과 예측2025.10.12.좋아요댓글[월드컵 유럽 예선 PREVIEW] 리투아니아 vs 폴란드 최종 경기 결과 예측2025.10.12.좋아요댓글함께 볼만한 프리미엄군인 전역 제대 국군의날 육군전투복 100일휴 병사 현충일 호국보훈의 달루딕365맥락을 디자인하라SF307퍼팅성공 확률을 높이는 43cm의 마법독학으로 \"더 골프\" 잘하는 방법바이낸스 뱅크런 루머에 관해STOCKSTUDY구독이 망설여진다면창작자가 추천하는 무료 콘텐츠를 더 확인해 보세요![이벤트] [유로파 결승][토트넘 vs 맨체스터 유나이티드] 최종 점수 예측하고 푸짐한 상품 받아가세요! 🎁🔥2025.05.20.좋아요댓글[이벤트] 챔피언스리그 결승에 진출할 2팀을 예측하고 상품 받아가세요 🎁2025.04.26.좋아요댓글[이벤트] [프랑크푸르트 VS 토트넘] 최종 점수와 첫 득점자를 맞히고 푸짐한 상품 받아가세요! 🎁🔥2025.04.17.좋아요댓글바로 구독하러 가기닫기\n",
      "------------------------------------\n",
      "URL: https://contents.premium.naver.com/nba/shemagicnba/contents/250912095310230ec\n",
      "\n",
      "Content:\n",
      "오늘의 NBA[오늘의 NBA] 2025-26시즌 일정&30개 팀 프리뷰 공지2025.09.12. 오전 9:53by염용근좋아요댓글SNS 보내기글씨 크기 조정더 작게가더 크게​​안녕하세요. 염용근 컬럼리스트입니다. NBA 2025-26시즌 개막이 다가왔습니다. 개막전은 한국 기준 10월 22일 수요일 오클라호마시티 vs 휴스턴, LA 레이커스 vs 골든스테이트 2경기입니다. 차기 시즌 주요 일정은 아래 내용을 참조하시면 됩니다.​[오늘의 NBA]는 30개 팀 프리뷰로 출발합니다. 9월 22일 월요일을 시작으로 10월 21일 화요일까지 진행됩니다. 또한, 10월 22일부터 정규시즌 컬럼이 시작되고요. 팬분들은 구독에 차질이 없게끔 일정 체크 부탁드릴게요. 저는 9월 22일부터 시작될 프리뷰 일정에 맞춰 찾아뵙겠습니다. 비시즌 동안 구독을 유지해 주셨던 팬분들께도 다시 한번 감사 인사 전합니다!​[오늘의 NBA] 시즌 프리뷰 일정9월 22일(월) : 유타 재즈9월 23일(화) : 워싱턴 위저즈9월 24일(수) : 샬럿 호네츠..10월 19일(일) : 보스턴 셀틱스10월 20일(월) : 클리블랜드 캐벌리어스10월 21일(화) : 오클라호마시티 썬더​NBA 2025-26시즌 주요 일정(한국 기준)프리 시즌 : 10월 3일~18일정규시즌 개막 : 10월 22일(OKC vs HOU, LAL vs GSW)인-시즌 토너먼트 : 11월 1일~12월 17일트레이드 마감일 : 2월 6일올스타전 주간(휴식기 포함) : 2월 14일~19일정규시즌 마감 : 4월 13일플레이-인 토너먼트 : 4월 15일~18일플레이오프 : 4월 19일~미정​​사진 출처 : nbcuniversal.com​​염용근 기자(shemagic2@naver.com)해당 콘텐츠는 프리미엄 구독자 공개(유료) 콘텐츠로 무단 캡쳐 및 불법 공유시 법적 제재를 받을 수 있습니다.본 콘텐츠는 무료로 제공중입니다.콘텐츠가 마음에 드셨나요?염용근 오늘의 NBA  구독으로 더 많은 콘텐츠를 만나보세요!프리미엄 구독9,900원/월염용근염용근 NBA 컬럼리스트#염용근#오늘의NBA#NBA#2025-26시즌#프리뷰좋아요댓글공유하기염용근 오늘의 NBA채널에서 무료 제공하는 콘텐츠가 있습니다.지금 로그인하면 무료로 볼 수 있습니다.로그인닫기염용근 오늘의 NBA이 채널의 콘텐츠가 마음에 드셨나요?채널을 구독하고 창작자의 콘텐츠를 응원해 주세요!스포츠/건강평균 주5회 신규 업데이트닫기무료 콘텐츠 모아보기[오늘의 NBA] 시즌 프리뷰 : 마이애미 히트2025.10.02.[오늘의 NBA] 시즌 프리뷰 : 유타 재즈2025.09.22.[오늘의 NBA] 2025-26시즌 일정&30개 팀 프리뷰 공지2025.09.12.[오늘의 NBA] (8/13) 2025년 오프 시즌 현황2025.08.13.다른 채널의 무료 콘텐츠 더보기많이 본 콘텐츠안내전일 00시~24시까지 집계한 결과입니다.닫기안내전주 월요일 00시부터 일요일 24시까지 집계한 결과입니다.닫기일간주간1[오늘의 NBA] 시즌 프리뷰 : 덴버 너게츠덴버의 2024-25시즌  단장과 감독이 싸우면? 둘 다 쫓아내면 됩니다. by 조쉬 크론케  성적 : 50승 32패(승률 61.0%) 리그 전체 공동 6위, PO 2R 진출     득점 : 120.8점(3위)  ORtg 118.9(4위) 실점 : 116.9점(25위)  DRtg 115.1(21위) 마진 : +3.9점(9위)  NetRtg +3.8(9위) *( )안은 리그 전체 순위  *ORtg/DRtg : 각각 100번의 공격/수비 기회에서 득점/실점 기대치. 오랜만에 업 템포 농구를 선보였다. 니콜라 요키치 시대가 본격적으로 시작된 2018-19시즌부터 2023-24시즌까지 줄곧 리그 평균 대비 48분 환산 공격 기회인 Relative Pace 마이너스 수치를 기록했던 반면, 2024-25시즌에는 +1.0까지 끌어올렸다. 공세적인 운영은 래리 브라운(1974~79시즌), 덕 모(1981~90시즌), 조지 칼(2005~13시즌) 등 과거 시대 명장들이 즐겨 활용했던 프랜차이즈 전통이다. 전체 시즌 통합 PACE 99.4 역대 2위를 달리고 있다(1위 GSW 992025.10.15.2[오늘의 NBA] 시즌 프리뷰 : LA 레이커스레이커스의 2024-25시즌  LUKA MAGIC IN THE HOUSE by 롭 펠린카  성적 : 50승 32패(승률 61.0%) 리그 전체 공동 6위, PO 진출     득점 : 113.4점(19위)  ORtg 115.0(11위) 실점 : 112.2점(10위)  DRtg 113.8(17위) 마진 : +1.2점(14위)  NetRtg +1.2(14위) *( )안은 리그 전체 순위  *ORtg/DRtg : 각각 100번의 공격/수비 기회에서 득점/실점 기대치. 평균 수준 득실점 마진 대비 우수한 승률을 자랑했다. 원동력은 크게 두 가지다. 첫째, 출중한 초반 러쉬 솜씨를 바탕으로 기선 제압에 성공했다. 1쿼터 평균 득실점 마진이 +2.4점 리그 전체 4위다. 아무래도 경기 초반부터 앞서나가는 쪽이 운영상의 이점을 가진다. 둘째, 경기 막판 승부처에서 강한 집중력을 발휘했다. 르브론 제임스, 루카 돈치치, 오스틴 리브스 등 클러치 득점원을 다수 보유했던 덕분이다. 실제로 종료 5분 전, 5점차 이내 접전 승부 구간2025.10.14.3[오늘의 NBA] 시즌 프리뷰 : LA 클리퍼스클리퍼스의 2024-25시즌  인튜이트 돔 시대 by 스티브 발머  성적 : 50승 32패(승률 61.0%) 리그 전체 공동 6위, PO 진출     득점 : 112.9점(22위)  ORtg 114.3(15위) 실점 : 108.2점(4위)  DRtg 109.4(3위) 마진 : +4.7점(6위)  NetRtg +4.9(5위) *( )안은 리그 전체 순위  *ORtg/DRtg : 각각 100번의 공격/수비 기회에서 득점/실점 기대치. 2023-24시즌에 리그 전체 16위로 떨어졌던 DRtg 수치를 2024-25시즌 들어 3위까지 끌어올렸다. 리그 평균 대비 실점 억제력을 의미하는 Relative DRtg –4.2점의 경우 구단 역대 단일 시즌 가장 우수한 성과다(2023-24시즌 +0.1점). 수비 전술에 조예가 깊은 제프 밴 건디 수석 어시스턴트 코치, 크리스 던(트레이드), 데릭 존스 주니어(FA) 영입 효과를 톡톡히 봤다. 공격 코트에서도 6할대 승률에 필요한 득점 정도는 무난하게 산출해 냈다(ORtg 114.3 15위).  클리퍼스는 굴지의2025.10.13.4[오늘의 NBA] 시즌 프리뷰 : 댈러스 매버릭스댈러스의 2024-25시즌  우승하지 못하면 신께서 저를 용서하실까요? by 니코 해리슨  성적 : 39승 43패(승률 47.6%) 리그 전체 공동 18위    득점 : 114.2점(15위)  ORtg 113.7(18위) 실점 : 115.4점(20위)  DRtg 115.0(20위) 마진 : -1.2점(19위)  NetRtg –1.3(19위) *( )안은 리그 전체 순위  *ORtg/DRtg : 각각 100번의 공격/수비 기회에서 득점/실점 기대치. 충격적인 간판스타 트레이드와 별개로 부상 결장 인원이 너무 많았다. 리그가 펜데믹(pandemic)에 시달렸던 2020-21시즌, 주축 선수들이 죄다 나가떨어졌던 2023-24시즌 버전 멤피스처럼 경기 성립 자체를 걱정해야 할 지경이었다. 실격패를 모면하기 위한 최소 인원 8명을 겨우 맞췄으니 말 다 했다. 그나마 시즌 전반기에 벌어 놓은 승수(30승 26패 승률 53.6% 서부컨퍼런스 8위), 후반기 막판 눈물겨운 분전에 기대어 플레이-인 토너먼트 진출권2025.10.04.5[오늘의 NBA] 시즌 프리뷰 : 골든스테이트 워리어스골든스테이트의 2024-25시즌  우리에겐 시간이 얼마 남지 않았습니다. by 스티브 커  성적 : 48승 34패(승률 58.5%) 리그 전체 공동 11위, PO 2R 진출     득점 : 113.8점(17위)  ORtg 114.2(16위) 실점 : 110.5점(8위)  DRtg 111.0(7위) 마진 : +3.3점(10위)  NetRtg +3.2(10위) *( )안은 리그 전체 순위  *ORtg/DRtg : 각각 100번의 공격/수비 기회에서 득점/실점 기대치. 2010년대 중후반 왕조 시절과 비교해 화력이 큰 폭으로 감소했다. 2014~19시즌 구간 합계 ORtg 수치가 리그 전체 압도적인 1위, 2019~25시즌 구간은 14위다. 혁명적인 공격 전술로도 세월의 흐름을 거스르긴 어렵다. 다행히 강팀의 기본 조건인 수비 코트 경쟁력만큼은 건재하다. 지난 시즌 역시 기복 심한 득점력을 1월 제외 꾸준하게 유지된 실점 억제력으로 만회했다. 리그 평균 대비 DRtg –2.8점은 플레이오프 파이널 정상에 올랐던 20212025.10.11.1[오늘의 NBA] 시즌 프리뷰 : 새크라멘토 킹스새크라멘토의 2024-25시즌  바보가 바보x2에게 쓴 편지 by 아투라스 카니쇼바스 시카고 부사장  성적 : 40승 42패(승률 48.8%) 리그 전체 공동 16위    득점 : 115.7점(10위)  ORtg 115.9(7위) 실점 : 115.3점(19위)  DRtg 115.3(22위) 마진 : +0.4점(16위)  NetRtg +0.6(15위) *( )안은 리그 전체 순위  *ORtg/DRtg : 각각 100번의 공격/수비 기회에서 득점/실점 기대치. 2023-24시즌 DRtg 114.4 리그 전체 14위 수치가 2024-25시즌 들어 115.3 22위까지 떨어졌다. 공수 균형이 무너졌던 이유다. 또한, 수비 코트 경쟁력 유지를 목 놓아 부르짖던 마이크 브라운 감독이 경질당했다. 공격 쪽에 치우친 선수단 구성을 고려하면 애꿎은 감독만 유탄을 맞았다. 강점 중 하나였던 클러치 경쟁력마저 시원찮았다. 최근 3시즌 종료 5분 전, 5점차 이내 접전 승부 구간이 발생한 경기 승률 변화를 살펴보면 56.8% 9위 -> 51.3% 12025.10.06.2[오늘의 NBA] 시즌 프리뷰 : 디트로이트 피스톤스디트로이트의 2024-25시즌  지옥에서 천국으로 가는 계단 by 케이드 커닝햄  성적 : 44승 38패(승률 53.7%) 리그 전체 14위, PO 진출     득점 : 115.5점(12위)  ORtg 114.6(14위) 실점 : 113.6점(14위)  DRtg 112.5(10위) 마진 : +1.9점(13위)  NetRtg +2.1(12위) *( )안은 리그 전체 순위  *ORtg/DRtg : 각각 100번의 공격/수비 기회에서 득점/실점 기대치. 공격, 수비 양쪽 모두 천지개벽 수준으로 개선되었다. 2020년대 내내 승점 자판기 취급받던 팀이 불과 1시즌 만에 5할 승률 이상 집단으로 거듭났다. 선수단 투지도 마찬가지다. 패배주의에 물들었던 시절과 달리 상대를 최후의 순간까지 물고 늘어졌다. 리그 전체 승률 꼴찌였던 2022~24시즌 구간 경기 종료 5분 전, 5점차 이내 접전 승부 연출 점유율이 43.9%, 2024-25시즌은 53.6%다(해당 경기들 승률 35.8% -> 47.7%). 혁명을 일궈낸 구단 수뇌부와 코치진,2025.10.08.3[오늘의 NBA] 시즌 프리뷰 : 올랜도 매직올랜도의 2024-25시즌  함께 가난해지는 농구 by 자말 모슬리  성적 : 41승 41패(승률 50.0%) 리그 전체 15위, PO 진출     득점 : 105.4점(28위)  ORtg 108.9(27위) 실점 : 105.5점(1위)  DRtg 109.1(2위) 마진 : -0.1점(17위)  NetRtg –0.2(17위) *( )안은 리그 전체 순위  *ORtg/DRtg : 각각 100번의 공격/수비 기회에서 득점/실점 기대치. 2023-24시즌에 이어 2024-25시즌에도 공수 불균형에 시달렸다. 경기당 평균 105.4득점, ORtg 108.9, TS% 55.0%, 패스가 어시스트로 연결된 점유율(AST to PASS%) 8.2%, 볼 터치 당 득점 기대치(Point Per Touch) 0.265점 모두 하위권에 머물렀다. 득점력만 놓고 보면 전략적으로(?) 패배한 탱킹 집단들과 별반 다르지 않았다. 다행히 자말 모슬리 감독이 구축한 수비 시스템은 건재했다. 최근 2시즌 리그 평균 대비 DRtg 수치가 각각 –4.0점, -4.9점(relative DRtg). 2024~25년 플레이오프 파이널2025.10.07.4[오늘의 NBA] 시즌 프리뷰 : 밀워키 벅스밀워키의 2024-25시즌  플레이오프 1라운드에서 지는 별 by 닥 리버스   성적 : 48승 34패(승률 58.5%) 리그 전체 공동 11위, PO 진출     득점 : 115.5점(11위)  ORtg 115.1(10위) 실점 : 113.0점(13위)  DRtg 112.7(12위) 마진 : +2.5점(11위)  NetRtg 2.4(11위) *( )안은 리그 전체 순위  *ORtg/DRtg : 각각 100번의 공격/수비 기회에서 득점/실점 기대치. 시즌 전체 결과물만 놓고 보면 평균 수준 공수 균형이 산출되었다. 경기 템포, 득점력, 실점 억제력 모두 리그 중위권에 걸쳤다. 구간별 세부 지표는 달랐다. 특히 시즌 초반 부진을 로테이션 개혁에 힘입어 극복했다. AJ 그린, 라이언 롤린스, 안드레 잭슨 주니어 등 영건들을 전진 배치한 선택이 터닝 포인트로 작용했다. 궁색할수록 총명해지는 닥 리버스 감독의 공로다. 시즌 막판 야니스 아테토쿤보 1번 기용 승부수도 대단히 성공적이었다. 82025.10.10.5[오늘의 NBA] 시즌 프리뷰 : 멤피스 그리즐리스멤피스의 2024-25시즌  사공이 많으면 감독부터 쫓겨납니다. by 테일러 젠킨스  성적 : 48승 34패(승률 58.5%) 리그 전체 공동 11위, PO 진출     득점 : 121.7점(2위)  ORtg 117.2(6위) 실점 : 116.9점(24위)  DRtg 112.6(11위) 마진 : +4.8점(5위)  NetRtg +4.6(6위) *( )안은 리그 전체 순위  *ORtg/DRtg : 각각 100번의 공격/수비 기회에서 득점/실점 기대치. 1995-96시즌 창단 이래 가장 공격적인 운영을 선보였다. 48분 환산 공격 기회인 경기 페이스(PACE) 수치 103.69, 121.7득점, ORtg 117.2, TS% 58.8% 모두 구단 역대 신기록이다. 눈에 보이는 실점 대비 수비 코트 경쟁력도 준수했다. DRtg 112.6 리그 전체 11위, 상대 TS% 56.9% 허용 6위, TS% 마진 +1.9% 9위에 올랐다. 단, 시즌 후반기 들어 팀 단위 공수 균형이 선수단 내 불협화음과 연동되어 큰 폭으로 떨어졌다. 패배한 16경기 평균 126.8실점을 헌납했던 신세다(마2025.10.09.전체콘텐츠PICK[오늘의 NBA] 시즌 프리뷰 : 인디애나 페이서스2025.10.16.좋아요댓글PICK[오늘의 NBA] 시즌 프리뷰 : 덴버 너게츠2025.10.15.좋아요댓글PICK[오늘의 NBA] 시즌 프리뷰 : LA 레이커스2025.10.14.좋아요댓글[오늘의 NBA] 시즌 프리뷰 : LA 클리퍼스2025.10.13.좋아요댓글[오늘의 NBA] 시즌 프리뷰 : 미네소타 팀버울브스2025.10.12.좋아요댓글함께 볼만한 프리미엄55 지위, 입목도, 소밀도 정의? 25년 마지막 산림기사 실기 필답형STEPBOOK“다 파볼까, 나도? 복수를 해야지 안 되겠네”, 김건희가 YTN 기자에게 한 말: 슬로우레터 10월15일.슬로우뉴스배우 최현욱, '시구' 논란에 대한 3가지 시선글모닝(P2510006)[사회와 문화-문화 변동과 문화의 세계화,사회문화-문화 변동의 이해/미디어,언론영상] 문화 ** 이론으로 본 글로벌 *** 시대의 K콘텐츠와 한국**의 변화세특구원자구독이 망설여진다면창작자가 추천하는 무료 콘텐츠를 더 확인해 보세요![오늘의 NBA] 시즌 프리뷰 : 마이애미 히트2025.10.02.좋아요댓글[오늘의 NBA] 시즌 프리뷰 : 유타 재즈2025.09.22.좋아요댓글[오늘의 NBA] (8/13) 2025년 오프 시즌 현황2025.08.13.좋아요댓글바로 구독하러 가기닫기\n",
      "------------------------------------\n",
      "URL: https://game.naver.com/esports/League_of_Legends/schedule/world_championship\n",
      "\n",
      "Content:\n",
      "None\n",
      "------------------------------------\n",
      "URL: http://m.blog.naver.com/daoking/220583480797\n",
      "\n",
      "Content:\n",
      "None\n",
      "------------------------------------\n",
      "URL: https://m.kin.naver.com/qna/dirs/1001010202/docs/485953925?d1id=10&qb=7ZSE66as66+47Ja066as6re4\n",
      "\n",
      "Content:\n",
      "None\n",
      "------------------------------------\n",
      "URL: https://contents.premium.naver.com/nba/shemagicnba/contents/241120162853631zf\n",
      "\n",
      "Content:\n",
      "오늘의 NBA[오늘의 NBA] (11/20) 덴버의 러셀 웨스트브룩2024.11.20. 오후 4:28by염용근좋아요댓글SNS 보내기글씨 크기 조정더 작게가더 크게​​덴버가 멤피스 원정에서 소중한 승리를 수확했다. MVP 센터 니콜라 요키치 없이 승리하는 습관을 들였다(개인 사정 3경기 연속 결장). MVP 출신 포인트가드 러셀 웨스트브룩은 마침내 커리어 누적 200번째 트리플-더블 작성. 전인미답 경지에 도달했다. 팀 승리를 견인한 퍼포먼스였기에 더욱 빛이 난다.​브루클린, 댈러스, 샌안토니오, LA 레이커스는 각각 샬럿, 뉴올리언스, 오클라호마시티, 유타를 제압했다. 카메론 존슨, 루카 돈치치, 켈든 존슨, 달튼 크넥트 등이 돋보이는 활약을 펼쳤다.​한편, 클리블랜드의 개막 15연승 행진에는 마침표가 찍혔다. 디펜딩 챔피언 보스턴과 만난 원정 경기에서 아쉬운 3점차 패배를 당했다. 하필 중요한 일전에 앞서 발생한 윙 포지션 부상 악재가 치명타로 작용했던 밤이다.​인-시즌 토너먼트 순위동부컨퍼런스 A조1위 ORL : 2승(마진 +37점)2위 NYK : 2승(마진 +14점)3위 BKN : 1승 1패(마진 –1점)4위 PHI : 2패(마진 –24점)5위 CHA :2패(마진 –26점)​동부컨퍼런스 B조1위 DET : 2승(마진 +4점)2위 MIL : 1승(마진 +14점)3위 MIA : 1승 1패(마진 +13점)4위 IND : 1패(마진 –13점)5위 TOR : 2패(마진 –18점)​동부컨퍼런스 C조1위 ATL : 2승(마진 +13점)2위 BOS : 1승 1패(마진 +2점)3위 CLE : 1승 1패(마진 +15점)4위 WAS : 1패(마진 –12점)5위 CHI : 1패(마진 –18점)​서부컨퍼런스 A조1위 HOU : 1승(마진 +21점)2위 POR : 1승(마진 +14점)3위 MIN : 1승 1패(마진 –14점)4위 SAC : 1패(마진 0점)5위 LAC : 1패(마진 –21점)​서부컨퍼런스 B조1위 LAL : 2승(마진 +11점)2위 SAS : 1승 1패(마진 +1점)3위 OKC : 1승 1패(마진 +10점)4위 PHX : 1승 1패(마진 -8점)5위 UTA : 2패(마진 –8점)​서부컨퍼런스 C조1위 GSW : 2승(마진 +8점)2위 DAL : 1승 1패(마진 +38점)3위 NOP : 1승 1패(마진 -34점)4위 DEN : 1승 1패(마진 +5점)5위 MEM : 2패(마진 -17점)*다음 인-시즌 토너먼트 일정은 11월 23일이다(12월 4일까지 매주 수요일, 토요일에 조별 리그 진행).*같은 조 기준 타이브레이커는 맞대결 성적 우선이다. 연장전은 득실점 마진 계산에서 제외된다.​​멤피스 그리즐리스(8승 7패) 110-122 덴버 너게츠(8승 5패)덴버마이클 포터 주니어 24득점 11리바운드자말 머레이 27득점 4리바운드 6어시스트 3PM 5개러셀 웨스트브룩 12득점 10리바운드 14어시스트멤피스산티 알다마 28득점 11리바운드 3PM 4개재런 잭슨 주니어 19득점 8리바운드 5블록슛스카티 피펜 주니어 16득점 6리바운드 6어시스트​1쿼터 : 24-312쿼터 : 33-373쿼터 : 21-244쿼터 : 32-30​덴버와 멤피스가 하루 휴식 간격 리턴 매치에서 1승씩 나눠 가졌다(MEM 홈). 각각 1차전은 멤피스 15점차, 오늘 2차전의 경우 덴버 12점차 승리다. 주목할 부문은 덴버가 MVP 센터 니콜라 요키치(개인 사정) 없이 5할 승률 이상 팀을 제압했다는 점이다. 심지어 단 한 번도 동점조차 허락하지 않은 와이어 투 와이어(wire-to-wire) 승리를 연출했다! *¹조커가 결장했던 직전 2경기와 달리, 오늘 밤에는 선수단 구성원 전원이 똘똘 뭉쳐 연패 사슬을 끊었다. 이틀 휴식 후 펼쳐질 댈러스전에서도 긍정적인 결과가 기대된다. 물론 간판스타가 복귀할 수 있다면 금상첨화다. 멤피스는 홈 4연승 행진이 중단되었다. 주전 라인업 대결부터 갈려 나가는 등 48분 내내 고전을 면치 못했다. 주축 선수들인 자 모란트(엉덩이), 마커스 스마트(컨디션 난조), 잭 이디(왼쪽 발목), GG 잭슨(오른발) 부상 결장 핑계 뒤에 숨으면 곤란하다. 상대도 MVP 센터 요키치, 핵심 포워드 애런 고든(오른쪽 종아리)이 코트를 비웠다.​한편, MVP 출신 포인트가드 러셀 웨스트브룩은 마침내 전인미답의 고지에 올랐다. 커리어 200번째 트리플-더블을 작성했다! *²199호 작성 이후 약 7개월 만에 역대 no.1 트리블-더블 달인 명성을 다시 뽐냈다. 더욱 고무적인 소식은 괴인의 주전+벤치 대결 구간 퍼포먼스가 팀 승리 밑바탕에 깔렸다는 점이다. 로우 레버리지 상황에서 만만한(?) 오브젝트(object)를 취한 게 아니다! *³특히 4쿼터 종료 1분 17초 전에 기록한 10번째 리바운드가 리드 흐름 유지에 큰 보탬이 되었다. 이무기가 오랜 기다림 끝에 여의주를 물고 승천했던 모양새다. 마이클 말론도 새로운 이정표를 세웠다. *⁴커리어 432번째 승리로 덴버 구단 역대 공동 1위에 올랐다. 1승만 더 추가하면 1980년대 명장 덕 모를 제치고 단독 1위에 등극한다.​*¹ 덴버는 11월 16일 뉴올리언스 원정 당시 상대 6연패 사슬을 끊어줬다.*² 러셀 웨스트브룩은 LA 클리퍼스 소속 시절이던 올해 4월 10일 피닉스 원정에서 커리어 199호 트리플-더블을 작성했었다.*³ 러셀 웨스트브룩은 정직한 남자다. 트리플-더블 작성으로 연결된 공격리바운드 후 시도한 중거리 풀업점프슛 시도가 당연하다는 듯이(?) 림을 외면했다.*⁴ 마이클 말론의 새크라멘토 감독 시절 포함 커리어 승수는 471승이다. 현역 감독 중 그렉 포포비치, 닥 리버스, 릭 칼라일, 에릭 스포엘스트라, 탐 티보도, 스티브 커, 마이크 부덴홀저에 이어 8위다.​역대 누적 트리플-더블 작성 순위1위 러셀 웨스트브룩 : 200회2위 오스카 로버트슨 : 181회3위 매직 존슨 : 138회4위 니콜라 요키치 : 136회5위 르브론 제임스 : 117회​덴버 구단 역대 최다승 감독1위 덕 모(1981~90시즌) : 432승 357패 승률 54.8%+PO 진출 9회1위 마이클 말론(2016~25시즌) : 432승 300패 승률 59.1%+PO 진출 6회3위 조지 칼(2005~13시즌) : 423승 257패 승률 62.2%+PO 진출 9회4위 래리 브라운(1975~79시즌) : 251승 134패 승률 65.2%+PO 진출 4회​원정팀이 직전 2경기 전패를 당했던 원인은 간단하다. MVP 센터 없이 공격 작업 자체가 성립되지 않았던 탓이다. 실제로 시즌 요키치 출전 구간에서 100번의 공격 기회에서 득점 기대치인 오펜시브 레이팅(ORtg) 수치 125.8을 적립했던 반면, 결장 구간 해당 수치는 끔찍하게도 87.8에 불과했었다. 이는 NBA에 경기 페이스(PACE) 개념이 도입된 이래 듣도 보도 못했던 격차다. 예를 들면 디펜딩 챔피언 간판스타 제이슨 테이텀의 출전/결장 구간 ORtg 수치 격차가 –10.3(요키치 –38.0). 보스턴이 테이텀이 코트 위에 없을 때 –10.3점, 덴버는 요키치 결장 구간에서 –38.0점 손실이 발생했다는 의미다.​다행히 오늘 밤에는 1쿼터부터 공격 작업이 비단결처럼 부드럽게 풀렸다. 빅라인업 3번부터 스몰라인업 5번(!)까지 오간 마이클 포터 주니어가 24득점(FG 11/21, FT 2/6), 11리바운드 동반 더블-더블 작성에 성공한 가운데, 자말 머레이 역시 오랜만에 백코트 에이스 존재감을 선보였다. 특히 요키치 결장에 따른 세트 오펜스 경쟁력 저하를 템포 푸쉬 기반 역습으로 극복했다. 각각 속공 득실점 마진 +11점(28-18), 상대 실책 기반 득실점 마진 +12점(26-14) 넉넉한 우위에 섰던 배경이다. 뇌를 맑게 비우니 쉬운 득점이 따라왔다! *¹MPJ가 장기인 중장거리 지역 점프슛을 고집하지 않고, 림 직접 공략에 적극적으로 임한 선택도 호재였다. 커리어 단일 경기 최다인 페인트존 20득점을 쓸어 담았다.​말론 감독의 로테이션 운영도 적재적소에 이루어졌다. 디안드레 조던, 블랫코 찬차르, 지크 나지 등 벤치 끝자락 프런트코트 자원들까지 동원해 높이 균형을 맞췄다. 주전+벤치 대결 구간 *²보릿고개 넘기 과업은 웨스트브룩의 몫. \"WHY NOT ME?\" 정신이 탑재된 괴인답게 위기를 오히려 기회로 인식했다. 32분 출전 시간 동안 좌충우돌 들이박은 결과, 12득점, 10리바운드, 14어시스트(5실책), 총 46점 생산 동반 트리플-더블을 작성했다! 특히 크리스티안 브라운, 페이튼 왓슨, 포터 주니어 등 운동 능력 좋은 동료들의 림 방향 침투 기동을 칼 박자 어시스트 패스로 살려줬다. 커리어 200번째 트리플-더블을 작성한 후에는? 경기 종료 0.1초 전 마무리 일격으로 대기록의 밤을 자축했다. 홈팀 선수들도 슈퍼스타 출신 포인트가드의 근래 험난했던 여정을 알기에 불필요한 막타(?)를 두고 딱히 뭐라 하지 않았다.​*¹ 마이클 포터 주니어 2024-25시즌 오늘 일정 전까지 전체 득점 대비 3점슛 득점 점유율(3PT%) 49.1%, 페인트존 득점 점유율(PITP%) 30.8% -> 오늘 멤피스 원정 3PT% 0.0%, PITP% 83.3%. 기습적인 림 방향 침투 기동이 상대 수비 허점을 정확하게 찔렀다.*² 덴버 2024-25시즌 오늘 일정 전까지 경기당 평균 벤치 코트 마진 –5.0점 리그 전체 압도적인 꼴찌 -> 오늘 멤피스 원정 –2.6점. 그리즐리 군단의 두꺼운 벤치 전력을 고려하면 선전했다는 평가다(MEM 11인 로테이션 가동).​오늘은 다르다! 시즌 니콜라 요키치 출전 여부에 따른 덴버 공격 지표 변화출전 : ORtg 125.8 TS% 62.6% AST% 73.6%결장 : ORtg 87.8 TS% 47.5% AST% 64.1%오늘 : ORtg 108.9 TS% 55.6% AST% 60.4%*벤치 휴식 시간도 결장에 포함했다.*ORtg : 100번의 공격 기회에서 득점 기대치*TS% : True Shooting%. 3점슛, 자유투에 보정을 가한 슈팅 효율성 지표다.*AST% : 야투 성공 대비 어시스트 동반 점유율​두 팀 주전 생산력 비교MEM : 58득점 16어시스트/12실책 FG 37.0% 3P 3/19 FT 15/24 코트 마진 –16.8점DEN : 93득점 14어시스트/12실책 FG 52.2% 3P 9/25 FT 12/18 코트 마진 +14.6점​덴버 주요 라인업 공수 지표 비교머레이+브라운+MPJ+왓슨+사리치(10분) :ORtg 95.8 DRtg 50.0 NetRtg +45.8괴인+머레이+브라운+MPJ+조던(6분) :ORtg 107.7 DRtg 57.1 NetRtg +50.6*ORtg/DRtg : 각각 100번의 공격/수비 기회에서 득점/실점 기대치*NetRtg : ORtg-DRtg. 100번의 공격/수비 기회에서 발생한 득실점 마진 기대치를 의미한다. 팀 공수 균형을 간접적으로 파악할 수 있다.​프리미엄 구독자 전용 콘텐츠입니다.염용근 오늘의 NBA  구독으로 더 많은 콘텐츠를 만나보세요!프리미엄 구독9,900원/월염용근염용근 NBA 컬럼리스트#염용근#오늘의NBA#NBA#덴버#멤피스#러셀웨스트브룩#니콜라요키치#마이클말론#보스턴#클리블랜드#제이슨테이텀#도노반미첼#케니앳킨슨#조마쥴라#샌안토니오#오클라호마시티#레이커스#유타#달튼크넥트좋아요댓글공유하기염용근 오늘의 NBA채널에서 무료 제공하는 콘텐츠가 있습니다.지금 로그인하면 무료로 볼 수 있습니다.로그인닫기염용근 오늘의 NBA이 채널의 콘텐츠가 마음에 드셨나요?채널을 구독하고 창작자의 콘텐츠를 응원해 주세요!스포츠/건강평균 주5회 신규 업데이트닫기무료 콘텐츠 모아보기[오늘의 NBA] 시즌 프리뷰 : 마이애미 히트2025.10.02.[오늘의 NBA] 시즌 프리뷰 : 유타 재즈2025.09.22.[오늘의 NBA] 2025-26시즌 일정&30개 팀 프리뷰 공지2025.09.12.[오늘의 NBA] (8/13) 2025년 오프 시즌 현황2025.08.13.다른 채널의 무료 콘텐츠 더보기많이 본 콘텐츠안내전일 00시~24시까지 집계한 결과입니다.닫기안내전주 월요일 00시부터 일요일 24시까지 집계한 결과입니다.닫기일간주간1[오늘의 NBA] 시즌 프리뷰 : 덴버 너게츠덴버의 2024-25시즌  단장과 감독이 싸우면? 둘 다 쫓아내면 됩니다. by 조쉬 크론케  성적 : 50승 32패(승률 61.0%) 리그 전체 공동 6위, PO 2R 진출     득점 : 120.8점(3위)  ORtg 118.9(4위) 실점 : 116.9점(25위)  DRtg 115.1(21위) 마진 : +3.9점(9위)  NetRtg +3.8(9위) *( )안은 리그 전체 순위  *ORtg/DRtg : 각각 100번의 공격/수비 기회에서 득점/실점 기대치. 오랜만에 업 템포 농구를 선보였다. 니콜라 요키치 시대가 본격적으로 시작된 2018-19시즌부터 2023-24시즌까지 줄곧 리그 평균 대비 48분 환산 공격 기회인 Relative Pace 마이너스 수치를 기록했던 반면, 2024-25시즌에는 +1.0까지 끌어올렸다. 공세적인 운영은 래리 브라운(1974~79시즌), 덕 모(1981~90시즌), 조지 칼(2005~13시즌) 등 과거 시대 명장들이 즐겨 활용했던 프랜차이즈 전통이다. 전체 시즌 통합 PACE 99.4 역대 2위를 달리고 있다(1위 GSW 992025.10.15.2[오늘의 NBA] 시즌 프리뷰 : LA 레이커스레이커스의 2024-25시즌  LUKA MAGIC IN THE HOUSE by 롭 펠린카  성적 : 50승 32패(승률 61.0%) 리그 전체 공동 6위, PO 진출     득점 : 113.4점(19위)  ORtg 115.0(11위) 실점 : 112.2점(10위)  DRtg 113.8(17위) 마진 : +1.2점(14위)  NetRtg +1.2(14위) *( )안은 리그 전체 순위  *ORtg/DRtg : 각각 100번의 공격/수비 기회에서 득점/실점 기대치. 평균 수준 득실점 마진 대비 우수한 승률을 자랑했다. 원동력은 크게 두 가지다. 첫째, 출중한 초반 러쉬 솜씨를 바탕으로 기선 제압에 성공했다. 1쿼터 평균 득실점 마진이 +2.4점 리그 전체 4위다. 아무래도 경기 초반부터 앞서나가는 쪽이 운영상의 이점을 가진다. 둘째, 경기 막판 승부처에서 강한 집중력을 발휘했다. 르브론 제임스, 루카 돈치치, 오스틴 리브스 등 클러치 득점원을 다수 보유했던 덕분이다. 실제로 종료 5분 전, 5점차 이내 접전 승부 구간2025.10.14.3[오늘의 NBA] 시즌 프리뷰 : LA 클리퍼스클리퍼스의 2024-25시즌  인튜이트 돔 시대 by 스티브 발머  성적 : 50승 32패(승률 61.0%) 리그 전체 공동 6위, PO 진출     득점 : 112.9점(22위)  ORtg 114.3(15위) 실점 : 108.2점(4위)  DRtg 109.4(3위) 마진 : +4.7점(6위)  NetRtg +4.9(5위) *( )안은 리그 전체 순위  *ORtg/DRtg : 각각 100번의 공격/수비 기회에서 득점/실점 기대치. 2023-24시즌에 리그 전체 16위로 떨어졌던 DRtg 수치를 2024-25시즌 들어 3위까지 끌어올렸다. 리그 평균 대비 실점 억제력을 의미하는 Relative DRtg –4.2점의 경우 구단 역대 단일 시즌 가장 우수한 성과다(2023-24시즌 +0.1점). 수비 전술에 조예가 깊은 제프 밴 건디 수석 어시스턴트 코치, 크리스 던(트레이드), 데릭 존스 주니어(FA) 영입 효과를 톡톡히 봤다. 공격 코트에서도 6할대 승률에 필요한 득점 정도는 무난하게 산출해 냈다(ORtg 114.3 15위).  클리퍼스는 굴지의2025.10.13.4[오늘의 NBA] 시즌 프리뷰 : 댈러스 매버릭스댈러스의 2024-25시즌  우승하지 못하면 신께서 저를 용서하실까요? by 니코 해리슨  성적 : 39승 43패(승률 47.6%) 리그 전체 공동 18위    득점 : 114.2점(15위)  ORtg 113.7(18위) 실점 : 115.4점(20위)  DRtg 115.0(20위) 마진 : -1.2점(19위)  NetRtg –1.3(19위) *( )안은 리그 전체 순위  *ORtg/DRtg : 각각 100번의 공격/수비 기회에서 득점/실점 기대치. 충격적인 간판스타 트레이드와 별개로 부상 결장 인원이 너무 많았다. 리그가 펜데믹(pandemic)에 시달렸던 2020-21시즌, 주축 선수들이 죄다 나가떨어졌던 2023-24시즌 버전 멤피스처럼 경기 성립 자체를 걱정해야 할 지경이었다. 실격패를 모면하기 위한 최소 인원 8명을 겨우 맞췄으니 말 다 했다. 그나마 시즌 전반기에 벌어 놓은 승수(30승 26패 승률 53.6% 서부컨퍼런스 8위), 후반기 막판 눈물겨운 분전에 기대어 플레이-인 토너먼트 진출권2025.10.04.5[오늘의 NBA] 시즌 프리뷰 : 골든스테이트 워리어스골든스테이트의 2024-25시즌  우리에겐 시간이 얼마 남지 않았습니다. by 스티브 커  성적 : 48승 34패(승률 58.5%) 리그 전체 공동 11위, PO 2R 진출     득점 : 113.8점(17위)  ORtg 114.2(16위) 실점 : 110.5점(8위)  DRtg 111.0(7위) 마진 : +3.3점(10위)  NetRtg +3.2(10위) *( )안은 리그 전체 순위  *ORtg/DRtg : 각각 100번의 공격/수비 기회에서 득점/실점 기대치. 2010년대 중후반 왕조 시절과 비교해 화력이 큰 폭으로 감소했다. 2014~19시즌 구간 합계 ORtg 수치가 리그 전체 압도적인 1위, 2019~25시즌 구간은 14위다. 혁명적인 공격 전술로도 세월의 흐름을 거스르긴 어렵다. 다행히 강팀의 기본 조건인 수비 코트 경쟁력만큼은 건재하다. 지난 시즌 역시 기복 심한 득점력을 1월 제외 꾸준하게 유지된 실점 억제력으로 만회했다. 리그 평균 대비 DRtg –2.8점은 플레이오프 파이널 정상에 올랐던 20212025.10.11.1[오늘의 NBA] 시즌 프리뷰 : 새크라멘토 킹스새크라멘토의 2024-25시즌  바보가 바보x2에게 쓴 편지 by 아투라스 카니쇼바스 시카고 부사장  성적 : 40승 42패(승률 48.8%) 리그 전체 공동 16위    득점 : 115.7점(10위)  ORtg 115.9(7위) 실점 : 115.3점(19위)  DRtg 115.3(22위) 마진 : +0.4점(16위)  NetRtg +0.6(15위) *( )안은 리그 전체 순위  *ORtg/DRtg : 각각 100번의 공격/수비 기회에서 득점/실점 기대치. 2023-24시즌 DRtg 114.4 리그 전체 14위 수치가 2024-25시즌 들어 115.3 22위까지 떨어졌다. 공수 균형이 무너졌던 이유다. 또한, 수비 코트 경쟁력 유지를 목 놓아 부르짖던 마이크 브라운 감독이 경질당했다. 공격 쪽에 치우친 선수단 구성을 고려하면 애꿎은 감독만 유탄을 맞았다. 강점 중 하나였던 클러치 경쟁력마저 시원찮았다. 최근 3시즌 종료 5분 전, 5점차 이내 접전 승부 구간이 발생한 경기 승률 변화를 살펴보면 56.8% 9위 -> 51.3% 12025.10.06.2[오늘의 NBA] 시즌 프리뷰 : 디트로이트 피스톤스디트로이트의 2024-25시즌  지옥에서 천국으로 가는 계단 by 케이드 커닝햄  성적 : 44승 38패(승률 53.7%) 리그 전체 14위, PO 진출     득점 : 115.5점(12위)  ORtg 114.6(14위) 실점 : 113.6점(14위)  DRtg 112.5(10위) 마진 : +1.9점(13위)  NetRtg +2.1(12위) *( )안은 리그 전체 순위  *ORtg/DRtg : 각각 100번의 공격/수비 기회에서 득점/실점 기대치. 공격, 수비 양쪽 모두 천지개벽 수준으로 개선되었다. 2020년대 내내 승점 자판기 취급받던 팀이 불과 1시즌 만에 5할 승률 이상 집단으로 거듭났다. 선수단 투지도 마찬가지다. 패배주의에 물들었던 시절과 달리 상대를 최후의 순간까지 물고 늘어졌다. 리그 전체 승률 꼴찌였던 2022~24시즌 구간 경기 종료 5분 전, 5점차 이내 접전 승부 연출 점유율이 43.9%, 2024-25시즌은 53.6%다(해당 경기들 승률 35.8% -> 47.7%). 혁명을 일궈낸 구단 수뇌부와 코치진,2025.10.08.3[오늘의 NBA] 시즌 프리뷰 : 올랜도 매직올랜도의 2024-25시즌  함께 가난해지는 농구 by 자말 모슬리  성적 : 41승 41패(승률 50.0%) 리그 전체 15위, PO 진출     득점 : 105.4점(28위)  ORtg 108.9(27위) 실점 : 105.5점(1위)  DRtg 109.1(2위) 마진 : -0.1점(17위)  NetRtg –0.2(17위) *( )안은 리그 전체 순위  *ORtg/DRtg : 각각 100번의 공격/수비 기회에서 득점/실점 기대치. 2023-24시즌에 이어 2024-25시즌에도 공수 불균형에 시달렸다. 경기당 평균 105.4득점, ORtg 108.9, TS% 55.0%, 패스가 어시스트로 연결된 점유율(AST to PASS%) 8.2%, 볼 터치 당 득점 기대치(Point Per Touch) 0.265점 모두 하위권에 머물렀다. 득점력만 놓고 보면 전략적으로(?) 패배한 탱킹 집단들과 별반 다르지 않았다. 다행히 자말 모슬리 감독이 구축한 수비 시스템은 건재했다. 최근 2시즌 리그 평균 대비 DRtg 수치가 각각 –4.0점, -4.9점(relative DRtg). 2024~25년 플레이오프 파이널2025.10.07.4[오늘의 NBA] 시즌 프리뷰 : 밀워키 벅스밀워키의 2024-25시즌  플레이오프 1라운드에서 지는 별 by 닥 리버스   성적 : 48승 34패(승률 58.5%) 리그 전체 공동 11위, PO 진출     득점 : 115.5점(11위)  ORtg 115.1(10위) 실점 : 113.0점(13위)  DRtg 112.7(12위) 마진 : +2.5점(11위)  NetRtg 2.4(11위) *( )안은 리그 전체 순위  *ORtg/DRtg : 각각 100번의 공격/수비 기회에서 득점/실점 기대치. 시즌 전체 결과물만 놓고 보면 평균 수준 공수 균형이 산출되었다. 경기 템포, 득점력, 실점 억제력 모두 리그 중위권에 걸쳤다. 구간별 세부 지표는 달랐다. 특히 시즌 초반 부진을 로테이션 개혁에 힘입어 극복했다. AJ 그린, 라이언 롤린스, 안드레 잭슨 주니어 등 영건들을 전진 배치한 선택이 터닝 포인트로 작용했다. 궁색할수록 총명해지는 닥 리버스 감독의 공로다. 시즌 막판 야니스 아테토쿤보 1번 기용 승부수도 대단히 성공적이었다. 82025.10.10.5[오늘의 NBA] 시즌 프리뷰 : 멤피스 그리즐리스멤피스의 2024-25시즌  사공이 많으면 감독부터 쫓겨납니다. by 테일러 젠킨스  성적 : 48승 34패(승률 58.5%) 리그 전체 공동 11위, PO 진출     득점 : 121.7점(2위)  ORtg 117.2(6위) 실점 : 116.9점(24위)  DRtg 112.6(11위) 마진 : +4.8점(5위)  NetRtg +4.6(6위) *( )안은 리그 전체 순위  *ORtg/DRtg : 각각 100번의 공격/수비 기회에서 득점/실점 기대치. 1995-96시즌 창단 이래 가장 공격적인 운영을 선보였다. 48분 환산 공격 기회인 경기 페이스(PACE) 수치 103.69, 121.7득점, ORtg 117.2, TS% 58.8% 모두 구단 역대 신기록이다. 눈에 보이는 실점 대비 수비 코트 경쟁력도 준수했다. DRtg 112.6 리그 전체 11위, 상대 TS% 56.9% 허용 6위, TS% 마진 +1.9% 9위에 올랐다. 단, 시즌 후반기 들어 팀 단위 공수 균형이 선수단 내 불협화음과 연동되어 큰 폭으로 떨어졌다. 패배한 16경기 평균 126.8실점을 헌납했던 신세다(마2025.10.09.전체콘텐츠PICK[오늘의 NBA] 시즌 프리뷰 : 인디애나 페이서스2025.10.16.좋아요댓글PICK[오늘의 NBA] 시즌 프리뷰 : 덴버 너게츠2025.10.15.좋아요댓글PICK[오늘의 NBA] 시즌 프리뷰 : LA 레이커스2025.10.14.좋아요댓글[오늘의 NBA] 시즌 프리뷰 : LA 클리퍼스2025.10.13.좋아요댓글[오늘의 NBA] 시즌 프리뷰 : 미네소타 팀버울브스2025.10.12.좋아요댓글함께 볼만한 프리미엄군인 전역 제대 국군의날 육군전투복 100일휴 병사 현충일 호국보훈의 달루딕365맥락을 디자인하라SF307퍼팅성공 확률을 높이는 43cm의 마법독학으로 \"더 골프\" 잘하는 방법바이낸스 뱅크런 루머에 관해STOCKSTUDY구독이 망설여진다면창작자가 추천하는 무료 콘텐츠를 더 확인해 보세요![오늘의 NBA] 시즌 프리뷰 : 마이애미 히트2025.10.02.좋아요댓글[오늘의 NBA] 시즌 프리뷰 : 유타 재즈2025.09.22.좋아요댓글[오늘의 NBA] 2025-26시즌 일정&30개 팀 프리뷰 공지2025.09.12.좋아요댓글바로 구독하러 가기닫기\n",
      "------------------------------------\n",
      "URL: https://contents.premium.naver.com/footballanalyst/soocermaster/contents/251004221608663by\n",
      "\n",
      "Content:\n",
      "﻿[EPL] PREVIEW[EPL PREVIEW] 아스날 vs 웨스트햄 최종 경기 결과 예측2025.10.04. 오후 10:16by축구예측 전문가 K좋아요댓글SNS 보내기글씨 크기 조정더 작게가더 크게[EPL PREVIEW]아스날vs웨스트햄최종 경기 결과 예측🧭 킥오프 시간 🧭🌎 순위, 승점, 최근 경기 & 홈 경기장 🌎🖐 심판 카드 성향 🖐📊 전력 분석 리포트 📊📃 양 팀 포메이션 📑⚽ 예상 선발 라인업 ⚽⚡ 최근 상대 전적 ⚡📈 최근 5경기 전적 📈🔥 양 팀 키플레이어 🔥🎯 최종 경기 결과 예측🎯📊 전술 및 경기 흐름 예측 📊🏆 최종 결론 및 추천 🏆🔎 핸디캡 배팅 TIP 🔎경기 전 필수 체크 ✅킥오프 시간 🧭출처 : sofascore.com순위, 승점, 최근 경기 🌎출처 : sofascore.com심판 카드 성향 🖐 & 홈 경기장 🏟️출처 : sofascore.com전력 분석 리포트 📊아스날 vs 웨스트햄아스날 분석 📊✅ 리그 4승1무1패(승점 13점), 현재 2위로 선두 경쟁 중✅ 최근 공식 6경기 무패(5승1무), 홈 5경기 무패(4승1무)✅ 최근 5경기 9득점 2실점, 공·수 밸런스 우수✅ 웨스트햄 상대 최근 홈 10경기에서 8승 2패, 확실한 우위⚠️ 제수스, 마두에케, 하베르츠, 인카피에 등 부상 결장자 다수웨스트햄분석 📊⚠️ 리그 1승1무4패(승점 4점, 19위), 강등권에 위치⚠️ 최근 공식 3경기 무승(1무2패), 원정 4경기 1승1무2패⚠️ 최근 5경기 9실점(경기당 1.8실점), 수비 집중력 문제⚠️ 소우체크 퇴장 징계로 결장, 완-비사카 출전 불투명✅ 보웬이 빠른 역습으로 위협 가능⚠️ 최근 10경기 중 6번 핸디캡 패배📃 양 팀 포메이션 📑⚽ 예상 선발 라인업 ⚽출처 : sofascore.com최근 상대 전적 ⚡출처 : fotmob.com최근 5경기 전적 📈출처 : fotmob.com양 팀 키플레이어 🔥출처 : fotmob.com최종 경기 결과 예측🎯📊 전술 및 경기 흐름 예측 📊🏆 최종 결론 및 추천 🏆🔎 핸디캡 배팅 TIP 🔎프리미엄 구독자 전용 콘텐츠입니다.축구전문가, 축잘알이 되는 법 구독으로 더 많은 콘텐츠를 만나보세요!쿠폰프리미엄 구독2,900원/월첫 달1,900원콘텐츠만 결제하기5,000원/7일축구예측 전문가 K축구 입문자부터 실전 예측 고수까지, 모두 환영합니다!심층 분석으로 경기를 더 재미있고, 더 분석적으로 즐기세요.📊 배당 분석 + 전력 비교⚽ 킥오프 시간 / 팀 평균 평점 / 선발 라인업📈 국내 & 해외 배당률 / 심판 카드 성향🎯 최종 경기 예측 & 핸디캡 배팅 TIP🔥 팀 승점, 포메이션, 최근 경기 동향 등축구 승부 예측의 고수가 될 수 있는 실전형 콘텐츠 제공!좋아요댓글공유하기축구전문가, 축잘알이 되는 법채널에서 무료 제공하는 콘텐츠가 있습니다.지금 로그인하면 무료로 볼 수 있습니다.로그인닫기축구전문가, 축잘알이 되는 법이 채널의 콘텐츠가 마음에 드셨나요?채널을 구독하고 창작자의 콘텐츠를 응원해 주세요!스포츠/건강평균 주17회 신규 업데이트닫기무료 콘텐츠 모아보기[공지사항] 25-26 시즌 해외축구 개막 기념 이벤트 안내! 🎉🎁 (축구 유니폼 증정 등)2025.07.10.[이벤트] [유로파 결승][토트넘 vs 맨체스터 유나이티드] 최종 점수 예측하고 푸짐한 상품 받아가세요! 🎁🔥2025.05.20.[이벤트] 챔피언스리그 결승에 진출할 2팀을 예측하고 상품 받아가세요 🎁2025.04.26.[이벤트] [프랑크푸르트 VS 토트넘] 최종 점수와 첫 득점자를 맞히고 푸짐한 상품 받아가세요! 🎁🔥2025.04.17.다른 채널의 무료 콘텐츠 더보기전체콘텐츠PICK[리그앙 PREVIEW] 파리 생제르맹 vs RC 스트라스부르 최종 경기 결과 예측2025.10.16.좋아요댓글PICK[분데스 PREVIEW] 유니온 베를린 vs 묀헨글라트바흐 최종 경기 결과 예측2025.10.16.좋아요댓글[월드컵 유럽 예선 PREVIEW] 스코틀랜드 vs 벨라루스 최종 경기 결과 예측2025.10.12.좋아요댓글PICK[월드컵 유럽 예선 PREVIEW] 네덜란드 vs 핀란드 최종 경기 결과 예측2025.10.12.좋아요댓글[월드컵 유럽 예선 PREVIEW] 리투아니아 vs 폴란드 최종 경기 결과 예측2025.10.12.좋아요댓글함께 볼만한 프리미엄55 지위, 입목도, 소밀도 정의? 25년 마지막 산림기사 실기 필답형STEPBOOK“다 파볼까, 나도? 복수를 해야지 안 되겠네”, 김건희가 YTN 기자에게 한 말: 슬로우레터 10월15일.슬로우뉴스배우 최현욱, '시구' 논란에 대한 3가지 시선글모닝(P2510006)[사회와 문화-문화 변동과 문화의 세계화,사회문화-문화 변동의 이해/미디어,언론영상] 문화 ** 이론으로 본 글로벌 *** 시대의 K콘텐츠와 한국**의 변화세특구원자구독이 망설여진다면창작자가 추천하는 무료 콘텐츠를 더 확인해 보세요![공지사항] 25-26 시즌 해외축구 개막 기념 이벤트 안내! 🎉🎁 (축구 유니폼 증정 등)2025.07.10.좋아요댓글[이벤트] [유로파 결승][토트넘 vs 맨체스터 유나이티드] 최종 점수 예측하고 푸짐한 상품 받아가세요! 🎁🔥2025.05.20.좋아요댓글[이벤트] 챔피언스리그 결승에 진출할 2팀을 예측하고 상품 받아가세요 🎁2025.04.26.좋아요댓글바로 구독하러 가기닫기\n",
      "------------------------------------\n",
      "URL: https://contents.premium.naver.com/footballanalyst/soocermaster/contents/240618173416416cf\n",
      "\n",
      "Content:\n",
      "[축구 정보][축구 정보] 프리미어리그 2024/25 시즌 일정 확정! 이번에 승격한 팀은 누구?2024.06.18. 오후 5:34by축구예측 전문가 K좋아요댓글SNS 보내기글씨 크기 조정더 작게가더 크게사진:Unsplash의Benjamin Elliott24/25 시즌프리미어리그 일정 확정!출처 : 스포티비 인스타그램2024/25 시즌 개막전은 언제? 어느 팀이 맞붙나요?시즌 첫 경기 1라운드 경기 정보2024/25 시즌 잉글랜드 프리미어리그 개막전은 8월 17일 새벽 4시에 시작합니다.개막전은맨체스터 유나이티드와 풀럼이 맞붙을 예정이며 맨체스터 유나이티드의 홈 구장인 올드 트래포드에서 펼쳐질 예정입니다.지난 시즌 챔피언이었던 맨체스터 시티는 시즌 첫 경기로 첼시와 맞붙을 예정입니다.지난 시즌 준우승팀인 아스날은 울버햄튼과 홈구장인 에미레이트 스타디움에서 첫 경기를 할 예정입니다.리버풀의 클롭 감독이 떠난 뒤, 안 슬롯 감독 체제의 리버풀 첫 경기는 프리미어리그에 갓 승격한 신인 구단, 입스위치 타운의 경기장에서 열릴 예정입니다.뉴캐슬 유나이티드는 홈 구장인 세인트 제임스 파크에서 사우스햄튼을 맞이할 예정입니다.에버튼은 구디슨 파크에서 브라이튼 앤 호브 앨비언을, 노팅엄 포레스트는 시티 그라운드에서 본머스를, 웨스트햄 유나이티드는 지난 시즌 깜짝 챔피언스리그에 진출에 성공한 아스톤 빌라를, 브렌트포드는 홈에서 크리스탈 팰리스를 상대할 예정입니다.그리고 화요일 새벽 4시, 토트넘과 레스터시티의 경기를 끝으로 1라운드 경기가 마무리 될 예정입니다.※ 일부 프리미어 리그 경기에 대한 날짜 또는 킥오프 시간은 변경될 수 있습니다.2024/25 프리미어리그, 더 넉넉한 휴식 기간 가진다!2024/25 프리미어리그 경기는 33번의 주말, 4번의 주중 라운드, 1번의 휴일 매치위크에 걸쳐 진행됩니다.2024/25 시즌 프리미어리그는 크리스마스와 새해의 혼잡한 일정을 해결하고자 했습니다.축제기간(크리스마스 새해)동안, 팀에 더 많은 휴식 시간을 제공하고, 다음 경기 후 60시간 이내에 어떤 클럽도 경기할 수 없도록 룰을 개정했습니다.지난 시즌(2023년) 울버햄튼이 크리스마스 이브에 첼시를 상대했었던 것과 같은 일은 일어날 수 없게 되었습니다. 그로 인해 이번 2024년 12월 24일에는 경기가 없을 예정입니다.프리미어리그 시즌은 언제 끝나나요?최종 라운드 경기는 2025년 5월 25일 일요일에 진행됩니다.이전과 같이, 최종전이 열리는 날에는 모든 경기가 동시에 시작됩니다.시즌 마지막 라운드는 아스날이 사우스햄튼 원정을, 맨체스터 시티가 풀럼 원정, 리버풀이 크리스탈 팰리스, 맨체스터 유나이티드는 아스톤 빌라로 원정길을 떠날 예정입니다.입스위치는 포트만 로드에서 웨스트 햄과 맞붙고, 2부리그 챔피언십 우승자였던 레스터시티는 본머스를 상대할 예정입니다.2024/25년 EPL에 새로 합류한 팀은 어디 팀인가요?레스터시티는 챔피언십을 우승하며 프리미어리그로 승격되었습니다.입스위치 타운의 키에란 맥케나 감독은 22년 만에 EPL로 복귀시켰습니다.사우스햄튼은 챔피언십 플레이오프 결승전에서 승리한 뒤 EPL로 합류에 성공했습니다.​22/23 시즌에 승격했던 3팀셰필드 유나이티드, 번리, 루턴타운은 곧바로 2부 리그로 강등되고 말았습니다.여름 이적시장은 언제 열리고 닫히나요?프리미어리그의 2024년 여름 이적 기간은 \"유로 2024\"가 시작되는 날인6월 14일 금요일에 공식적으로 시작되었으며, 영국 시간으로 8월 30일 금요일 오후 11시에 마감됩니다.프리미어리그는 유럽의 다른 메이저 리그와 이적시장을 연계하기 위해 마감일을 앞당겼습니다.프리미엄 구독자 전용 콘텐츠입니다.축구전문가, 축잘알이 되는 법 구독으로 더 많은 콘텐츠를 만나보세요!쿠폰프리미엄 구독2,900원/월첫 달1,900원축구예측 전문가 K축구 입문자부터 실전 예측 고수까지, 모두 환영합니다!심층 분석으로 경기를 더 재미있고, 더 분석적으로 즐기세요.📊 배당 분석 + 전력 비교⚽ 킥오프 시간 / 팀 평균 평점 / 선발 라인업📈 국내 & 해외 배당률 / 심판 카드 성향🎯 최종 경기 예측 & 핸디캡 배팅 TIP🔥 팀 승점, 포메이션, 최근 경기 동향 등축구 승부 예측의 고수가 될 수 있는 실전형 콘텐츠 제공!#해외축구#EPL#일정#2425시즌#강등#승격#맨시티#아스날#리버풀#맨유좋아요댓글공유하기축구전문가, 축잘알이 되는 법채널에서 무료 제공하는 콘텐츠가 있습니다.지금 로그인하면 무료로 볼 수 있습니다.로그인닫기축구전문가, 축잘알이 되는 법이 채널의 콘텐츠가 마음에 드셨나요?채널을 구독하고 창작자의 콘텐츠를 응원해 주세요!스포츠/건강평균 주17회 신규 업데이트닫기무료 콘텐츠 모아보기[공지사항] 25-26 시즌 해외축구 개막 기념 이벤트 안내! 🎉🎁 (축구 유니폼 증정 등)2025.07.10.[이벤트] [유로파 결승][토트넘 vs 맨체스터 유나이티드] 최종 점수 예측하고 푸짐한 상품 받아가세요! 🎁🔥2025.05.20.[이벤트] 챔피언스리그 결승에 진출할 2팀을 예측하고 상품 받아가세요 🎁2025.04.26.[이벤트] [프랑크푸르트 VS 토트넘] 최종 점수와 첫 득점자를 맞히고 푸짐한 상품 받아가세요! 🎁🔥2025.04.17.다른 채널의 무료 콘텐츠 더보기전체콘텐츠PICK[리그앙 PREVIEW] 파리 생제르맹 vs RC 스트라스부르 최종 경기 결과 예측2025.10.16.좋아요댓글PICK[분데스 PREVIEW] 유니온 베를린 vs 묀헨글라트바흐 최종 경기 결과 예측2025.10.16.좋아요댓글[월드컵 유럽 예선 PREVIEW] 스코틀랜드 vs 벨라루스 최종 경기 결과 예측2025.10.12.좋아요댓글PICK[월드컵 유럽 예선 PREVIEW] 네덜란드 vs 핀란드 최종 경기 결과 예측2025.10.12.좋아요댓글[월드컵 유럽 예선 PREVIEW] 리투아니아 vs 폴란드 최종 경기 결과 예측2025.10.12.좋아요댓글함께 볼만한 프리미엄군인 전역 제대 국군의날 육군전투복 100일휴 병사 현충일 호국보훈의 달루딕365맥락을 디자인하라SF307퍼팅성공 확률을 높이는 43cm의 마법독학으로 \"더 골프\" 잘하는 방법바이낸스 뱅크런 루머에 관해STOCKSTUDY구독이 망설여진다면창작자가 추천하는 무료 콘텐츠를 더 확인해 보세요![공지사항] 25-26 시즌 해외축구 개막 기념 이벤트 안내! 🎉🎁 (축구 유니폼 증정 등)2025.07.10.좋아요댓글[이벤트] [유로파 결승][토트넘 vs 맨체스터 유나이티드] 최종 점수 예측하고 푸짐한 상품 받아가세요! 🎁🔥2025.05.20.좋아요댓글[이벤트] 챔피언스리그 결승에 진출할 2팀을 예측하고 상품 받아가세요 🎁2025.04.26.좋아요댓글바로 구독하러 가기닫기\n",
      "------------------------------------\n",
      "URL: https://m.kin.naver.com/qna/dirs/10010305/docs/411690092?d1id=10&qb=65+s7IWA&enc=utf8&section=kin.qna&rank=647&search_sort=0&spq=1\n",
      "\n",
      "Content:\n",
      "None\n",
      "------------------------------------\n",
      "URL: https://m.kin.naver.com/qna/dirs/10010102/docs/486350410\n",
      "\n",
      "Content:\n",
      "None\n",
      "------------------------------------\n"
     ]
    }
   ],
   "execution_count": 30
  },
  {
   "metadata": {
    "ExecuteTime": {
     "end_time": "2025-10-16T11:48:11.713512Z",
     "start_time": "2025-10-16T11:48:02.585289Z"
    }
   },
   "cell_type": "code",
   "source": [
    "chat_history.add_user_message(\"25-26시즌 웨스트브룩에 대한 분석\")\n",
    "\n",
    "answer = document_chain.invoke({\n",
    "  \"messages\": chat_history.messages,\n",
    "  \"context\": docs,\n",
    "})\n",
    "\n",
    "chat_history.add_ai_message(answer)\n",
    "print(answer)"
   ],
   "id": "98a8d5e2692cf5",
   "outputs": [
    {
     "name": "stdout",
     "output_type": "stream",
     "text": [
      "content='2025-2026 시즌의 웨스트브룩에 대한 분석은 현재로서는 다소 제한적입니다. 그러나 최근 시즌에서 그의 경기력과 스타일을 고려할 때, 몇 가지 주요 포인트를 언급할 수 있습니다.\\n\\n1. **스타일과 역할**: 웨스트브룩은 여전히 공격적인 플레이 스타일과 높은 에너지를 특징으로 합니다. 그의 드리블과 빠른 속도를 활용하여 상대 수비를 흔드는 능력은 여전히 강력합니다.\\n\\n2. **트리플-더블 능력**: 웨스트브룩은 커리어 동안 다수의 트리플-더블을 기록한 선수로, 2025-26 시즌에도 그 기록을 지속적으로 늘릴 가능성이 있습니다. 이는 그의 다재다능함과 다양한 포지션에서 기여할 수 있는 능력을 보여줍니다.\\n\\n3. **팀 기여도**: 그의 팀에서의 역할은 팀 구성에 따라 달라질 수 있습니다. 주전 포인트 가드로서의 역할을 맡을 가능성이 높지만, 벤치에서의 에너지원으로도 활용될 수 있습니다.\\n\\n4. **부상 관리**: 웨스트브룩은 과거에 부상 문제로 고생한 적이 있습니다. 따라서, 시즌 동안 그의 건강을 유지하는 것이 중요할 것입니다.\\n\\n5. **경쟁력**: 웨스트브룩이 소속된 팀의 전반적인 경쟁력도 그의 시즌 성적에 큰 영향을 미칠 것입니다. 팀의 성과가 그의 개인 성적에도 긍정적인 영향을 미칠 가능성이 큽니다.\\n\\n이러한 요소들은 웨스트브룩이 2025-2026 시즌에 어떤 성과를 낼지에 대한 예측에 도움이 될 수 있습니다. 최신 경기 결과와 팀 상황을 지속적으로 확인하는 것이 중요합니다.' additional_kwargs={'refusal': None} response_metadata={'token_usage': {'completion_tokens': 403, 'prompt_tokens': 1488, 'total_tokens': 1891, 'completion_tokens_details': {'accepted_prediction_tokens': 0, 'audio_tokens': 0, 'reasoning_tokens': 0, 'rejected_prediction_tokens': 0}, 'prompt_tokens_details': {'audio_tokens': 0, 'cached_tokens': 0}}, 'model_name': 'gpt-4o-mini-2024-07-18', 'system_fingerprint': 'fp_560af6e559', 'finish_reason': 'stop', 'logprobs': None} id='run--fc333980-ebc9-431c-9c63-7d052496a272-0' usage_metadata={'input_tokens': 1488, 'output_tokens': 403, 'total_tokens': 1891, 'input_token_details': {'audio': 0, 'cache_read': 0}, 'output_token_details': {'audio': 0, 'reasoning': 0}}\n"
     ]
    }
   ],
   "execution_count": 31
  },
  {
   "metadata": {},
   "cell_type": "code",
   "outputs": [],
   "execution_count": null,
   "source": "",
   "id": "5899b1994972bcf0"
  }
 ],
 "metadata": {
  "kernelspec": {
   "display_name": "Python 3",
   "language": "python",
   "name": "python3"
  },
  "language_info": {
   "codemirror_mode": {
    "name": "ipython",
    "version": 2
   },
   "file_extension": ".py",
   "mimetype": "text/x-python",
   "name": "python",
   "nbconvert_exporter": "python",
   "pygments_lexer": "ipython2",
   "version": "2.7.6"
  }
 },
 "nbformat": 4,
 "nbformat_minor": 5
}
