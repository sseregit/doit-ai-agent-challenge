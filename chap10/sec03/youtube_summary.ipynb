{
 "cells": [
  {
   "cell_type": "code",
   "id": "initial_id",
   "metadata": {
    "collapsed": true,
    "ExecuteTime": {
     "end_time": "2025-10-18T09:12:35.736612Z",
     "start_time": "2025-10-18T09:12:35.185514Z"
    }
   },
   "source": "%pip install youtube-search",
   "outputs": [
    {
     "name": "stdout",
     "output_type": "stream",
     "text": [
      "Requirement already satisfied: youtube-search in /Users/yeonsigjang/ideaProject/gpt_agent_2025_book_pip/.venv/lib/python3.12/site-packages (2.1.2)\r\n",
      "Requirement already satisfied: requests in /Users/yeonsigjang/ideaProject/gpt_agent_2025_book_pip/.venv/lib/python3.12/site-packages (from youtube-search) (2.32.5)\r\n",
      "Requirement already satisfied: charset_normalizer<4,>=2 in /Users/yeonsigjang/ideaProject/gpt_agent_2025_book_pip/.venv/lib/python3.12/site-packages (from requests->youtube-search) (3.4.3)\r\n",
      "Requirement already satisfied: idna<4,>=2.5 in /Users/yeonsigjang/ideaProject/gpt_agent_2025_book_pip/.venv/lib/python3.12/site-packages (from requests->youtube-search) (3.10)\r\n",
      "Requirement already satisfied: urllib3<3,>=1.21.1 in /Users/yeonsigjang/ideaProject/gpt_agent_2025_book_pip/.venv/lib/python3.12/site-packages (from requests->youtube-search) (2.3.0)\r\n",
      "Requirement already satisfied: certifi>=2017.4.17 in /Users/yeonsigjang/ideaProject/gpt_agent_2025_book_pip/.venv/lib/python3.12/site-packages (from requests->youtube-search) (2025.8.3)\r\n",
      "\r\n",
      "\u001B[1m[\u001B[0m\u001B[34;49mnotice\u001B[0m\u001B[1;39;49m]\u001B[0m\u001B[39;49m A new release of pip is available: \u001B[0m\u001B[31;49m24.3.1\u001B[0m\u001B[39;49m -> \u001B[0m\u001B[32;49m25.2\u001B[0m\r\n",
      "\u001B[1m[\u001B[0m\u001B[34;49mnotice\u001B[0m\u001B[1;39;49m]\u001B[0m\u001B[39;49m To update, run: \u001B[0m\u001B[32;49mpip install --upgrade pip\u001B[0m\r\n",
      "Note: you may need to restart the kernel to use updated packages.\n"
     ]
    }
   ],
   "execution_count": 1
  },
  {
   "metadata": {
    "ExecuteTime": {
     "end_time": "2025-10-18T09:12:36.732079Z",
     "start_time": "2025-10-18T09:12:35.741553Z"
    }
   },
   "cell_type": "code",
   "source": [
    "from youtube_search import YoutubeSearch\n",
    "\n",
    "videos = YoutubeSearch(\"25-26시즌 NBA\", max_results=5).to_dict()\n",
    "videos"
   ],
   "id": "870feeb811fdb09c",
   "outputs": [
    {
     "data": {
      "text/plain": [
       "[{'id': 'M7c8iRpdOx0',\n",
       "  'thumbnails': ['https://i.ytimg.com/vi/M7c8iRpdOx0/hq720.jpg?sqp=-oaymwEjCOgCEMoBSFryq4qpAxUIARUAAAAAGAElAADIQj0AgKJDeAE=&rs=AOn4CLA_Lru5ECNGXHDeDImgi_zMRo5sNw',\n",
       "   'https://i.ytimg.com/vi/M7c8iRpdOx0/hq720.jpg?sqp=-oaymwEXCNAFEJQDSFryq4qpAwkIARUAAIhCGAE=&rs=AOn4CLDLao6B10q8BdOff8-rtnu9csNSBw'],\n",
       "  'title': '25-26시즌 프리뷰｜NBA 최악의 팀이 품은 달. 너무너무너무 궁금합니다',\n",
       "  'long_desc': None,\n",
       "  'channel': '조코피TV',\n",
       "  'duration': '14:51',\n",
       "  'views': '조회수 17,680회',\n",
       "  'publish_time': '1개월 전',\n",
       "  'url_suffix': '/watch?v=M7c8iRpdOx0&pp=ygUPMjUtMjbsi5zspowgTkJB0gcJCfwJAYcqIYzv'},\n",
       " {'id': 'a3Oqseuip4U',\n",
       "  'thumbnails': ['https://i.ytimg.com/vi/a3Oqseuip4U/hq720.jpg?sqp=-oaymwEjCOgCEMoBSFryq4qpAxUIARUAAAAAGAElAADIQj0AgKJDeAE=&rs=AOn4CLCgeko_WkB80A21NgQE3Ahkl1V-9Q',\n",
       "   'https://i.ytimg.com/vi/a3Oqseuip4U/hq720.jpg?sqp=-oaymwEXCNAFEJQDSFryq4qpAwkIARUAAIhCGAE=&rs=AOn4CLC6BVtvKuWYpogPthfVhIUENtTvwA'],\n",
       "  'title': \"'ESPN 버전' 3가지 티어로 살펴보는 2025-26시즌 최종 순위 \",\n",
       "  'long_desc': None,\n",
       "  'channel': '조코피TV',\n",
       "  'duration': '26:54',\n",
       "  'views': '조회수 19,058회',\n",
       "  'publish_time': '1개월 전',\n",
       "  'url_suffix': '/watch?v=a3Oqseuip4U&pp=ygUPMjUtMjbsi5zspowgTkJB'},\n",
       " {'id': 'gTgX1lJTB5M',\n",
       "  'thumbnails': ['https://i.ytimg.com/vi/gTgX1lJTB5M/hq720.jpg?sqp=-oaymwEjCOgCEMoBSFryq4qpAxUIARUAAAAAGAElAADIQj0AgKJDeAE=&rs=AOn4CLBNzSS4R6KnwQLI9AEgoJFjozgyrA',\n",
       "   'https://i.ytimg.com/vi/gTgX1lJTB5M/hq720.jpg?sqp=-oaymwEXCNAFEJQDSFryq4qpAwkIARUAAIhCGAE=&rs=AOn4CLBN6z5cQm_z3Aq13xNjCHuLaRq3JQ'],\n",
       "  'title': '25-26시즌 프리뷰｜생각보다 약하다고 해도 거 너무 심한 거 아닌가?',\n",
       "  'long_desc': None,\n",
       "  'channel': '조코피TV',\n",
       "  'duration': '16:24',\n",
       "  'views': '조회수 16,567회',\n",
       "  'publish_time': '4일 전',\n",
       "  'url_suffix': '/watch?v=gTgX1lJTB5M&pp=ygUPMjUtMjbsi5zspowgTkJB'},\n",
       " {'id': 'sY9MQIbv61o',\n",
       "  'thumbnails': ['https://i.ytimg.com/vi/sY9MQIbv61o/hq720.jpg?sqp=-oaymwEjCOgCEMoBSFryq4qpAxUIARUAAAAAGAElAADIQj0AgKJDeAE=&rs=AOn4CLCsZHM3GovbAJgcKVL0UkdWl-2T3w',\n",
       "   'https://i.ytimg.com/vi/sY9MQIbv61o/hq720.jpg?sqp=-oaymwEXCNAFEJQDSFryq4qpAwkIARUAAIhCGAE=&rs=AOn4CLDvzgEdinxHM8D707aWXLWJs-TVfA'],\n",
       "  'title': '25-26시즌 프리뷰｜시즌 목표가 트레이드인 팀이 있다?!',\n",
       "  'long_desc': None,\n",
       "  'channel': '조코피TV',\n",
       "  'duration': '11:18',\n",
       "  'views': '조회수 17,727회',\n",
       "  'publish_time': '1개월 전',\n",
       "  'url_suffix': '/watch?v=sY9MQIbv61o&pp=ygUPMjUtMjbsi5zspowgTkJB'},\n",
       " {'id': 'heSb4CpjmSs',\n",
       "  'thumbnails': ['https://i.ytimg.com/vi/heSb4CpjmSs/hqdefault.jpg?sqp=-oaymwEjCOADEI4CSFryq4qpAxUIARUAAAAAGAElAADIQj0AgKJDeAE=&rs=AOn4CLCVCQMfJdf3JVRGE9TLx3miLfHDFg'],\n",
       "  'title': '쿠퍼 플래그 폼 미쳤다! 신인왕 확정? | 25-26시즌 프리뷰 ④사우스웨스트 디비전',\n",
       "  'long_desc': None,\n",
       "  'channel': '느바라디오',\n",
       "  'duration': '32:28',\n",
       "  'views': '조회수 4,598회',\n",
       "  'publish_time': '1일 전',\n",
       "  'url_suffix': '/watch?v=heSb4CpjmSs&pp=ygUPMjUtMjbsi5zspowgTkJB'}]"
      ]
     },
     "execution_count": 2,
     "metadata": {},
     "output_type": "execute_result"
    }
   ],
   "execution_count": 2
  },
  {
   "metadata": {
    "ExecuteTime": {
     "end_time": "2025-10-18T09:12:37.683088Z",
     "start_time": "2025-10-18T09:12:37.680864Z"
    }
   },
   "cell_type": "code",
   "source": [
    "video_url = 'https://youtube.com' + videos[0]['url_suffix']\n",
    "video_url"
   ],
   "id": "af196e8739809bd9",
   "outputs": [
    {
     "data": {
      "text/plain": [
       "'https://youtube.com/watch?v=M7c8iRpdOx0&pp=ygUPMjUtMjbsi5zspowgTkJB0gcJCfwJAYcqIYzv'"
      ]
     },
     "execution_count": 3,
     "metadata": {},
     "output_type": "execute_result"
    }
   ],
   "execution_count": 3
  },
  {
   "metadata": {
    "ExecuteTime": {
     "end_time": "2025-10-18T09:12:38.284415Z",
     "start_time": "2025-10-18T09:12:37.695142Z"
    }
   },
   "cell_type": "code",
   "source": "%pip install youtube-transcript-api --upgrade",
   "id": "b12e53ad342d242b",
   "outputs": [
    {
     "name": "stdout",
     "output_type": "stream",
     "text": [
      "Requirement already satisfied: youtube-transcript-api in /Users/yeonsigjang/ideaProject/gpt_agent_2025_book_pip/.venv/lib/python3.12/site-packages (1.2.3)\r\n",
      "Requirement already satisfied: defusedxml<0.8.0,>=0.7.1 in /Users/yeonsigjang/ideaProject/gpt_agent_2025_book_pip/.venv/lib/python3.12/site-packages (from youtube-transcript-api) (0.7.1)\r\n",
      "Requirement already satisfied: requests in /Users/yeonsigjang/ideaProject/gpt_agent_2025_book_pip/.venv/lib/python3.12/site-packages (from youtube-transcript-api) (2.32.5)\r\n",
      "Requirement already satisfied: charset_normalizer<4,>=2 in /Users/yeonsigjang/ideaProject/gpt_agent_2025_book_pip/.venv/lib/python3.12/site-packages (from requests->youtube-transcript-api) (3.4.3)\r\n",
      "Requirement already satisfied: idna<4,>=2.5 in /Users/yeonsigjang/ideaProject/gpt_agent_2025_book_pip/.venv/lib/python3.12/site-packages (from requests->youtube-transcript-api) (3.10)\r\n",
      "Requirement already satisfied: urllib3<3,>=1.21.1 in /Users/yeonsigjang/ideaProject/gpt_agent_2025_book_pip/.venv/lib/python3.12/site-packages (from requests->youtube-transcript-api) (2.3.0)\r\n",
      "Requirement already satisfied: certifi>=2017.4.17 in /Users/yeonsigjang/ideaProject/gpt_agent_2025_book_pip/.venv/lib/python3.12/site-packages (from requests->youtube-transcript-api) (2025.8.3)\r\n",
      "\r\n",
      "\u001B[1m[\u001B[0m\u001B[34;49mnotice\u001B[0m\u001B[1;39;49m]\u001B[0m\u001B[39;49m A new release of pip is available: \u001B[0m\u001B[31;49m24.3.1\u001B[0m\u001B[39;49m -> \u001B[0m\u001B[32;49m25.2\u001B[0m\r\n",
      "\u001B[1m[\u001B[0m\u001B[34;49mnotice\u001B[0m\u001B[1;39;49m]\u001B[0m\u001B[39;49m To update, run: \u001B[0m\u001B[32;49mpip install --upgrade pip\u001B[0m\r\n",
      "Note: you may need to restart the kernel to use updated packages.\n"
     ]
    }
   ],
   "execution_count": 4
  },
  {
   "metadata": {
    "ExecuteTime": {
     "end_time": "2025-10-18T09:12:39.827277Z",
     "start_time": "2025-10-18T09:12:38.289557Z"
    }
   },
   "cell_type": "code",
   "source": [
    "# YouTubeTranscriptApi 1.2.3 올바른 사용법\n",
    "from youtube_transcript_api import YouTubeTranscriptApi\n",
    "\n",
    "\n",
    "def get_video_id(video_url):\n",
    "  return video_url.split('watch?v=')[1].split('&')[0]\n",
    "\n",
    "\n",
    "# video_id 추출\n",
    "video_id = get_video_id(video_url)\n",
    "print(f\"Video ID: {video_id}\")\n",
    "\n",
    "# API 인스턴스 생성 및 자막 가져오기\n",
    "api = YouTubeTranscriptApi()\n",
    "fetched_transcript = api.fetch(video_id, languages=['ko', 'en'])\n",
    "\n",
    "# raw 데이터로 변환\n",
    "transcript_datas = fetched_transcript.to_raw_data()\n",
    "\n",
    "transcript_datas"
   ],
   "id": "752371df878dac92",
   "outputs": [
    {
     "name": "stdout",
     "output_type": "stream",
     "text": [
      "Video ID: M7c8iRpdOx0\n"
     ]
    },
    {
     "ename": "IpBlocked",
     "evalue": "\nCould not retrieve a transcript for the video https://www.youtube.com/watch?v=M7c8iRpdOx0! This is most likely caused by:\n\nYouTube is blocking requests from your IP. This usually is due to one of the following reasons:\n- You have done too many requests and your IP has been blocked by YouTube\n- You are doing requests from an IP belonging to a cloud provider (like AWS, Google Cloud Platform, Azure, etc.). Unfortunately, most IPs from cloud providers are blocked by YouTube.\n\nWays to work around this are explained in the \"Working around IP bans\" section of the README (https://github.com/jdepoix/youtube-transcript-api?tab=readme-ov-file#working-around-ip-bans-requestblocked-or-ipblocked-exception).\n\n\nIf you are sure that the described cause is not responsible for this error and that a transcript should be retrievable, please create an issue at https://github.com/jdepoix/youtube-transcript-api/issues. Please add which version of youtube_transcript_api you are using and provide the information needed to replicate the error. Also make sure that there are no open issues which already describe your problem!",
     "output_type": "error",
     "traceback": [
      "\u001B[31m---------------------------------------------------------------------------\u001B[39m",
      "\u001B[31mIpBlocked\u001B[39m                                 Traceback (most recent call last)",
      "\u001B[36mCell\u001B[39m\u001B[36m \u001B[39m\u001B[32mIn[5]\u001B[39m\u001B[32m, line 15\u001B[39m\n\u001B[32m     13\u001B[39m \u001B[38;5;66;03m# API 인스턴스 생성 및 자막 가져오기\u001B[39;00m\n\u001B[32m     14\u001B[39m api = YouTubeTranscriptApi()\n\u001B[32m---> \u001B[39m\u001B[32m15\u001B[39m fetched_transcript = \u001B[43mapi\u001B[49m\u001B[43m.\u001B[49m\u001B[43mfetch\u001B[49m\u001B[43m(\u001B[49m\u001B[43mvideo_id\u001B[49m\u001B[43m,\u001B[49m\u001B[43m \u001B[49m\u001B[43mlanguages\u001B[49m\u001B[43m=\u001B[49m\u001B[43m[\u001B[49m\u001B[33;43m'\u001B[39;49m\u001B[33;43mko\u001B[39;49m\u001B[33;43m'\u001B[39;49m\u001B[43m,\u001B[49m\u001B[43m \u001B[49m\u001B[33;43m'\u001B[39;49m\u001B[33;43men\u001B[39;49m\u001B[33;43m'\u001B[39;49m\u001B[43m]\u001B[49m\u001B[43m)\u001B[49m\n\u001B[32m     17\u001B[39m \u001B[38;5;66;03m# raw 데이터로 변환\u001B[39;00m\n\u001B[32m     18\u001B[39m transcript_datas = fetched_transcript.to_raw_data()\n",
      "\u001B[36mFile \u001B[39m\u001B[32m~/ideaProject/gpt_agent_2025_book_pip/.venv/lib/python3.12/site-packages/youtube_transcript_api/_api.py:73\u001B[39m, in \u001B[36mYouTubeTranscriptApi.fetch\u001B[39m\u001B[34m(self, video_id, languages, preserve_formatting)\u001B[39m\n\u001B[32m     51\u001B[39m \u001B[38;5;28;01mdef\u001B[39;00m\u001B[38;5;250m \u001B[39m\u001B[34mfetch\u001B[39m(\n\u001B[32m     52\u001B[39m     \u001B[38;5;28mself\u001B[39m,\n\u001B[32m     53\u001B[39m     video_id: \u001B[38;5;28mstr\u001B[39m,\n\u001B[32m     54\u001B[39m     languages: Iterable[\u001B[38;5;28mstr\u001B[39m] = (\u001B[33m\"\u001B[39m\u001B[33men\u001B[39m\u001B[33m\"\u001B[39m,),\n\u001B[32m     55\u001B[39m     preserve_formatting: \u001B[38;5;28mbool\u001B[39m = \u001B[38;5;28;01mFalse\u001B[39;00m,\n\u001B[32m     56\u001B[39m ) -> FetchedTranscript:\n\u001B[32m     57\u001B[39m \u001B[38;5;250m    \u001B[39m\u001B[33;03m\"\"\"\u001B[39;00m\n\u001B[32m     58\u001B[39m \u001B[33;03m    Retrieves the transcript for a single video. This is just a shortcut for\u001B[39;00m\n\u001B[32m     59\u001B[39m \u001B[33;03m    calling:\u001B[39;00m\n\u001B[32m   (...)\u001B[39m\u001B[32m     68\u001B[39m \u001B[33;03m    :param preserve_formatting: whether to keep select HTML text formatting\u001B[39;00m\n\u001B[32m     69\u001B[39m \u001B[33;03m    \"\"\"\u001B[39;00m\n\u001B[32m     70\u001B[39m     \u001B[38;5;28;01mreturn\u001B[39;00m (\n\u001B[32m     71\u001B[39m         \u001B[38;5;28;43mself\u001B[39;49m\u001B[43m.\u001B[49m\u001B[43mlist\u001B[49m\u001B[43m(\u001B[49m\u001B[43mvideo_id\u001B[49m\u001B[43m)\u001B[49m\n\u001B[32m     72\u001B[39m \u001B[43m        \u001B[49m\u001B[43m.\u001B[49m\u001B[43mfind_transcript\u001B[49m\u001B[43m(\u001B[49m\u001B[43mlanguages\u001B[49m\u001B[43m)\u001B[49m\n\u001B[32m---> \u001B[39m\u001B[32m73\u001B[39m \u001B[43m        \u001B[49m\u001B[43m.\u001B[49m\u001B[43mfetch\u001B[49m\u001B[43m(\u001B[49m\u001B[43mpreserve_formatting\u001B[49m\u001B[43m=\u001B[49m\u001B[43mpreserve_formatting\u001B[49m\u001B[43m)\u001B[49m\n\u001B[32m     74\u001B[39m     )\n",
      "\u001B[36mFile \u001B[39m\u001B[32m~/ideaProject/gpt_agent_2025_book_pip/.venv/lib/python3.12/site-packages/youtube_transcript_api/_transcripts.py:139\u001B[39m, in \u001B[36mTranscript.fetch\u001B[39m\u001B[34m(self, preserve_formatting)\u001B[39m\n\u001B[32m    136\u001B[39m     \u001B[38;5;28;01mraise\u001B[39;00m PoTokenRequired(\u001B[38;5;28mself\u001B[39m.video_id)\n\u001B[32m    137\u001B[39m response = \u001B[38;5;28mself\u001B[39m._http_client.get(\u001B[38;5;28mself\u001B[39m._url)\n\u001B[32m    138\u001B[39m snippets = _TranscriptParser(preserve_formatting=preserve_formatting).parse(\n\u001B[32m--> \u001B[39m\u001B[32m139\u001B[39m     \u001B[43m_raise_http_errors\u001B[49m\u001B[43m(\u001B[49m\u001B[43mresponse\u001B[49m\u001B[43m,\u001B[49m\u001B[43m \u001B[49m\u001B[38;5;28;43mself\u001B[39;49m\u001B[43m.\u001B[49m\u001B[43mvideo_id\u001B[49m\u001B[43m)\u001B[49m.text,\n\u001B[32m    140\u001B[39m )\n\u001B[32m    141\u001B[39m \u001B[38;5;28;01mreturn\u001B[39;00m FetchedTranscript(\n\u001B[32m    142\u001B[39m     snippets=snippets,\n\u001B[32m    143\u001B[39m     video_id=\u001B[38;5;28mself\u001B[39m.video_id,\n\u001B[32m   (...)\u001B[39m\u001B[32m    146\u001B[39m     is_generated=\u001B[38;5;28mself\u001B[39m.is_generated,\n\u001B[32m    147\u001B[39m )\n",
      "\u001B[36mFile \u001B[39m\u001B[32m~/ideaProject/gpt_agent_2025_book_pip/.venv/lib/python3.12/site-packages/youtube_transcript_api/_transcripts.py:96\u001B[39m, in \u001B[36m_raise_http_errors\u001B[39m\u001B[34m(response, video_id)\u001B[39m\n\u001B[32m     94\u001B[39m \u001B[38;5;28;01mtry\u001B[39;00m:\n\u001B[32m     95\u001B[39m     \u001B[38;5;28;01mif\u001B[39;00m response.status_code == \u001B[32m429\u001B[39m:\n\u001B[32m---> \u001B[39m\u001B[32m96\u001B[39m         \u001B[38;5;28;01mraise\u001B[39;00m IpBlocked(video_id)\n\u001B[32m     97\u001B[39m     response.raise_for_status()\n\u001B[32m     98\u001B[39m     \u001B[38;5;28;01mreturn\u001B[39;00m response\n",
      "\u001B[31mIpBlocked\u001B[39m: \nCould not retrieve a transcript for the video https://www.youtube.com/watch?v=M7c8iRpdOx0! This is most likely caused by:\n\nYouTube is blocking requests from your IP. This usually is due to one of the following reasons:\n- You have done too many requests and your IP has been blocked by YouTube\n- You are doing requests from an IP belonging to a cloud provider (like AWS, Google Cloud Platform, Azure, etc.). Unfortunately, most IPs from cloud providers are blocked by YouTube.\n\nWays to work around this are explained in the \"Working around IP bans\" section of the README (https://github.com/jdepoix/youtube-transcript-api?tab=readme-ov-file#working-around-ip-bans-requestblocked-or-ipblocked-exception).\n\n\nIf you are sure that the described cause is not responsible for this error and that a transcript should be retrievable, please create an issue at https://github.com/jdepoix/youtube-transcript-api/issues. Please add which version of youtube_transcript_api you are using and provide the information needed to replicate the error. Also make sure that there are no open issues which already describe your problem!"
     ]
    }
   ],
   "execution_count": 5
  },
  {
   "metadata": {
    "ExecuteTime": {
     "end_time": "2025-10-18T09:12:39.844887Z",
     "start_time": "2025-10-18T08:20:27.782499Z"
    }
   },
   "cell_type": "code",
   "source": [
    "from langchain_core.documents import Document\n",
    "\n",
    "for v in videos:\n",
    "  fetched_scripts = api.fetch(v['id'], languages=['ko', 'en'])\n",
    "\n",
    "  text = ' '.join(fetched_script.text for fetched_script in fetched_scripts)\n",
    "\n",
    "  v['content'] = Document(\n",
    "      page_content=' '.join(fetched_script.text for fetched_script in fetched_scripts),\n",
    "      metadata={\"source\": v['id']}\n",
    "  )\n",
    "\n",
    "videos"
   ],
   "id": "193562173f03c1d9",
   "outputs": [
    {
     "ename": "IpBlocked",
     "evalue": "\nCould not retrieve a transcript for the video https://www.youtube.com/watch?v=M7c8iRpdOx0! This is most likely caused by:\n\nYouTube is blocking requests from your IP. This usually is due to one of the following reasons:\n- You have done too many requests and your IP has been blocked by YouTube\n- You are doing requests from an IP belonging to a cloud provider (like AWS, Google Cloud Platform, Azure, etc.). Unfortunately, most IPs from cloud providers are blocked by YouTube.\n\nWays to work around this are explained in the \"Working around IP bans\" section of the README (https://github.com/jdepoix/youtube-transcript-api?tab=readme-ov-file#working-around-ip-bans-requestblocked-or-ipblocked-exception).\n\n\nIf you are sure that the described cause is not responsible for this error and that a transcript should be retrievable, please create an issue at https://github.com/jdepoix/youtube-transcript-api/issues. Please add which version of youtube_transcript_api you are using and provide the information needed to replicate the error. Also make sure that there are no open issues which already describe your problem!",
     "output_type": "error",
     "traceback": [
      "\u001B[31m---------------------------------------------------------------------------\u001B[39m",
      "\u001B[31mIpBlocked\u001B[39m                                 Traceback (most recent call last)",
      "\u001B[36mCell\u001B[39m\u001B[36m \u001B[39m\u001B[32mIn[51]\u001B[39m\u001B[32m, line 5\u001B[39m\n\u001B[32m      1\u001B[39m \u001B[38;5;28;01mfrom\u001B[39;00m\u001B[38;5;250m \u001B[39m\u001B[34;01mlangchain_core\u001B[39;00m\u001B[34;01m.\u001B[39;00m\u001B[34;01mdocuments\u001B[39;00m\u001B[38;5;250m \u001B[39m\u001B[38;5;28;01mimport\u001B[39;00m Document\n\u001B[32m      3\u001B[39m \u001B[38;5;28;01mfor\u001B[39;00m v \u001B[38;5;129;01min\u001B[39;00m videos:\n\u001B[32m----> \u001B[39m\u001B[32m5\u001B[39m   fetched_scripts = \u001B[43mapi\u001B[49m\u001B[43m.\u001B[49m\u001B[43mfetch\u001B[49m\u001B[43m(\u001B[49m\u001B[43mv\u001B[49m\u001B[43m[\u001B[49m\u001B[33;43m'\u001B[39;49m\u001B[33;43mid\u001B[39;49m\u001B[33;43m'\u001B[39;49m\u001B[43m]\u001B[49m\u001B[43m,\u001B[49m\u001B[43m \u001B[49m\u001B[43mlanguages\u001B[49m\u001B[43m=\u001B[49m\u001B[43m[\u001B[49m\u001B[33;43m'\u001B[39;49m\u001B[33;43mko\u001B[39;49m\u001B[33;43m'\u001B[39;49m\u001B[43m,\u001B[49m\u001B[43m \u001B[49m\u001B[33;43m'\u001B[39;49m\u001B[33;43men\u001B[39;49m\u001B[33;43m'\u001B[39;49m\u001B[43m]\u001B[49m\u001B[43m)\u001B[49m\n\u001B[32m      7\u001B[39m   \u001B[38;5;28;01mfor\u001B[39;00m fetched_script \u001B[38;5;129;01min\u001B[39;00m fetched_scripts:\n\u001B[32m      8\u001B[39m     \u001B[38;5;28mprint\u001B[39m(fetched_script.text)\n",
      "\u001B[36mFile \u001B[39m\u001B[32m~/ideaProject/gpt_agent_2025_book_pip/.venv/lib/python3.12/site-packages/youtube_transcript_api/_api.py:73\u001B[39m, in \u001B[36mYouTubeTranscriptApi.fetch\u001B[39m\u001B[34m(self, video_id, languages, preserve_formatting)\u001B[39m\n\u001B[32m     51\u001B[39m \u001B[38;5;28;01mdef\u001B[39;00m\u001B[38;5;250m \u001B[39m\u001B[34mfetch\u001B[39m(\n\u001B[32m     52\u001B[39m     \u001B[38;5;28mself\u001B[39m,\n\u001B[32m     53\u001B[39m     video_id: \u001B[38;5;28mstr\u001B[39m,\n\u001B[32m     54\u001B[39m     languages: Iterable[\u001B[38;5;28mstr\u001B[39m] = (\u001B[33m\"\u001B[39m\u001B[33men\u001B[39m\u001B[33m\"\u001B[39m,),\n\u001B[32m     55\u001B[39m     preserve_formatting: \u001B[38;5;28mbool\u001B[39m = \u001B[38;5;28;01mFalse\u001B[39;00m,\n\u001B[32m     56\u001B[39m ) -> FetchedTranscript:\n\u001B[32m     57\u001B[39m \u001B[38;5;250m    \u001B[39m\u001B[33;03m\"\"\"\u001B[39;00m\n\u001B[32m     58\u001B[39m \u001B[33;03m    Retrieves the transcript for a single video. This is just a shortcut for\u001B[39;00m\n\u001B[32m     59\u001B[39m \u001B[33;03m    calling:\u001B[39;00m\n\u001B[32m   (...)\u001B[39m\u001B[32m     68\u001B[39m \u001B[33;03m    :param preserve_formatting: whether to keep select HTML text formatting\u001B[39;00m\n\u001B[32m     69\u001B[39m \u001B[33;03m    \"\"\"\u001B[39;00m\n\u001B[32m     70\u001B[39m     \u001B[38;5;28;01mreturn\u001B[39;00m (\n\u001B[32m     71\u001B[39m         \u001B[38;5;28;43mself\u001B[39;49m\u001B[43m.\u001B[49m\u001B[43mlist\u001B[49m\u001B[43m(\u001B[49m\u001B[43mvideo_id\u001B[49m\u001B[43m)\u001B[49m\n\u001B[32m     72\u001B[39m \u001B[43m        \u001B[49m\u001B[43m.\u001B[49m\u001B[43mfind_transcript\u001B[49m\u001B[43m(\u001B[49m\u001B[43mlanguages\u001B[49m\u001B[43m)\u001B[49m\n\u001B[32m---> \u001B[39m\u001B[32m73\u001B[39m \u001B[43m        \u001B[49m\u001B[43m.\u001B[49m\u001B[43mfetch\u001B[49m\u001B[43m(\u001B[49m\u001B[43mpreserve_formatting\u001B[49m\u001B[43m=\u001B[49m\u001B[43mpreserve_formatting\u001B[49m\u001B[43m)\u001B[49m\n\u001B[32m     74\u001B[39m     )\n",
      "\u001B[36mFile \u001B[39m\u001B[32m~/ideaProject/gpt_agent_2025_book_pip/.venv/lib/python3.12/site-packages/youtube_transcript_api/_transcripts.py:139\u001B[39m, in \u001B[36mTranscript.fetch\u001B[39m\u001B[34m(self, preserve_formatting)\u001B[39m\n\u001B[32m    136\u001B[39m     \u001B[38;5;28;01mraise\u001B[39;00m PoTokenRequired(\u001B[38;5;28mself\u001B[39m.video_id)\n\u001B[32m    137\u001B[39m response = \u001B[38;5;28mself\u001B[39m._http_client.get(\u001B[38;5;28mself\u001B[39m._url)\n\u001B[32m    138\u001B[39m snippets = _TranscriptParser(preserve_formatting=preserve_formatting).parse(\n\u001B[32m--> \u001B[39m\u001B[32m139\u001B[39m     \u001B[43m_raise_http_errors\u001B[49m\u001B[43m(\u001B[49m\u001B[43mresponse\u001B[49m\u001B[43m,\u001B[49m\u001B[43m \u001B[49m\u001B[38;5;28;43mself\u001B[39;49m\u001B[43m.\u001B[49m\u001B[43mvideo_id\u001B[49m\u001B[43m)\u001B[49m.text,\n\u001B[32m    140\u001B[39m )\n\u001B[32m    141\u001B[39m \u001B[38;5;28;01mreturn\u001B[39;00m FetchedTranscript(\n\u001B[32m    142\u001B[39m     snippets=snippets,\n\u001B[32m    143\u001B[39m     video_id=\u001B[38;5;28mself\u001B[39m.video_id,\n\u001B[32m   (...)\u001B[39m\u001B[32m    146\u001B[39m     is_generated=\u001B[38;5;28mself\u001B[39m.is_generated,\n\u001B[32m    147\u001B[39m )\n",
      "\u001B[36mFile \u001B[39m\u001B[32m~/ideaProject/gpt_agent_2025_book_pip/.venv/lib/python3.12/site-packages/youtube_transcript_api/_transcripts.py:96\u001B[39m, in \u001B[36m_raise_http_errors\u001B[39m\u001B[34m(response, video_id)\u001B[39m\n\u001B[32m     94\u001B[39m \u001B[38;5;28;01mtry\u001B[39;00m:\n\u001B[32m     95\u001B[39m     \u001B[38;5;28;01mif\u001B[39;00m response.status_code == \u001B[32m429\u001B[39m:\n\u001B[32m---> \u001B[39m\u001B[32m96\u001B[39m         \u001B[38;5;28;01mraise\u001B[39;00m IpBlocked(video_id)\n\u001B[32m     97\u001B[39m     response.raise_for_status()\n\u001B[32m     98\u001B[39m     \u001B[38;5;28;01mreturn\u001B[39;00m response\n",
      "\u001B[31mIpBlocked\u001B[39m: \nCould not retrieve a transcript for the video https://www.youtube.com/watch?v=M7c8iRpdOx0! This is most likely caused by:\n\nYouTube is blocking requests from your IP. This usually is due to one of the following reasons:\n- You have done too many requests and your IP has been blocked by YouTube\n- You are doing requests from an IP belonging to a cloud provider (like AWS, Google Cloud Platform, Azure, etc.). Unfortunately, most IPs from cloud providers are blocked by YouTube.\n\nWays to work around this are explained in the \"Working around IP bans\" section of the README (https://github.com/jdepoix/youtube-transcript-api?tab=readme-ov-file#working-around-ip-bans-requestblocked-or-ipblocked-exception).\n\n\nIf you are sure that the described cause is not responsible for this error and that a transcript should be retrievable, please create an issue at https://github.com/jdepoix/youtube-transcript-api/issues. Please add which version of youtube_transcript_api you are using and provide the information needed to replicate the error. Also make sure that there are no open issues which already describe your problem!"
     ]
    }
   ],
   "execution_count": 51
  },
  {
   "metadata": {
    "ExecuteTime": {
     "end_time": "2025-10-18T09:12:39.861345Z",
     "start_time": "2025-10-18T08:27:25.469157Z"
    }
   },
   "cell_type": "code",
   "source": [
    "from langchain_openai import ChatOpenAI\n",
    "from dotenv import load_dotenv\n",
    "\n",
    "load_dotenv()\n",
    "\n",
    "llm = ChatOpenAI(model=\"gpt-4o-mini\")"
   ],
   "id": "14a48767477f779d",
   "outputs": [],
   "execution_count": 52
  },
  {
   "metadata": {
    "ExecuteTime": {
     "end_time": "2025-10-18T09:12:39.861845Z",
     "start_time": "2025-10-18T08:30:08.013813Z"
    }
   },
   "cell_type": "code",
   "source": [
    "from langchain_core.prompts import ChatPromptTemplate\n",
    "from langchain.chains.combine_documents import create_stuff_documents_chain\n",
    "\n",
    "prompt = ChatPromptTemplate.from_messages([\n",
    "  (\"system\", \"다음 영상에 대한 요약을 한국어로 만들어줘 : \\n\\n{context}\")\n",
    "])\n",
    "\n",
    "chain = create_stuff_documents_chain(llm, prompt)\n",
    "\n",
    "result = chain.invoke({\"context\": videos[0]['content']})\n",
    "result"
   ],
   "id": "b2283526abdc316",
   "outputs": [
    {
     "ename": "KeyError",
     "evalue": "'content'",
     "output_type": "error",
     "traceback": [
      "\u001B[31m---------------------------------------------------------------------------\u001B[39m",
      "\u001B[31mKeyError\u001B[39m                                  Traceback (most recent call last)",
      "\u001B[36mCell\u001B[39m\u001B[36m \u001B[39m\u001B[32mIn[53]\u001B[39m\u001B[32m, line 10\u001B[39m\n\u001B[32m      4\u001B[39m prompt = ChatPromptTemplate.from_messages([\n\u001B[32m      5\u001B[39m   (\u001B[33m\"\u001B[39m\u001B[33msystem\u001B[39m\u001B[33m\"\u001B[39m, \u001B[33m\"\u001B[39m\u001B[33m다음 영상에 대한 요약을 한국어로 만들어줘 : \u001B[39m\u001B[38;5;130;01m\\n\u001B[39;00m\u001B[38;5;130;01m\\n\u001B[39;00m\u001B[38;5;132;01m{context}\u001B[39;00m\u001B[33m\"\u001B[39m)\n\u001B[32m      6\u001B[39m ])\n\u001B[32m      8\u001B[39m chain = create_stuff_documents_chain(llm, prompt)\n\u001B[32m---> \u001B[39m\u001B[32m10\u001B[39m result = chain.invoke({\u001B[33m\"\u001B[39m\u001B[33mcontext\u001B[39m\u001B[33m\"\u001B[39m: \u001B[43mvideos\u001B[49m\u001B[43m[\u001B[49m\u001B[32;43m0\u001B[39;49m\u001B[43m]\u001B[49m\u001B[43m[\u001B[49m\u001B[33;43m'\u001B[39;49m\u001B[33;43mcontent\u001B[39;49m\u001B[33;43m'\u001B[39;49m\u001B[43m]\u001B[49m})\n\u001B[32m     11\u001B[39m result\n",
      "\u001B[31mKeyError\u001B[39m: 'content'"
     ]
    }
   ],
   "execution_count": 53
  },
  {
   "metadata": {},
   "cell_type": "code",
   "outputs": [],
   "execution_count": null,
   "source": [
    "from tqdm import tqdm\n",
    "\n",
    "for v in tqdm(videos):\n",
    "  v['summary'] = chain.invoke({\"context\": v['content']})\n",
    "\n",
    "videos"
   ],
   "id": "bdc53672caa45553"
  }
 ],
 "metadata": {
  "kernelspec": {
   "display_name": "Python 3",
   "language": "python",
   "name": "python3"
  },
  "language_info": {
   "codemirror_mode": {
    "name": "ipython",
    "version": 2
   },
   "file_extension": ".py",
   "mimetype": "text/x-python",
   "name": "python",
   "nbconvert_exporter": "python",
   "pygments_lexer": "ipython2",
   "version": "2.7.6"
  }
 },
 "nbformat": 4,
 "nbformat_minor": 5
}
