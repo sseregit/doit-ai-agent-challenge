{
 "cells": [
  {
   "cell_type": "code",
   "id": "initial_id",
   "metadata": {
    "collapsed": true,
    "ExecuteTime": {
     "end_time": "2025-10-21T13:32:10.669325Z",
     "start_time": "2025-10-21T13:32:10.666838Z"
    }
   },
   "source": [
    "from glob import glob\n",
    "\n",
    "for g in glob('../data/*.pdf'):\n",
    "  print(g)"
   ],
   "outputs": [
    {
     "name": "stdout",
     "output_type": "stream",
     "text": [
      "../data/2040_seoul_plan.pdf\n",
      "../data/OneNYC_2050_Strategic_Plan.pdf\n"
     ]
    }
   ],
   "execution_count": 28
  },
  {
   "metadata": {
    "ExecuteTime": {
     "end_time": "2025-10-21T13:32:10.695189Z",
     "start_time": "2025-10-21T13:32:10.693021Z"
    }
   },
   "cell_type": "code",
   "source": [
    "from langchain_community.document_loaders import PyPDFLoader\n",
    "from langchain_text_splitters import RecursiveCharacterTextSplitter\n",
    "\n",
    "\n",
    "def read_pdf_and_split_text(pdf_path, chunk_size=1000, chunk_overlap=100):\n",
    "  \"\"\"\n",
    "  주어진 PDF 파일을 읽고 텍스트를 분할합니다.\n",
    "\n",
    "  매개변수:\n",
    "    pdf_path (str): PDF 파일의 경로.\n",
    "    chunk_size (int, 선택적): 각 텍스트 청크의 크기. 기본값은 1000\n",
    "    chunk_overlap (int, 선택적): 청크 간의 중첩 크기. 기본값은 100\n",
    "  반환값:\n",
    "    list: 분할된 텍스트 청크의 리스트.\n",
    "  \"\"\"\n",
    "  print(f\"PDF {pdf_path} -----------------------------\")\n",
    "\n",
    "  pdf_loader = PyPDFLoader(pdf_path)\n",
    "  data_from_pdf = pdf_loader.load()\n",
    "\n",
    "  text_splitter = RecursiveCharacterTextSplitter(\n",
    "      chunk_size=chunk_size, chunk_overlap=chunk_overlap\n",
    "  )\n",
    "\n",
    "  splits = text_splitter.split_documents(data_from_pdf)\n",
    "\n",
    "  print(f\"Number of splits: {len(splits)}\\n\")\n",
    "  return splits"
   ],
   "id": "6a5a5fca8fe2d403",
   "outputs": [],
   "execution_count": 29
  },
  {
   "metadata": {
    "ExecuteTime": {
     "end_time": "2025-10-21T13:32:10.722029Z",
     "start_time": "2025-10-21T13:32:10.706764Z"
    }
   },
   "cell_type": "code",
   "source": [
    "from langchain_openai import OpenAIEmbeddings\n",
    "from dotenv import load_dotenv\n",
    "from langchain_chroma import Chroma\n",
    "import os\n",
    "\n",
    "load_dotenv()\n",
    "\n",
    "embedding = OpenAIEmbeddings(model='text-embedding-3-large')\n",
    "\n",
    "persist_directory = '../chroma_store'\n",
    "\n",
    "if os.path.exists(persist_directory):\n",
    "  print(\"Loading existing Chroma store\")\n",
    "  vectorstore = Chroma(\n",
    "      persist_directory=persist_directory,\n",
    "      embedding_function=embedding\n",
    "  )\n",
    "else:\n",
    "  print(\"Creating new Chroma store\")\n",
    "\n",
    "  vectorstore = None\n",
    "  for g in glob('../data/*.pdf'):\n",
    "    chunks = read_pdf_and_split_text(g)\n",
    "    for i in range(0, len(chunks), 100):\n",
    "      if vectorstore is None:\n",
    "        vectorstore = Chroma.from_documents(\n",
    "            documenets=chunks[i:i + 100],\n",
    "            embedding=embedding,\n",
    "            persist_directory=persist_directory\n",
    "        )\n",
    "      else:\n",
    "        vectorstore.add_documents(\n",
    "            documents=chunks[i:i + 100]\n",
    "        )"
   ],
   "id": "f277ada2c2c41836",
   "outputs": [
    {
     "name": "stderr",
     "output_type": "stream",
     "text": [
      "Failed to send telemetry event ClientStartEvent: capture() takes 1 positional argument but 3 were given\n",
      "Failed to send telemetry event ClientCreateCollectionEvent: capture() takes 1 positional argument but 3 were given\n"
     ]
    },
    {
     "name": "stdout",
     "output_type": "stream",
     "text": [
      "Loading existing Chroma store\n"
     ]
    }
   ],
   "execution_count": 30
  },
  {
   "metadata": {
    "ExecuteTime": {
     "end_time": "2025-10-21T13:32:11.306024Z",
     "start_time": "2025-10-21T13:32:10.726615Z"
    }
   },
   "cell_type": "code",
   "source": [
    "retriever = vectorstore.as_retriever(search_kwargs={\"k\": 5})\n",
    "\n",
    "chunks = retriever.invoke(\"서울 온실가스 저감 계획\")\n",
    "\n",
    "for chunk in chunks:\n",
    "  print(chunk.metadata)\n",
    "  print(chunk.page_content)"
   ],
   "id": "161c6dbab0a2e08",
   "outputs": [
    {
     "name": "stdout",
     "output_type": "stream",
     "text": [
      "{'page': 63, 'source': '../data/2040_seoul_plan.pdf'}\n",
      "56제2장 미래상과 목표\n",
      "6. 미래위기를 준비하는, ‘탄소중립 안전도시 구축’1) 배경전(全) 지구적인 기후변화에 대응하기 위한 대도시 차원의 대응 필요Ÿ서울시 2017년 온실가스 배출량은 46,685천 톤CO2eq로 2005년 배출량에 비해 5.6%(276만 톤CO2eq) 감소하였으며, 서울의 1인당 온실가스 배출량은 4.7CO2eq로 국가의 13.8톤CO2eq에 비해 낮은 수준이다. 또한 2014년 기준 서울의 1인당 온실가스 배출량은 4.5CO2eq로 세계 주요 도시에 비해 낮은 수준을 보인다.7)\n",
      "[그림 2-26] 세계 주요 도시 1인당 온실가스 배출량   자료: World Bank, 2014Ÿ그럼에도 불구하고, 기후변화 문제는 21세기에 전 지구적으로 가장 위중한 영향을 미칠 것으로 예상되는바, 탄소중립과 기후위기 대응은 국제·국가·도시의 핵심 정책으로 다루어져야 한다.Ÿ파리협정(2015) 이후, 우리나라를 비롯한 미국, 유럽연합 등 세계 136개국이 탄소중립을 선언하였으며, 서울시를 비롯한 뉴욕, 런던 등과 같은 많은 글로벌 도시에서 탄소중립을 시정의 핵심과제로 추진 중이다.Ÿ우리나라는 2020년 ‘한국판 그린뉴딜’을 발표하며 공식적으로 2050 탄소중립을 선언하였으며 서울시 역시 2020년 ‘그린뉴딜 추진을 통한 2050 온실가스 감축 전략’을 발표하고 탄소중립 선언에 따른 부문별 사업을 적극 추진하고 있다.-서울시는 2050년 탄소중립을 목표로 2030년까지 2005년 배출량 대비 40%, 2040년까지 70% 감축목표를 제시하였고, 2022년 기후변화대응종합계획을 수립하여, 향후 5년간(’22~’26년) 2005년 대비 온실가스 30% 감축목표와 구체적인 실행계획을 수립하였음7) 황인창 외, 2020, 파리협정 이행 위한 서울시 ‘2050 탄소중립’ 전략, 서울연구원, pp.6-9.\n",
      "제3절 2040 서울도시기본계획 7대 목표57Ÿ특히, 서울시는 현재 온실가스 배출량의 90%를 차지하고 있는 건물과 수송 부문 감축을 위해 적극적인 대책을 마련하고 있다.-2026\n",
      "{'page': 64, 'source': '../data/2040_seoul_plan.pdf'}\n",
      "제3절 2040 서울도시기본계획 7대 목표57Ÿ특히, 서울시는 현재 온실가스 배출량의 90%를 차지하고 있는 건물과 수송 부문 감축을 위해 적극적인 대책을 마련하고 있다.-2026년까지 건물 에너지효율화사업 100만 호를 추진, 건물온실가스총량제, 신규건물 제로에너지 건물(ZEB) 의무화를 통해 기존 및 신규건물의 제로에너지화를 촉진-수송 부문 배출감축을 위해 전기차 비중을 2026년까지 10%(’21년 5.2만 대 → ’26년 40만 대)로 확대하고, 22만기의 충전 인프라 구축을 계획 중(’21년 2만기) 시민 생활과 안전을 위한 기후위기 대응 요구 심화Ÿ서울은 인구, 시설 등이 밀집해 있는 대도시로 기온 상승, 폭염, 집중호우, 태풍, 한파 등 극한 기후 현상이 더욱 빈번하게 발생할 것으로 전망된다. 이러한 기후위험은 서울시민의 일상생활과 안전을 크게 위협할 수 있다. 따라서 시민의 일상을 보호하고 도시의 회복력을 강화하기 위한 적극적인 기후위기 대응 전략이 필요하다.Ÿ특히 다양화·복합화되는 재난안전사고에 대응해 전통적인 자연·사회재난의 범주뿐 아니라, 신종 복합재난까지 대비할 수 있는 다면적인 대응체계 마련이 요구된다.2) 추진전략탄소중립·기후위기 적응대책은 시의 모든 정책과 사업의 주요 원칙으로 고려Ÿ탄소중립은 돌이키기 어려운 기후재난을 막기 위한 국제사회와의 약속이기에 시의 모든 정책과 사업의 결정 과정에서 주요하게 고려해야 할 포괄적 ‘원칙’으로 확립되어야 한다.-서울시는 온실가스 감축 방안을 모든 예산사업에 고려·반영하기 위해 2021년부터 기후예산제 시범사업을 진행 중Ÿ모든 실·국·본부와 관련 이해 당사자들은 이러한 원칙과 기본 방향에 적극적으로 참여할 필요가 있으며 기후변화로 인한 폭염, 홍수, 가뭄 등과 같은 기상재해는 향후 지속적으로 발생할 가능성이 높아, 정책 수립 시 주요하게 고려한다.장기적·구조적 전환을 위해 도시계획 단계에서의 탄소중립·기후위기 적응대책 반영Ÿ탄소중립 및 기후위기 대책을 개별 사업 단위로 마련해 왔으나, 앞으로는\n",
      "수립 시 주요하게 고려한다.장기적·구조적 전환을 위해 도시계획 단계에서의 탄소중립·기후위기 적응대책 반영Ÿ탄소중립 및 기후위기 대책을 개별 사업 단위로 마련해 왔으나, 앞으로는 도\n",
      "{'page': 45, 'source': '../data/2040_seoul_plan.pdf'}\n",
      "기후변화에 대응하기 위한 온실가스 적극 감축 및 녹색 인프라 확충 등을 강조하고 있다.Ÿ2040 서울도시기본계획의 부문별 전략계획과 공간계획에서는 서울의 글로벌 경쟁력 강화, 광역화에 따른 수도권 내 교통, 산업 등 네트워크 연계 강화, 기후위기에 대응하기 위한 지속가능한 서울로의 전환 등 수도권정비기본계획의 주요 내용을 적극적으로 반영하여 수립하였다.\n",
      "제1절 서울의 변화진단393) 2040 수도권 광역도시계획(수립 중)매력적이고 살기 좋은, 국제경쟁력을 갖춘, 상생·통합의 수도권을 강조Ÿ수도권 광역도시계획은 「국토의 계획 및 이\n",
      "{'page': 187, 'source': '../data/2040_seoul_plan.pdf'}\n",
      "180제6장 계획의 실현\n",
      "부문지표명지표의 통계명내용 및 산정식출처목표치 및 관리방향\n",
      "기후·환경\n",
      "탄소중립온실가스 배출량건물·수송·폐기물 처리 등에 따른 서울의 온실가스 배출량서울시 내부자료(기후환경정책과)2005년 대비 70% 감축대기질개선초미세먼지 농도*서울시 대기 중 2.5㎛보다 작은 초미세먼지의 농도서울특별시 대기환경정보10㎍/㎥(2040)신재생에너지신재생에너지 보급률*서울시 총 에너지보급량 중 신·재생에너지 보급 비율한국에너지공단21%(2030)탄소배출감축건물 에너지 효율화 사업 수에너지다소비건물, 공공건물, 상업건물, 주택 등에 대한 건물에너지효율화 사업 개소수(누적) 서울시 내부자료(친환경건물과)100만 호(2026)자원순환인구당 생활폐기물 발생량(매립률)서울시민 1인당 하루 평균 생활폐기물 배출량(서울 하루 평균 생활폐기물 배출량/인구 수)과 생활폐기물 중 매립되는 비율 서울통계0.86㎏/인/일(2027)물순환물재이용량*빗물, 중수도시설, 하수처리수로 대체하여 이용한 물의 양서울시 내부자료(수변감성도시과)증가녹지환경만족녹지환경만족도시민이 현재 거주하는 지역의 녹지환경(공원, 숲 등)에 대하여 만족하는 정도서울서베이증가공원확충1인당 공원면적*공원 면적(도시자연공원구역+도시계획시설 공원+국립공원)/인구수서울시 공원통계증가수변공간활성화한강공원 이용객수산책, 낚시, 자전거, 인라인, 운동·수상시설, 수영장, 행사 등을 위하여 한강공원을 이용한 이용객 수서울시 통계정보시스템증가\n",
      "안전·방재\n",
      "안전·방재\n",
      "자연재난자연재난 피해액(이재민 수)자연재난에 따른 피해액과 이재민 수 행정안전부 재해연보감소사회재난사회재난 사고건수(사망자 수)*사회재난(화재, 붕괴, 폭발, 철도, 가\n",
      "{'page': 85, 'source': '../data/2040_seoul_plan.pdf'}\n",
      "[표 3-5] 기후·환경 부문별 전략계획\n",
      "제4절 기후·환경 부문792. 세부추진 방안3-1 2050 탄소중립을 실현을 위한 도시 인프라 전환3-1-1 건물 부문의 탄소배출을 감축하기 위한 친환경 기술 개발 및 적극 적용Ÿ\n"
     ]
    }
   ],
   "execution_count": 31
  },
  {
   "metadata": {
    "ExecuteTime": {
     "end_time": "2025-10-21T13:32:12.417873Z",
     "start_time": "2025-10-21T13:32:11.339645Z"
    }
   },
   "cell_type": "code",
   "source": [
    "from langchain_openai import ChatOpenAI\n",
    "\n",
    "llm = ChatOpenAI(model=\"gpt-4o-mini\")\n",
    "llm.invoke('안녕하세요!')"
   ],
   "id": "17b056951205a2f6",
   "outputs": [
    {
     "data": {
      "text/plain": [
       "AIMessage(content='안녕하세요! 어떻게 도와드릴까요?', additional_kwargs={'refusal': None}, response_metadata={'token_usage': {'completion_tokens': 10, 'prompt_tokens': 10, 'total_tokens': 20, 'completion_tokens_details': {'accepted_prediction_tokens': 0, 'audio_tokens': 0, 'reasoning_tokens': 0, 'rejected_prediction_tokens': 0}, 'prompt_tokens_details': {'audio_tokens': 0, 'cached_tokens': 0}}, 'model_name': 'gpt-4o-mini-2024-07-18', 'system_fingerprint': 'fp_560af6e559', 'finish_reason': 'stop', 'logprobs': None}, id='run--d2c7e449-93dc-467c-9ef6-b51fcbff8428-0', usage_metadata={'input_tokens': 10, 'output_tokens': 10, 'total_tokens': 20, 'input_token_details': {'audio': 0, 'cache_read': 0}, 'output_token_details': {'audio': 0, 'reasoning': 0}})"
      ]
     },
     "execution_count": 32,
     "metadata": {},
     "output_type": "execute_result"
    }
   ],
   "execution_count": 32
  },
  {
   "metadata": {
    "ExecuteTime": {
     "end_time": "2025-10-21T13:32:12.460640Z",
     "start_time": "2025-10-21T13:32:12.458141Z"
    }
   },
   "cell_type": "code",
   "source": [
    "from langchain_core.prompts import ChatPromptTemplate\n",
    "from typing import Literal\n",
    "from pydantic import BaseModel, Field\n",
    "\n",
    "\n",
    "class RouteQuery(BaseModel):\n",
    "  \"\"\"사용자 쿼리를 가장 관련성이 높은 데이터 소스로 라우팅한다.\"\"\"\n",
    "\n",
    "  datasource: Literal[\"vectorstore\", \"casual_talk\"] = Field(\n",
    "      ...,\n",
    "      description=\"\"\"\n",
    "      사용자 질문에 따라 casual_talk 또는 vectorstore로 라우팅한다.\n",
    "      - casual_talk: 일상 대화를 위한 데이터 소스. 사용자가 일상적인 질문을 할 때 사용한다\n",
    "      - vectorstore: 사용자 질문에 답하기 위해 RAG로 vectorstore 검색이 필요한 경우 사용한다.\n",
    "      \"\"\"\n",
    "  )"
   ],
   "id": "5ee4198dcca60f96",
   "outputs": [],
   "execution_count": 33
  },
  {
   "metadata": {
    "ExecuteTime": {
     "end_time": "2025-10-21T13:32:12.467115Z",
     "start_time": "2025-10-21T13:32:12.464284Z"
    }
   },
   "cell_type": "code",
   "source": [
    "structured_llm_router = llm.with_structured_output(RouteQuery)\n",
    "\n",
    "router_system = \"\"\"\n",
    "당신은 사용자의 질문을 vectorstore 또는 casual_talk으로 라우팅하는 전문가이다.\n",
    "- vectorstore에는 서울, 뉴욕의 발전계획과 관련된 문서가 포함되어 있다. 이 주제에 대한 질문에는 vectorstore를 사용하라.\n",
    "- 사용자의 질문이 일상 대화에 관련된 경우 casual_talk을 사용하라.\n",
    "\"\"\"\n",
    "\n",
    "route_prompt = ChatPromptTemplate.from_messages([\n",
    "  (\"system\", router_system),\n",
    "  (\"human\", \"{question}\"),\n",
    "])\n",
    "\n",
    "question_router = route_prompt | structured_llm_router"
   ],
   "id": "4d18d3713f87c93a",
   "outputs": [],
   "execution_count": 34
  },
  {
   "metadata": {
    "ExecuteTime": {
     "end_time": "2025-10-21T13:32:15.683234Z",
     "start_time": "2025-10-21T13:32:12.471609Z"
    }
   },
   "cell_type": "code",
   "source": [
    "print(\n",
    "    question_router.invoke({\n",
    "      \"question\": \"서울 온실가스 저감 계획은 무엇인가요?\"\n",
    "    })\n",
    ")\n",
    "\n",
    "print(question_router.invoke({\"question\": \"소리 지르는\"}))"
   ],
   "id": "4c870fb4fb62918e",
   "outputs": [
    {
     "name": "stdout",
     "output_type": "stream",
     "text": [
      "datasource='vectorstore'\n",
      "datasource='casual_talk'\n"
     ]
    }
   ],
   "execution_count": 35
  },
  {
   "metadata": {
    "ExecuteTime": {
     "end_time": "2025-10-21T13:32:15.709805Z",
     "start_time": "2025-10-21T13:32:15.706647Z"
    }
   },
   "cell_type": "code",
   "source": [
    "from langchain_core.prompts import PromptTemplate\n",
    "\n",
    "\n",
    "class GradeDocuments(BaseModel):\n",
    "  \"\"\"검색된 문서가 질문과 관련성 있는지 yes 또는 no로 평가한다.\"\"\"\n",
    "\n",
    "  binary_score: Literal[\"yes\", \"no\",] = Field(\n",
    "      description=\"문서가 질문과 관련이 있는지 여부를 'yes' 또는 'no'로 평가한다.\"\n",
    "  )\n",
    "\n",
    "\n",
    "structured_llm_grader = llm.with_structured_output(GradeDocuments)"
   ],
   "id": "361a5eb023f240b2",
   "outputs": [],
   "execution_count": 36
  },
  {
   "metadata": {
    "ExecuteTime": {
     "end_time": "2025-10-21T13:32:16.212630Z",
     "start_time": "2025-10-21T13:32:15.714691Z"
    }
   },
   "cell_type": "code",
   "source": [
    "grader_prompt = PromptTemplate.from_template(\"\"\"\n",
    "당신은 검색된 문서가 사용자 질문과 관련이 있는지 평가하는 평가자입니다. \\n\n",
    "문서에 사용자 질문과 관련된 키워드 또는 의미가 포함되어 있으면, 해당 문서를 관련성이 있다고 평가하십시오. \\n\n",
    "엄격한 테스트가 필요하지 않습니다. 목표는 잘못된 검색 결과를 걸러내는 것입니다. \\n\n",
    "문서가 질문과 관련이 있는지 여부를 나타내기 위해 'yes' 또는 'no'로 이진 점수를 부여하십시오.\n",
    "\n",
    "Retrieved document: \\n {document} \\n\\n\n",
    "User question: {question}\n",
    "\"\"\")\n",
    "\n",
    "retrieval_grader = grader_prompt | structured_llm_grader\n",
    "question = \"서울시 자율주행 관련 계획\"\n",
    "documents = retriever.invoke(question)\n",
    "\n",
    "for doc in documents:\n",
    "  print(doc)"
   ],
   "id": "a51fcba1a8de4eaa",
   "outputs": [
    {
     "name": "stdout",
     "output_type": "stream",
     "text": [
      "page_content='36제2장 미래상과 목표\n",
      "6) 미래교통수단의 등장과 첨단 인프라 요구 증대자율주행, UAM 등 미래 교통에 공간적 대응방안 마련 필요Ÿ자율주행차량, 전동킥보드 등 교통 기술의 발전에 따라 새로운 교통환경이 조성되고 있음에도 불구하고, 이에 대한 정착 가이드라인이 없어, 위험한 교통 사고가 유발되고 있다.-최근 3년간 서울시에서 발생한 전동킥보드 관련 사고 대다수는 전동 킥보드와 차량 간 충돌 사고Ÿ안전하고 효율적인 기존-신규 교통수단의 조화를 도모하고, 이와 함께 발생할 도시공간구조 변화에 대비하기 위해 통합적인 교통수단 정착 가이드라인이 필요하다.7) 시가지 공간의 포화, 개발가용지의 부족새로운 도시공간에 대한 수요 대응과 성장동력 확보 한계Ÿ서울의 녹지지역을 제외한 대부분의 개발가용지는 고갈된 상태이며, 남은 공간은 주택공급을 위주로 개발하고 있다.-서울시에서 개발제한구역 25%를 제외하면 65%에 해당하는 시가화면적 366㎢ 중 미개발지는 거의 없는 상태Ÿ외연적 팽창이 아닌, 선택과 집중을 통한 콤팩트 시티로의 공간구조 재편을 지향하고 복합 개발을 통해 약해진 도시경쟁력 강화가 필요한 시점이다.8) 늙어가는 서울, 도시 정비의 정체에 따른 환경 악화정비사업 추진동력 저하, 쾌적한 도시환경에 대한 요구 증대Ÿ2038년 서울시 기반시설 노후화 비율은 2018년 대비 2.7배 급증, 1960~70년대 집중 조성된 기반시설의 노후화에 따른 시설 안전성 확보가 필요하다.-2040년, 서울 전체 주택 중 노후 물량 50%로 추정Ÿ때문에, 쾌적한 도시환경 구축을 위해서는 노후 기반시설로 인한 안전성 검토와 개선비용 증가에 따른 선제적인 대응이 필요하다.\n",
      "[그림 2-19] 서울시 전동킥보드 사고 추이자료: 서울시 소방재난본부\n",
      "제1절 서울의 변화진단379) 경직된 서울, 도시계획 규제 완화에 대한 요구 증대지역특성과 미래변화를 고려한 유연한 도시계획 요구Ÿ과도한 도시계획 규제로 인해, 미래 융복합 시대에' metadata={'page': 43, 'source': '../data/2040_seoul_plan.pdf'}\n",
      "page_content='54제2장 미래상과 목표\n",
      "5. 기술발전에 선제적 대응, ‘미래교통 인프라 구축’1) 배경미래교통수단 도입에 따른 도시 활동 변화 및 공간구조 재편 대비Ÿ빠르게 진화하는 미래 신 교통수단은 도시공간에 새로운 변화를 일으킬 것이며, 도시 내 이동패턴의 변화를 가져올 것으로 예측된다. 이러한 점을 고려하여 도시 내 다양한 통행행태가 공존하는 포용적인 교통체계 구축을 준비해야 한다.미래교통수단 정착을 위한 도시 인프라 확충지원 필요Ÿ기존에 없던 새로운 교통은 통상 인프라 구축에 많은 시간이 소요되기 때문에 교통수단이 도입된 이후에 준비하기보다는 개발단계에서부터 이를 지원하기 위한 교통인프라 구축 구상이 요구되며, 새로운 도시 인프라 확충에 대한 도시계획적 지원이 필요하다.2) 추진전략자율주행 자동차 본격 운영 체계 구축Ÿ자율주행은 현재 제일 가시화되고 있는 미래 교통기술로 시장의 주도권을 확보하기 위해 각국의 노력이 집중되고 있다. 단계적으로 2030년까지 간선도로급 이상 도로에서 운영할 수 있는 도로 인프라 환경을 조성하고, 2040년까지 서울 전역 자율주행 운행 환경 구축을 목표로 한다.-2040년까지 서울 전역 자율주행차량의 운행 환경을 구축하고 수송 분담률 10%를 달성서울형 도심 항공교통 기반 마련 및 터미널 확충Ÿ도심에서 김포공항까지 시범노선을 운영하는 등 상용화 노선을 확보하고, 장기적으로 한강, 지천 등 주요 수변 공간 중심으로 광역노선을 확보한다. 또한 UAM 인프라 확보를 위한 인센티브 및 도시계획적인 지원 방안도 함께 검토한다.-UAM 시범노선을 운영하고, 한강 등 주요 수변 공간 중심에 단계적 광역노선을 확장서울 전역에 모빌리티 허브 구축Ÿ도심 및 광역거점에 서울 내부와 외부의 연계를 위한 미래 교통과 기존 교통을 연결하는 시설을 도입한다. 또한 교통뿐 아니라 공공서비스, 물류, 상업 등 다양한 기능들이 복합적으로 제공되는 지역 거점 모빌리티 허브를 서울 전역에 도입한다.\n",
      "제3절 2040 서울도시기본계획 7대 목표55공중, 지상, 지하 등 다차원 신(新) 물류네트워크 구축Ÿ도심 내 물류 수요가 급격히 증가할 것에 대비하여, 공중 활용을 위한 드론 배' metadata={'page': 61, 'source': '../data/2040_seoul_plan.pdf'}\n",
      "page_content='제1절 서울의 변화진단353) 반복되는 팬데믹에 도시공간적 대응상수화되는 팬데믹, 회복탄력적 도시에 대한 관심 고조Ÿ2019년 발생한 코로나19에 의한 팬데믹은 서울시민의 일상생활을 마비시켰고 강제적인 거리두기 정책으로 경제위기가 심각해졌다.Ÿ전염병에 의한 팬데믹은 지속적으로 발생할 것으로 예측되고 있으며 이에 선제적인 예방 체계와 즉각적 대응을 위한 기반시설 구축이 필요하다.-물리적 기반의 기능 보완, 방역·방재 관련 시설 확충 등4) 기후위기에 대응하기 위한 지속가능한 도시 구축기후변화로 발생하는 자연재해로부터 안전한 도시 구축 필요Ÿ현재의 도시는 온실가스 증가로 인한 지표면·해수면 온도 상승으로 폭염, 한파 등 기후변화의 불확실성과 위험이 증가하고 있다.Ÿ때문에, 전 세계적으로 기후위기에 대응하기 위한 지속가능한 도시 구축의 필요성이 대두되고 있다.Ÿ서울시 온실가스 배출현황에 따르면, 상업과 가정 그리고 수송에서의 배출량이 약 84.1%에 달하고 있으며, 탄소중립 달성을 위해서는 도시계획적 대응이 필요한 실정이다.5) 심화되는 글로벌 경쟁심화되는 글로벌 도시 경쟁, 약화되는 수위도시 서울의 경쟁력Ÿ현재의 도시들은 기술의 발전과 글로벌화에 맞물려 규모와 상관없이 전 세계 도시들을 상대로 경쟁을 하는 글로벌 경쟁 속에서 도시 브랜딩을 통한 평판 제고를 도모하고 있다.Ÿ하지만, 지난 10년간 서울은 글로벌 파워도시, 세계도시경쟁력 지표 등에서 경제 영역의 순위가 낮아졌고 삶의 질 부문의 평가 역시 더 나아지지 않고 정체 중인 상황이다.Ÿ심화되는 글로벌 도시경쟁에 대응하여 서울의 미래 경쟁력을 확보하기 위해 지속가능한 산업 정책과 도시공간구조의 개편이 필요하다.\n",
      "[그림 2-18] 서울시 온실가스 배출현황자료: 서울시 온실가스 인벤토리 부분별 현황, 서울열린데이터광장\n",
      "36제2장 미래상과 목표\n",
      "6) 미래교통수단의 등장과 첨단 인프라 요구 증대자율주행, UAM 등 미래 교통에 공간적 대응방안 마련 필요Ÿ자율주행차량, 전동킥보드 등 교통 기술의 발전' metadata={'page': 42, 'source': '../data/2040_seoul_plan.pdf'}\n",
      "page_content='90제3장 부문별 전략계획\n",
      "5-1 미래교통수단과 융합을 위한 선제적 교통환경 구축5-1-1 신 교통수단·기술발전 등 미래 환경 변화에 대비한 인프라 구축·정비ŸUAM·전기차·자율주행차 등 미래교통수단의 상용' metadata={'page': 97, 'source': '../data/2040_seoul_plan.pdf'}\n",
      "page_content='146제5장 생활권계획\n",
      "신규 역세권을 중심으로 새로운 중심지 육성Ÿ강북횡단선 등 도시철도망 구축계획에 따른 신규 역세권을 중심으로 지역 특성을 고려한 새로운 중심지를 육성하고, 도로·교통시설을 재구축하여 도시기능을 강화한다.2) 주거환경서울도심의 정주성 강화를 위한 다양한 주거유형의 공급 추진Ÿ서울도심의 인구 증가와 지역 활성화에 기여하도록 다양한 유형의 도심형 주거를 개발·도입하며 편리한 주거환경을 조성한다.-정비사업과 연계하여 주거 공급 촉진 방안을 마련하고 거주 계층의 다양화·혼합화를 지향-누구에게나 편리한 주거환경을 조성할 수 있도록 외국인, 고령자, 1·2인 가구 등 인구 및 가구특성을 고려한 공공의료와 문화·복지 인프라의 확충 방안을 마련Ÿ도시정비형 재개발사업을 추진하면서 주거 및 복합기능을 도입할 경우 도시계획적 지원과 함께 기반시설 설치 등 지원을 검토한다.서울도심의 노후 주거환경 개선을 위한 공공 지원 강화 및 규제 완화Ÿ서울도심 내 노후 저층 주거지에 대한 도시관리계획 수립 시 도로, 공원, 주차장 등 지역에 필요한 기반시설 확보를 위한 계획을 마련하고 공공사업과 연계를 검토하여 지역 내 주거환경 개선을 도모한다.-소규모 주택정비사업 추진 시 신속하고 원활한 사업 추진을 위해 사업 절차 간소화를 지원하고 규제 완화 및 인센티브 신규 도입을 검토서울도심 주거지의 역사적 특성 보전과 지역특성을 고려한 기능 강화Ÿ한옥밀집지역, 한양도성, 궁궐 등 역사문화재 주변 주거지의 특성을 보전할 수 있는 정비방식과 함께 자율적인 주거지 관리를 위한 다양한 프로그램을 마련한다.-대통령실 이전에 따른 주변 지역 상권 활성화 및 주거환경 개선을 위한 계획 추진3) 기반시설경부선 철도 지하화 및 상부 공원 조성으로 지역 간 단절 해소Ÿ경부선 철도 입체화를 검토하여 지상부에 공원을 조성하고 용산공원과 연결하여 동서 간 단절을 극복한다.\n",
      "제3절 권역별 구상147보행 중심 교통체계 전환을 위한 친환경 교통 인프라 구축 및 제도 개선 Ÿ주차상한제 강화, 공해 차량 통행 제한 확대, 탄력적인 주차요금제 적용 등으로 도심' metadata={'page': 153, 'source': '../data/2040_seoul_plan.pdf'}\n"
     ]
    }
   ],
   "execution_count": 37
  },
  {
   "metadata": {
    "ExecuteTime": {
     "end_time": "2025-10-21T13:32:33.916041Z",
     "start_time": "2025-10-21T13:32:16.238650Z"
    }
   },
   "cell_type": "code",
   "source": [
    "filtered_docs = []\n",
    "\n",
    "for i, doc in enumerate(documents):\n",
    "  print(f\"Document {i + 1}:\")\n",
    "  is_relevant = retrieval_grader.invoke({\"question\": question, \"document\": doc.page_content})\n",
    "  print(is_relevant)\n",
    "  print(doc.page_content[:200])\n",
    "  print(\"=========================\\n\\n\")\n",
    "\n",
    "  if is_relevant.binary_score == \"yes\":\n",
    "    filtered_docs.append(doc)\n",
    "\n",
    "print(f\"Filtered documents: {len(filtered_docs)}\")"
   ],
   "id": "4c26bae40896dbf",
   "outputs": [
    {
     "name": "stdout",
     "output_type": "stream",
     "text": [
      "Document 1:\n",
      "binary_score='yes'\n",
      "36제2장 미래상과 목표\n",
      "6) 미래교통수단의 등장과 첨단 인프라 요구 증대자율주행, UAM 등 미래 교통에 공간적 대응방안 마련 필요Ÿ자율주행차량, 전동킥보드 등 교통 기술의 발전에 따라 새로운 교통환경이 조성되고 있음에도 불구하고, 이에 대한 정착 가이드라인이 없어, 위험한 교통 사고가 유발되고 있다.-최근 3년간 서울시에서 발생한 전동킥보드 관련 사고 \n",
      "=========================\n",
      "\n",
      "\n",
      "Document 2:\n",
      "binary_score='yes'\n",
      "54제2장 미래상과 목표\n",
      "5. 기술발전에 선제적 대응, ‘미래교통 인프라 구축’1) 배경미래교통수단 도입에 따른 도시 활동 변화 및 공간구조 재편 대비Ÿ빠르게 진화하는 미래 신 교통수단은 도시공간에 새로운 변화를 일으킬 것이며, 도시 내 이동패턴의 변화를 가져올 것으로 예측된다. 이러한 점을 고려하여 도시 내 다양한 통행행태가 공존하는 포용적인 교통체계 구\n",
      "=========================\n",
      "\n",
      "\n",
      "Document 3:\n",
      "binary_score='yes'\n",
      "제1절 서울의 변화진단353) 반복되는 팬데믹에 도시공간적 대응상수화되는 팬데믹, 회복탄력적 도시에 대한 관심 고조Ÿ2019년 발생한 코로나19에 의한 팬데믹은 서울시민의 일상생활을 마비시켰고 강제적인 거리두기 정책으로 경제위기가 심각해졌다.Ÿ전염병에 의한 팬데믹은 지속적으로 발생할 것으로 예측되고 있으며 이에 선제적인 예방 체계와 즉각적 대응을 위한 기반\n",
      "=========================\n",
      "\n",
      "\n",
      "Document 4:\n",
      "binary_score='yes'\n",
      "90제3장 부문별 전략계획\n",
      "5-1 미래교통수단과 융합을 위한 선제적 교통환경 구축5-1-1 신 교통수단·기술발전 등 미래 환경 변화에 대비한 인프라 구축·정비ŸUAM·전기차·자율주행차 등 미래교통수단의 상용\n",
      "=========================\n",
      "\n",
      "\n",
      "Document 5:\n",
      "binary_score='no'\n",
      "146제5장 생활권계획\n",
      "신규 역세권을 중심으로 새로운 중심지 육성Ÿ강북횡단선 등 도시철도망 구축계획에 따른 신규 역세권을 중심으로 지역 특성을 고려한 새로운 중심지를 육성하고, 도로·교통시설을 재구축하여 도시기능을 강화한다.2) 주거환경서울도심의 정주성 강화를 위한 다양한 주거유형의 공급 추진Ÿ서울도심의 인구 증가와 지역 활성화에 기여하도록 다양한 유형의 \n",
      "=========================\n",
      "\n",
      "\n",
      "Filtered documents: 4\n"
     ]
    }
   ],
   "execution_count": 38
  },
  {
   "metadata": {
    "ExecuteTime": {
     "end_time": "2025-10-21T13:32:38.444245Z",
     "start_time": "2025-10-21T13:32:33.932882Z"
    }
   },
   "cell_type": "code",
   "source": [
    "rag_generate_system = \"\"\"\n",
    "너는 사용자의 질문에 대해 주어진 context에 기반하여 답변하는 도시 계획 전문가이다.\n",
    "주어진 context는 vectorstore에서 검색된 결과이다.\n",
    "주어진 context를 기반으로 사용자의 question에 대해 답변하라\n",
    "\n",
    "========================\n",
    "question: {question}\n",
    "context: {context}\n",
    "\"\"\"\n",
    "\n",
    "rag_prompt = PromptTemplate(\n",
    "    input_variables=[\"question\", \"context\"],\n",
    "    template=rag_generate_system\n",
    ")\n",
    "\n",
    "rag_chain = rag_prompt | llm\n",
    "\n",
    "question = \"서울시 자율주행 관련 계획\"\n",
    "\n",
    "rag_chain.invoke({\"question\": question, \"context\": filtered_docs})"
   ],
   "id": "1a34c46b2d6a6b20",
   "outputs": [
    {
     "data": {
      "text/plain": [
       "AIMessage(content='서울시는 자율주행 관련 계획을 통해 2030년까지 간선도로급 이상의 도로에서 자율주행 자동차가 운영될 수 있는 인프라 환경을 조성하고, 2040년까지 서울 전역에서 자율주행차량의 운행 환경을 구축할 목표를 세우고 있습니다. 이 계획의 일환으로, 자율주행차량의 수송 분담률을 10%로 달성하는 것을 목표로 하고 있습니다.\\n\\n또한, 서울은 도심 항공교통(UAM) 기반을 마련하고, 주요 수변 공간 중심으로 광역노선을 확장하며, 모빌리티 허브를 도입하여 다양한 기능을 복합적으로 제공하는 지역 거점을 구축할 계획입니다. 이러한 조치들은 서울의 미래 교통 환경을 보다 안전하고 효율적으로 만들기 위한 통합적인 교통수단 정착 가이드라인의 일환으로 추진되고 있습니다.', additional_kwargs={'refusal': None}, response_metadata={'token_usage': {'completion_tokens': 203, 'prompt_tokens': 2064, 'total_tokens': 2267, 'completion_tokens_details': {'accepted_prediction_tokens': 0, 'audio_tokens': 0, 'reasoning_tokens': 0, 'rejected_prediction_tokens': 0}, 'prompt_tokens_details': {'audio_tokens': 0, 'cached_tokens': 0}}, 'model_name': 'gpt-4o-mini-2024-07-18', 'system_fingerprint': 'fp_560af6e559', 'finish_reason': 'stop', 'logprobs': None}, id='run--4bf5880d-6e29-41fd-b80e-7b5b591c40bd-0', usage_metadata={'input_tokens': 2064, 'output_tokens': 203, 'total_tokens': 2267, 'input_token_details': {'audio': 0, 'cache_read': 0}, 'output_token_details': {'audio': 0, 'reasoning': 0}})"
      ]
     },
     "execution_count": 39,
     "metadata": {},
     "output_type": "execute_result"
    }
   ],
   "execution_count": 39
  },
  {
   "metadata": {
    "ExecuteTime": {
     "end_time": "2025-10-21T13:32:38.476212Z",
     "start_time": "2025-10-21T13:32:38.474335Z"
    }
   },
   "cell_type": "code",
   "source": [
    "from typing import List\n",
    "from typing_extensions import TypedDict\n",
    "\n",
    "class GraphState(TypedDict):\n",
    "  question: str\n",
    "  generation: str\n",
    "  documents: List[str]"
   ],
   "id": "fca908e75402e2de",
   "outputs": [],
   "execution_count": 40
  },
  {
   "metadata": {
    "ExecuteTime": {
     "end_time": "2025-10-21T13:32:38.496514Z",
     "start_time": "2025-10-21T13:32:38.494393Z"
    }
   },
   "cell_type": "code",
   "source": [
    "def route_question(state):\n",
    "  \"\"\"\n",
    "  사용자 질문을 vectorstore 또는 casual_talk로 라우팅 한다.\n",
    "\n",
    "  Args:\n",
    "    state (dict): 현재 graph state\n",
    "\n",
    "  return:\n",
    "    state (dict): 라우팅된 데이터 소스와 사용자 질문을 포함하는 새로운 graph state\n",
    "  \"\"\"\n",
    "  print('--------ROUTE---------')\n",
    "  question = state['question']\n",
    "  route = question_router.invoke({\"question\": question})\n",
    "\n",
    "  print(f\"---Routing to {route.datasource}----\")\n",
    "  return route.datasource"
   ],
   "id": "d325ee749eac7b35",
   "outputs": [],
   "execution_count": 41
  },
  {
   "metadata": {
    "ExecuteTime": {
     "end_time": "2025-10-21T13:32:38.504012Z",
     "start_time": "2025-10-21T13:32:38.502413Z"
    }
   },
   "cell_type": "code",
   "source": [
    "def retrieve(state):\n",
    "  \"\"\"\n",
    "  vectorstore에서 질문에 대한 문서를 검색한다.\n",
    "\n",
    "  Args:\n",
    "    state (dict): 현재 graph state\n",
    "\n",
    "  return:\n",
    "    state (dict): 검색된 문서와 사용자 질문을 포함하는 새로운 graph state\n",
    "  \"\"\"\n",
    "  print('---RETRIEVE----')\n",
    "  question = state['question']\n",
    "\n",
    "  documents = retriever.invoke(question)\n",
    "  return {\"documents\": documents, \"question\": question}"
   ],
   "id": "39729e456a5bb3f5",
   "outputs": [],
   "execution_count": 42
  },
  {
   "metadata": {
    "ExecuteTime": {
     "end_time": "2025-10-21T13:32:38.508090Z",
     "start_time": "2025-10-21T13:32:38.506338Z"
    }
   },
   "cell_type": "code",
   "source": [
    "def grade_documents(state):\n",
    "  \"\"\"\n",
    "  검색된 문서를 평가하여 질문과 관련성이 있는지 확인한다.\n",
    "\n",
    "  Args:\n",
    "    state (dict): 현재 graph state\n",
    "  return:\n",
    "    state (dict): 관련성이 있는 문서와 사용자 질문을 포함하는 새로운 graph state\n",
    "  \"\"\"\n",
    "  print('---GRADE---')\n",
    "  question = state['question']\n",
    "  documents = state['documents']\n",
    "  filtered_docs = []\n",
    "\n",
    "  for i, doc in enumerate(documents):\n",
    "    is_relevant = retrieval_grader.invoke({\"question\": question, \"document\": doc.page_content})\n",
    "    if is_relevant.binary_score == \"yes\":\n",
    "      filtered_docs.append(doc)\n",
    "  return {\"documents\": filtered_docs, \"question\": question}"
   ],
   "id": "e775b32f9573dd08",
   "outputs": [],
   "execution_count": 43
  },
  {
   "metadata": {
    "ExecuteTime": {
     "end_time": "2025-10-21T13:32:38.511833Z",
     "start_time": "2025-10-21T13:32:38.510245Z"
    }
   },
   "cell_type": "code",
   "source": [
    "def generate(state):\n",
    "  \"\"\"\n",
    "  LLM을 사용하여 문서와 사용자 질문에 대한 답변을 생성한다.\n",
    "\n",
    "  Args:\n",
    "    state (dict): 현재 graph state\n",
    "  return:\n",
    "    state (dict): LLM 생성 결과와 사용자 질문을 포함하는 새로운 graph state\n",
    "  \"\"\"\n",
    "  print('---GENERATE---')\n",
    "  question = state['question']\n",
    "  documents = state['documents']\n",
    "  generation = rag_chain.invoke({\"question\": question, \"context\": documents})\n",
    "  return {\n",
    "    \"documents\": documents,\n",
    "    \"question\": question,\n",
    "    \"generation\": generation\n",
    "  }"
   ],
   "id": "c16381425d6dca2b",
   "outputs": [],
   "execution_count": 44
  },
  {
   "metadata": {
    "ExecuteTime": {
     "end_time": "2025-10-21T13:32:38.519305Z",
     "start_time": "2025-10-21T13:32:38.517635Z"
    }
   },
   "cell_type": "code",
   "source": [
    "def casual_talk(state):\n",
    "  \"\"\"\n",
    "  질문에 떠오르는 노래 한소절로 답변합니다.\n",
    "\n",
    "  Args:\n",
    "      state (dict): 현재 graph state\n",
    "  return:\n",
    "      state (dict): 질문에 떠오르는 노래 한소절과 사용자 질문을 포함하는 새로운 graph state\n",
    "  \"\"\"\n",
    "  print('---CASUAL TALK---')\n",
    "  question = state['question']\n",
    "  prompt = PromptTemplate.from_template(\n",
    "    \"\"\"\n",
    "    {question}에 대한 떠오르는 노래 한소절을 답변한다.\n",
    "    \"\"\"\n",
    "  )\n",
    "  casual_chain = prompt | llm\n",
    "  generation = casual_chain.invoke({\"question\": question})\n",
    "  return {\n",
    "    \"question\": question,\n",
    "    \"generation\": generation\n",
    "  }"
   ],
   "id": "9ada4be399053526",
   "outputs": [],
   "execution_count": 45
  },
  {
   "metadata": {
    "ExecuteTime": {
     "end_time": "2025-10-21T13:32:38.522995Z",
     "start_time": "2025-10-21T13:32:38.521732Z"
    }
   },
   "cell_type": "code",
   "source": [
    "from langgraph.graph import START, StateGraph, END\n",
    "\n",
    "workflow = StateGraph(GraphState)"
   ],
   "id": "e1ca89cddde90bf1",
   "outputs": [],
   "execution_count": 46
  },
  {
   "metadata": {
    "ExecuteTime": {
     "end_time": "2025-10-21T13:32:38.528349Z",
     "start_time": "2025-10-21T13:32:38.526410Z"
    }
   },
   "cell_type": "code",
   "source": [
    "workflow.add_node(\"retrieve\", retrieve)\n",
    "workflow.add_node(\"grade_documents\", grade_documents)\n",
    "workflow.add_node(\"generate\", generate)\n",
    "workflow.add_node(\"casual_talk\", casual_talk)"
   ],
   "id": "178047c40f99d1d2",
   "outputs": [
    {
     "data": {
      "text/plain": [
       "<langgraph.graph.state.StateGraph at 0x131a98590>"
      ]
     },
     "execution_count": 47,
     "metadata": {},
     "output_type": "execute_result"
    }
   ],
   "execution_count": 47
  },
  {
   "metadata": {
    "ExecuteTime": {
     "end_time": "2025-10-21T13:32:38.538784Z",
     "start_time": "2025-10-21T13:32:38.535756Z"
    }
   },
   "cell_type": "code",
   "source": [
    "workflow.add_conditional_edges(\n",
    "    START,\n",
    "    route_question,\n",
    "    {\n",
    "      \"vectorstore\": \"retrieve\",\n",
    "      \"casual_talk\": \"casual_talk\",\n",
    "    }\n",
    ")\n",
    "workflow.add_edge(\"casual_talk\", END)\n",
    "workflow.add_edge(\"retrieve\", \"grade_documents\")\n",
    "workflow.add_edge(\"grade_documents\", \"generate\")\n",
    "workflow.add_edge(\"generate\", END)\n",
    "\n",
    "app = workflow.compile()"
   ],
   "id": "56883a613e93a91f",
   "outputs": [],
   "execution_count": 48
  },
  {
   "metadata": {
    "ExecuteTime": {
     "end_time": "2025-10-21T13:32:39.017090Z",
     "start_time": "2025-10-21T13:32:38.543703Z"
    }
   },
   "cell_type": "code",
   "source": [
    "from IPython.display import Image, display\n",
    "\n",
    "try:\n",
    "  display(Image(app.get_graph().draw_mermaid_png()))\n",
    "except Exception:\n",
    "  pass"
   ],
   "id": "ef880dcc9a3e81ba",
   "outputs": [
    {
     "data": {
      "image/png": "[encoded data removed]",
      "text/plain": [
       "<IPython.core.display.Image object>"
      ]
     },
     "metadata": {},
     "output_type": "display_data",
     "jetTransient": {
      "display_id": null
     }
    }
   ],
   "execution_count": 49
  },
  {
   "metadata": {
    "ExecuteTime": {
     "end_time": "2025-10-21T13:33:03.000924Z",
     "start_time": "2025-10-21T13:32:39.024467Z"
    }
   },
   "cell_type": "code",
   "source": [
    "inputs = {\n",
    "  \"question\": \"서울시 자율주행 계획\"\n",
    "}\n",
    "\n",
    "app.invoke(inputs)"
   ],
   "id": "99a5583291d92445",
   "outputs": [
    {
     "name": "stdout",
     "output_type": "stream",
     "text": [
      "--------ROUTE---------\n",
      "---Routing to vectorstore----\n",
      "---RETRIEVE----\n",
      "---GRADE---\n",
      "---GENERATE---\n"
     ]
    },
    {
     "data": {
      "text/plain": [
       "{'question': '서울시 자율주행 계획',\n",
       " 'generation': AIMessage(content='서울시는 자율주행차량을 포함한 미래 교통수단의 도입과 관련해 다음과 같은 계획을 세우고 있습니다:\\n\\n1. **운영 체계 구축**: 자율주행차는 현재 가장 가시화된 미래 교통기술로, 서울시는 2030년까지 간선도로급 이상의 도로에서 자율주행차가 운영될 수 있는 인프라 환경을 조성할 계획입니다. 그리고 2040년까지 서울 전역에서 자율주행차량이 운행될 수 있는 환경을 구축하고, 이를 통해 수송 분담률 10%를 달성할 목표를 가지고 있습니다.\\n\\n2. **모빌리티 허브 구축**: 서울시는 도심 및 광역거점에 미래 교통과 기존 교통을 연결하는 모빌리티 허브를 도입할 계획입니다. 이 허브는 교통뿐만 아니라 공공서비스, 물류, 상업 등 다양한 기능을 복합적으로 제공하는 지역 거점이 될 것입니다.\\n\\n3. **UAM(도심 항공 교통) 인프라 확보**: 서울시는 도심과 김포공항을 연결하는 시범노선을 운영하고, 장기적으로 한강, 지천 등 주요 수변 공간을 중심으로 광역노선을 확장할 계획입니다. 또한, UAM 인프라를 위한 인센티브와 도시계획적인 지원 방안도 함께 검토하고 있습니다.\\n\\n4. **교통 환경 변화에 대한 대비**: 자율주행차와 기타 미래 교통수단의 도입은 도시 내 이동 패턴의 변화를 가져올 것으로 예상되므로, 서울시는 이에 대한 포용적인 교통체계 구축을 준비하고 있습니다.\\n\\n이러한 계획들은 서울시가 미래 교통환경 변화에 선제적으로 대응하고, 안전하고 효율적인 교통수단의 조화를 도모하기 위한 노력의 일환입니다.', additional_kwargs={'refusal': None}, response_metadata={'token_usage': {'completion_tokens': 415, 'prompt_tokens': 2063, 'total_tokens': 2478, 'completion_tokens_details': {'accepted_prediction_tokens': 0, 'audio_tokens': 0, 'reasoning_tokens': 0, 'rejected_prediction_tokens': 0}, 'prompt_tokens_details': {'audio_tokens': 0, 'cached_tokens': 0}}, 'model_name': 'gpt-4o-mini-2024-07-18', 'system_fingerprint': 'fp_560af6e559', 'finish_reason': 'stop', 'logprobs': None}, id='run--69ebd394-4ea8-4564-ac81-287a4134bd79-0', usage_metadata={'input_tokens': 2063, 'output_tokens': 415, 'total_tokens': 2478, 'input_token_details': {'audio': 0, 'cache_read': 0}, 'output_token_details': {'audio': 0, 'reasoning': 0}}),\n",
       " 'documents': [Document(metadata={'page': 43, 'source': '../data/2040_seoul_plan.pdf'}, page_content='36제2장 미래상과 목표\\n6) 미래교통수단의 등장과 첨단 인프라 요구 증대자율주행, UAM 등 미래 교통에 공간적 대응방안 마련 필요Ÿ자율주행차량, 전동킥보드 등 교통 기술의 발전에 따라 새로운 교통환경이 조성되고 있음에도 불구하고, 이에 대한 정착 가이드라인이 없어, 위험한 교통 사고가 유발되고 있다.-최근 3년간 서울시에서 발생한 전동킥보드 관련 사고 대다수는 전동 킥보드와 차량 간 충돌 사고Ÿ안전하고 효율적인 기존-신규 교통수단의 조화를 도모하고, 이와 함께 발생할 도시공간구조 변화에 대비하기 위해 통합적인 교통수단 정착 가이드라인이 필요하다.7) 시가지 공간의 포화, 개발가용지의 부족새로운 도시공간에 대한 수요 대응과 성장동력 확보 한계Ÿ서울의 녹지지역을 제외한 대부분의 개발가용지는 고갈된 상태이며, 남은 공간은 주택공급을 위주로 개발하고 있다.-서울시에서 개발제한구역 25%를 제외하면 65%에 해당하는 시가화면적 366㎢ 중 미개발지는 거의 없는 상태Ÿ외연적 팽창이 아닌, 선택과 집중을 통한 콤팩트 시티로의 공간구조 재편을 지향하고 복합 개발을 통해 약해진 도시경쟁력 강화가 필요한 시점이다.8) 늙어가는 서울, 도시 정비의 정체에 따른 환경 악화정비사업 추진동력 저하, 쾌적한 도시환경에 대한 요구 증대Ÿ2038년 서울시 기반시설 노후화 비율은 2018년 대비 2.7배 급증, 1960~70년대 집중 조성된 기반시설의 노후화에 따른 시설 안전성 확보가 필요하다.-2040년, 서울 전체 주택 중 노후 물량 50%로 추정Ÿ때문에, 쾌적한 도시환경 구축을 위해서는 노후 기반시설로 인한 안전성 검토와 개선비용 증가에 따른 선제적인 대응이 필요하다.\\n[그림 2-19] 서울시 전동킥보드 사고 추이자료: 서울시 소방재난본부\\n제1절 서울의 변화진단379) 경직된 서울, 도시계획 규제 완화에 대한 요구 증대지역특성과 미래변화를 고려한 유연한 도시계획 요구Ÿ과도한 도시계획 규제로 인해, 미래 융복합 시대에'),\n",
       "  Document(metadata={'page': 61, 'source': '../data/2040_seoul_plan.pdf'}, page_content='54제2장 미래상과 목표\\n5. 기술발전에 선제적 대응, ‘미래교통 인프라 구축’1) 배경미래교통수단 도입에 따른 도시 활동 변화 및 공간구조 재편 대비Ÿ빠르게 진화하는 미래 신 교통수단은 도시공간에 새로운 변화를 일으킬 것이며, 도시 내 이동패턴의 변화를 가져올 것으로 예측된다. 이러한 점을 고려하여 도시 내 다양한 통행행태가 공존하는 포용적인 교통체계 구축을 준비해야 한다.미래교통수단 정착을 위한 도시 인프라 확충지원 필요Ÿ기존에 없던 새로운 교통은 통상 인프라 구축에 많은 시간이 소요되기 때문에 교통수단이 도입된 이후에 준비하기보다는 개발단계에서부터 이를 지원하기 위한 교통인프라 구축 구상이 요구되며, 새로운 도시 인프라 확충에 대한 도시계획적 지원이 필요하다.2) 추진전략자율주행 자동차 본격 운영 체계 구축Ÿ자율주행은 현재 제일 가시화되고 있는 미래 교통기술로 시장의 주도권을 확보하기 위해 각국의 노력이 집중되고 있다. 단계적으로 2030년까지 간선도로급 이상 도로에서 운영할 수 있는 도로 인프라 환경을 조성하고, 2040년까지 서울 전역 자율주행 운행 환경 구축을 목표로 한다.-2040년까지 서울 전역 자율주행차량의 운행 환경을 구축하고 수송 분담률 10%를 달성서울형 도심 항공교통 기반 마련 및 터미널 확충Ÿ도심에서 김포공항까지 시범노선을 운영하는 등 상용화 노선을 확보하고, 장기적으로 한강, 지천 등 주요 수변 공간 중심으로 광역노선을 확보한다. 또한 UAM 인프라 확보를 위한 인센티브 및 도시계획적인 지원 방안도 함께 검토한다.-UAM 시범노선을 운영하고, 한강 등 주요 수변 공간 중심에 단계적 광역노선을 확장서울 전역에 모빌리티 허브 구축Ÿ도심 및 광역거점에 서울 내부와 외부의 연계를 위한 미래 교통과 기존 교통을 연결하는 시설을 도입한다. 또한 교통뿐 아니라 공공서비스, 물류, 상업 등 다양한 기능들이 복합적으로 제공되는 지역 거점 모빌리티 허브를 서울 전역에 도입한다.\\n제3절 2040 서울도시기본계획 7대 목표55공중, 지상, 지하 등 다차원 신(新) 물류네트워크 구축Ÿ도심 내 물류 수요가 급격히 증가할 것에 대비하여, 공중 활용을 위한 드론 배'),\n",
       "  Document(metadata={'page': 97, 'source': '../data/2040_seoul_plan.pdf'}, page_content='90제3장 부문별 전략계획\\n5-1 미래교통수단과 융합을 위한 선제적 교통환경 구축5-1-1 신 교통수단·기술발전 등 미래 환경 변화에 대비한 인프라 구축·정비ŸUAM·전기차·자율주행차 등 미래교통수단의 상용'),\n",
       "  Document(metadata={'page': 42, 'source': '../data/2040_seoul_plan.pdf'}, page_content='제1절 서울의 변화진단353) 반복되는 팬데믹에 도시공간적 대응상수화되는 팬데믹, 회복탄력적 도시에 대한 관심 고조Ÿ2019년 발생한 코로나19에 의한 팬데믹은 서울시민의 일상생활을 마비시켰고 강제적인 거리두기 정책으로 경제위기가 심각해졌다.Ÿ전염병에 의한 팬데믹은 지속적으로 발생할 것으로 예측되고 있으며 이에 선제적인 예방 체계와 즉각적 대응을 위한 기반시설 구축이 필요하다.-물리적 기반의 기능 보완, 방역·방재 관련 시설 확충 등4) 기후위기에 대응하기 위한 지속가능한 도시 구축기후변화로 발생하는 자연재해로부터 안전한 도시 구축 필요Ÿ현재의 도시는 온실가스 증가로 인한 지표면·해수면 온도 상승으로 폭염, 한파 등 기후변화의 불확실성과 위험이 증가하고 있다.Ÿ때문에, 전 세계적으로 기후위기에 대응하기 위한 지속가능한 도시 구축의 필요성이 대두되고 있다.Ÿ서울시 온실가스 배출현황에 따르면, 상업과 가정 그리고 수송에서의 배출량이 약 84.1%에 달하고 있으며, 탄소중립 달성을 위해서는 도시계획적 대응이 필요한 실정이다.5) 심화되는 글로벌 경쟁심화되는 글로벌 도시 경쟁, 약화되는 수위도시 서울의 경쟁력Ÿ현재의 도시들은 기술의 발전과 글로벌화에 맞물려 규모와 상관없이 전 세계 도시들을 상대로 경쟁을 하는 글로벌 경쟁 속에서 도시 브랜딩을 통한 평판 제고를 도모하고 있다.Ÿ하지만, 지난 10년간 서울은 글로벌 파워도시, 세계도시경쟁력 지표 등에서 경제 영역의 순위가 낮아졌고 삶의 질 부문의 평가 역시 더 나아지지 않고 정체 중인 상황이다.Ÿ심화되는 글로벌 도시경쟁에 대응하여 서울의 미래 경쟁력을 확보하기 위해 지속가능한 산업 정책과 도시공간구조의 개편이 필요하다.\\n[그림 2-18] 서울시 온실가스 배출현황자료: 서울시 온실가스 인벤토리 부분별 현황, 서울열린데이터광장\\n36제2장 미래상과 목표\\n6) 미래교통수단의 등장과 첨단 인프라 요구 증대자율주행, UAM 등 미래 교통에 공간적 대응방안 마련 필요Ÿ자율주행차량, 전동킥보드 등 교통 기술의 발전')]}"
      ]
     },
     "execution_count": 50,
     "metadata": {},
     "output_type": "execute_result"
    }
   ],
   "execution_count": 50
  },
  {
   "metadata": {
    "ExecuteTime": {
     "end_time": "2025-10-21T13:33:37.414446Z",
     "start_time": "2025-10-21T13:33:34.797954Z"
    }
   },
   "cell_type": "code",
   "source": [
    "inputs = {\n",
    "  \"question\": \"소리 지르는 니가\"\n",
    "}\n",
    "\n",
    "app.invoke(inputs)"
   ],
   "id": "57e1d902ec62688f",
   "outputs": [
    {
     "name": "stdout",
     "output_type": "stream",
     "text": [
      "--------ROUTE---------\n",
      "---Routing to casual_talk----\n",
      "---CASUAL TALK---\n"
     ]
    },
    {
     "data": {
      "text/plain": [
       "{'question': '소리 지르는 니가',\n",
       " 'generation': AIMessage(content='\"소리 지르는 니가\"라는 표현을 떠올리면, \"너를 위해서라면, 나를 다 줄게\" 같은 감정이 담긴 가사가 생각납니다. 이러한 가사는 사랑과 열망을 표현하는 데 잘 어울리죠. 혹시 특정 노래를 원하시는 건가요?', additional_kwargs={'refusal': None}, response_metadata={'token_usage': {'completion_tokens': 72, 'prompt_tokens': 31, 'total_tokens': 103, 'completion_tokens_details': {'accepted_prediction_tokens': 0, 'audio_tokens': 0, 'reasoning_tokens': 0, 'rejected_prediction_tokens': 0}, 'prompt_tokens_details': {'audio_tokens': 0, 'cached_tokens': 0}}, 'model_name': 'gpt-4o-mini-2024-07-18', 'system_fingerprint': 'fp_560af6e559', 'finish_reason': 'stop', 'logprobs': None}, id='run--030f1ceb-8733-4fb2-a532-667ad9e5e820-0', usage_metadata={'input_tokens': 31, 'output_tokens': 72, 'total_tokens': 103, 'input_token_details': {'audio': 0, 'cache_read': 0}, 'output_token_details': {'audio': 0, 'reasoning': 0}})}"
      ]
     },
     "execution_count": 51,
     "metadata": {},
     "output_type": "execute_result"
    }
   ],
   "execution_count": 51
  },
  {
   "metadata": {
    "ExecuteTime": {
     "end_time": "2025-10-21T13:34:47.543730Z",
     "start_time": "2025-10-21T13:34:32.092547Z"
    }
   },
   "cell_type": "code",
   "source": [
    "inputs = {\n",
    "  \"question\": \"서울시의 자율주행 차량 계획은 무엇이 있나요?\"\n",
    "}\n",
    "\n",
    "for msg, meta in app.stream(inputs, stream_mode=\"messages\"):\n",
    "  print(msg.content, end='')"
   ],
   "id": "d9bf3213e5645b6e",
   "outputs": [
    {
     "name": "stdout",
     "output_type": "stream",
     "text": [
      "--------ROUTE---------\n",
      "---Routing to vectorstore----\n",
      "---RETRIEVE----\n",
      "---GRADE---\n",
      "---GENERATE---\n",
      "서울시는 자율주행 차량에 대한 체계적인 계획을 세우고 있으며, 그 주요 내용은 다음과 같습니다:\n",
      "\n",
      "1. **운영 체계 구축**: 서울시는 자율주행 자동차의 본격 운영을 위한 체계를 단계적으로 구축하고 있습니다. 2030년까지 간선도로급 이상 도로에서 자율주행차가 운영될 수 있도록 도로 인프라 환경을 조성할 계획입니다. 최종적으로 2040년까지 서울 전역에서 자율주행차량의 운행 환경을 구축하고, 수송 분담률 10%를 달성하는 목표를 세우고 있습니다.\n",
      "\n",
      "2. **모빌리티 허브 구축**: 도심 및 광역거점에 서울 내부와 외부의 연계를 강화하기 위해 다양한 기능을 복합적으로 제공하는 모빌리티 허브를 도입할 예정입니다. 이는 자율주행차량뿐만 아니라 기존 교통과의 연결을 통해 효율적인 교통체계 구축을 목표로 하고 있습니다.\n",
      "\n",
      "3. **UAM(도심 항공교통) 기반 마련**: 서울시는 도심에서 김포공항까지 시범 노선을 운영하고 있으며, 장기적으로 한강 및 주요 수변 공간을 중심으로 광역 노선을 확장할 계획입니다. UAM 인프라 확보를 위한 인센티브와 도시계획적 지원 방안도 검토 중입니다.\n",
      "\n",
      "서울시는 이러한 계획을 통해 자율주행 차량과 함께 변화하는 교통 환경에 안전하고 효율적으로 대응하고, 도시 내 다양한 이동 패턴을 포용하는 교통체계 구축을 목표로 하고 있습니다."
     ]
    }
   ],
   "execution_count": 52
  },
  {
   "metadata": {},
   "cell_type": "code",
   "outputs": [],
   "execution_count": null,
   "source": "",
   "id": "f6d8982e078aeea1"
  }
 ],
 "metadata": {
  "kernelspec": {
   "display_name": "Python 3",
   "language": "python",
   "name": "python3"
  },
  "language_info": {
   "codemirror_mode": {
    "name": "ipython",
    "version": 2
   },
   "file_extension": ".py",
   "mimetype": "text/x-python",
   "name": "python",
   "nbconvert_exporter": "python",
   "pygments_lexer": "ipython2",
   "version": "2.7.6"
  }
 },
 "nbformat": 4,
 "nbformat_minor": 5
}
