{
 "cells": [
  {
   "cell_type": "code",
   "id": "initial_id",
   "metadata": {
    "collapsed": true,
    "ExecuteTime": {
     "end_time": "2025-10-20T13:41:02.483980Z",
     "start_time": "2025-10-20T13:41:02.469747Z"
    }
   },
   "source": [
    "from dotenv import load_dotenv\n",
    "from langchain_openai import ChatOpenAI\n",
    "\n",
    "load_dotenv()\n",
    "\n",
    "llm = ChatOpenAI(model=\"gpt-4o\")"
   ],
   "outputs": [],
   "execution_count": 13
  },
  {
   "metadata": {
    "ExecuteTime": {
     "end_time": "2025-10-20T13:41:02.503117Z",
     "start_time": "2025-10-20T13:41:02.501154Z"
    }
   },
   "cell_type": "code",
   "source": [
    "from typing import Annotated\n",
    "from typing_extensions import TypedDict\n",
    "\n",
    "from langgraph.graph import StateGraph\n",
    "from langgraph.graph.message import add_messages\n",
    "\n",
    "\n",
    "class State(TypedDict):\n",
    "  messages: Annotated[list[str], add_messages]\n",
    "\n",
    "\n",
    "graph_builder = StateGraph(State)"
   ],
   "id": "4000cd22fd3686a7",
   "outputs": [],
   "execution_count": 14
  },
  {
   "metadata": {
    "ExecuteTime": {
     "end_time": "2025-10-20T13:41:02.529088Z",
     "start_time": "2025-10-20T13:41:02.524183Z"
    }
   },
   "cell_type": "code",
   "source": [
    "from langchain_core.tools import tool\n",
    "from datetime import datetime\n",
    "import pytz\n",
    "from langchain_community.tools import DuckDuckGoSearchResults\n",
    "from langchain_community.utilities import DuckDuckGoSearchAPIWrapper\n",
    "\n",
    "\n",
    "@tool\n",
    "def get_current_time(timezone: str, location: str) -> str:\n",
    "  \"\"\"현재 시각을 반환하는 함수\"\"\"\n",
    "  try:\n",
    "    tz = pytz.timezone(timezone)\n",
    "    now = datetime.now(tz).strftime(\"%Y-%m-%d %H:%M:%S\")\n",
    "    result = f'{timezone} ({location}) 현재 시각 {now}'\n",
    "    return result\n",
    "  except pytz.UnknownTimeZoneError:\n",
    "    return f\"알 수 없는 타임존: {timezone}\"\n",
    "\n",
    "\n",
    "@tool\n",
    "def get_web_search(query: str, search_period: str = 'm') -> str:\n",
    "  \"\"\"\n",
    "  웹 검색을 수행하는 함수\n",
    "\n",
    "  Args:\n",
    "      query (str): 검색어\n",
    "      search_period (str): 검색 기간 (e.g, \"w\" for past week, \"m\" for past month, \"y\" for past year\n",
    "\n",
    "  Return:\n",
    "    str: 검색 결과\n",
    "  \"\"\"\n",
    "  wrapper = DuckDuckGoSearchAPIWrapper(\n",
    "      time=search_period\n",
    "  )\n",
    "\n",
    "  print('\\n--------- WEB SEARCH -----------')\n",
    "  print(query)\n",
    "  print(search_period)\n",
    "\n",
    "  search = DuckDuckGoSearchResults(\n",
    "      api_wrapper=wrapper,\n",
    "      results_separator=';\\n'\n",
    "  )\n",
    "\n",
    "  searched = search.invoke(query)\n",
    "\n",
    "  for i, result in enumerate(searched.split('l\\n')):\n",
    "    print(f'{i + 1}. {result}')\n",
    "\n",
    "  return searched\n",
    "\n",
    "\n",
    "tools = [get_current_time, get_web_search]"
   ],
   "id": "56d0f19d9ebc0039",
   "outputs": [],
   "execution_count": 15
  },
  {
   "metadata": {
    "ExecuteTime": {
     "end_time": "2025-10-20T13:41:02.534898Z",
     "start_time": "2025-10-20T13:41:02.532292Z"
    }
   },
   "cell_type": "code",
   "source": "tools[0].invoke({\"timezone\": \"Asia/Seoul\", \"location\": \" 서울\"})",
   "id": "dc2d3ff327563b8c",
   "outputs": [
    {
     "data": {
      "text/plain": [
       "'Asia/Seoul ( 서울) 현재 시각 2025-10-20 22:41:02'"
      ]
     },
     "execution_count": 16,
     "metadata": {},
     "output_type": "execute_result"
    }
   ],
   "execution_count": 16
  },
  {
   "metadata": {
    "ExecuteTime": {
     "end_time": "2025-10-20T13:41:02.709109Z",
     "start_time": "2025-10-20T13:41:02.540874Z"
    }
   },
   "cell_type": "code",
   "source": "tools[1].invoke({\"query\": \"25-26시즌 NBA\", \"search_period\": \"m\"})",
   "id": "fda9aeb7ce6ed237",
   "outputs": [
    {
     "name": "stdout",
     "output_type": "stream",
     "text": [
      "\n",
      "--------- WEB SEARCH -----------\n",
      "25-26시즌 NBA\n",
      "m\n",
      "1. snippet: Sep 15, 2025 · 인천국제공항 은 25번 게이트가 없다. 그런데 4번, 44번, 244번 게이트는 4자 금기, 13번 게이트는 13 공포증 으로 결번 사유가 알려진 것과는 달리 25번 게이트의 결번 사유는 …, title: 25 - 나무위키, link: https://namu.wiki/w/25;\n",
      "snippet: Oct 4, 2025 · 육상 트랙 경기 중 최장 거리 경기인 10,000m 경기는 400m 트랙을 25바퀴 (400×25) 도는 경기다. 배구에서 25점을 따면 세트를 따낸다., title: 25 - 위키백과, 우리 모두의 백과사전, link: https://ko.wikipedia.org/wiki/25;\n",
      "snippet: 25년 독감예방접종은 어린이·임신부·어르신이 무료 대상이며, 9~11월에 맞추면 학사·동절기 일정에 가장 유리합니다. 무료 대상이 아니어도 지정의료기관을 통해 합리적으로 접종할 수 …, title: 25년 독감예방접종 시기·비용·무료 대상자 총정리 : 네이버 블로그, link: https://blog.naver.com/lifecode101/224037386818;\n",
      "snippet: Sep 18, 2024 · 이 글에서는 25년 추석 연휴의 날짜부터 연휴를 즐기는 다양한 방법까지 간결하게 정리했으니 참고하여 도움되시기 바란다., title: 25년 공휴일 추석연휴 정리 (황금연휴) : 네이버 블로그, link: https://m.blog.naver.com/88labstory/223587080974\n"
     ]
    },
    {
     "name": "stderr",
     "output_type": "stream",
     "text": [
      "/Users/yeonsigjang/ideaProject/gpt_agent_2025_book_pip/.venv/lib/python3.12/site-packages/langchain_community/utilities/duckduckgo_search.py:63: RuntimeWarning: This package (`duckduckgo_search`) has been renamed to `ddgs`! Use `pip install ddgs` instead.\n",
      "  with DDGS() as ddgs:\n",
      "/Users/yeonsigjang/ideaProject/gpt_agent_2025_book_pip/.venv/lib/python3.12/site-packages/langchain_community/utilities/duckduckgo_search.py:64: UserWarning: backend='api' is deprecated, using backend='auto'\n",
      "  ddgs_gen = ddgs.text(\n"
     ]
    },
    {
     "data": {
      "text/plain": [
       "'snippet: Sep 15, 2025 · 인천국제공항 은 25번 게이트가 없다. 그런데 4번, 44번, 244번 게이트는 4자 금기, 13번 게이트는 13 공포증 으로 결번 사유가 알려진 것과는 달리 25번 게이트의 결번 사유는 …, title: 25 - 나무위키, link: https://namu.wiki/w/25;\\nsnippet: Oct 4, 2025 · 육상 트랙 경기 중 최장 거리 경기인 10,000m 경기는 400m 트랙을 25바퀴 (400×25) 도는 경기다. 배구에서 25점을 따면 세트를 따낸다., title: 25 - 위키백과, 우리 모두의 백과사전, link: https://ko.wikipedia.org/wiki/25;\\nsnippet: 25년 독감예방접종은 어린이·임신부·어르신이 무료 대상이며, 9~11월에 맞추면 학사·동절기 일정에 가장 유리합니다. 무료 대상이 아니어도 지정의료기관을 통해 합리적으로 접종할 수 …, title: 25년 독감예방접종 시기·비용·무료 대상자 총정리 : 네이버 블로그, link: https://blog.naver.com/lifecode101/224037386818;\\nsnippet: Sep 18, 2024 · 이 글에서는 25년 추석 연휴의 날짜부터 연휴를 즐기는 다양한 방법까지 간결하게 정리했으니 참고하여 도움되시기 바란다., title: 25년 공휴일 추석연휴 정리 (황금연휴) : 네이버 블로그, link: https://m.blog.naver.com/88labstory/223587080974'"
      ]
     },
     "execution_count": 17,
     "metadata": {},
     "output_type": "execute_result"
    }
   ],
   "execution_count": 17
  },
  {
   "metadata": {
    "ExecuteTime": {
     "end_time": "2025-10-20T13:41:02.722641Z",
     "start_time": "2025-10-20T13:41:02.720709Z"
    }
   },
   "cell_type": "code",
   "source": [
    "for tool in tools:\n",
    "  print(tool.name, tool)"
   ],
   "id": "47cd84b6aa72d9c",
   "outputs": [
    {
     "name": "stdout",
     "output_type": "stream",
     "text": [
      "get_current_time name='get_current_time' description='현재 시각을 반환하는 함수' args_schema=<class 'langchain_core.utils.pydantic.get_current_time'> func=<function get_current_time at 0x13241e3e0>\n",
      "get_web_search name='get_web_search' description='웹 검색을 수행하는 함수\\n\\nArgs:\\n    query (str): 검색어\\n    search_period (str): 검색 기간 (e.g, \"w\" for past week, \"m\" for past month, \"y\" for past year\\n\\nReturn:\\n  str: 검색 결과' args_schema=<class 'langchain_core.utils.pydantic.get_web_search'> func=<function get_web_search at 0x13241dd00>\n"
     ]
    }
   ],
   "execution_count": 18
  },
  {
   "metadata": {
    "ExecuteTime": {
     "end_time": "2025-10-20T13:41:02.735168Z",
     "start_time": "2025-10-20T13:41:02.729758Z"
    }
   },
   "cell_type": "code",
   "source": [
    "llm_with_tools = llm.bind_tools(tools)\n",
    "\n",
    "\n",
    "def generate(state: State):\n",
    "  \"\"\"\n",
    "  주어진 상태를 기반으로 챗봇의 응답 메시지를 생성한다.\n",
    "\n",
    "  매개변수:\n",
    "    state (State): 현재 대화 상태를 나타내는 객체로, 이전 메시지들이 포함되어 있다.\n",
    "\n",
    "  반환값:\n",
    "    dict: 모델이 생성한 응답 메시지를 포함하는 딕셔너리.\n",
    "          형식은 {\"messages\": [응답 메시지]}입니다.\n",
    "  \"\"\"\n",
    "  return {\"messages\": llm_with_tools.invoke(state[\"messages\"])}\n",
    "\n",
    "\n",
    "graph_builder.add_node(\"generate\", generate)"
   ],
   "id": "5dec348ae929ef08",
   "outputs": [
    {
     "data": {
      "text/plain": [
       "<langgraph.graph.state.StateGraph at 0x1316dd940>"
      ]
     },
     "execution_count": 19,
     "metadata": {},
     "output_type": "execute_result"
    }
   ],
   "execution_count": 19
  },
  {
   "metadata": {
    "ExecuteTime": {
     "end_time": "2025-10-20T13:41:02.745001Z",
     "start_time": "2025-10-20T13:41:02.741535Z"
    }
   },
   "cell_type": "code",
   "source": [
    "import json\n",
    "from langchain_core.messages import ToolMessage\n",
    "\n",
    "\n",
    "class BasicToolNode:\n",
    "  \"\"\"\n",
    "  도구를 실행하는 노드 클래스. 마지막 AIMessages에서 요청된 도구를 실행한다.\n",
    "  Attributes:\n",
    "    tools_by_name (dict): 도구 이름을 키로 하고 도구 객체를 값으로 가지는 사전\n",
    "  Methods:\n",
    "    __init__(tools: list): 도구 객체들의 리스트를 받아서 초기화합니다.\n",
    "    __call__(inputs: dict): 입력 메시지를 받아서 도구를 실행하고 결과 메시지를 반환합니다.\n",
    "  \"\"\"\n",
    "  \"\"\"A node that runs the tools requested in the last AIMessage.\"\"\"\n",
    "\n",
    "  def __init__(self, tools: list) -> None:\n",
    "    self.tools_by_name = {tool.name: tool for tool in tools}\n",
    "\n",
    "  def __call__(self, inputs: dict):\n",
    "    if messages := inputs.get(\"messages\", []):\n",
    "      message = messages[-1]\n",
    "    else:\n",
    "      raise ValueError(\"No message found in input\")\n",
    "    outputs = []\n",
    "    for tool_call in message.tool_calls:\n",
    "      tool_result = self.tools_by_name[tool_call[\"name\"]].invoke(tool_call[\"args\"])\n",
    "\n",
    "      outputs.append(\n",
    "          ToolMessage(\n",
    "              content=json.dumps(tool_result),\n",
    "              name=tool_call[\"name\"],\n",
    "              tool_call_id=tool_call[\"id\"],\n",
    "          )\n",
    "      )\n",
    "    return {\"messages\": messages + outputs}\n",
    "\n",
    "\n",
    "tool_node = BasicToolNode(tools=tools)\n",
    "graph_builder.add_node(\"tools\", tool_node)"
   ],
   "id": "d5557e64ce8d26f2",
   "outputs": [
    {
     "data": {
      "text/plain": [
       "<langgraph.graph.state.StateGraph at 0x1316dd940>"
      ]
     },
     "execution_count": 20,
     "metadata": {},
     "output_type": "execute_result"
    }
   ],
   "execution_count": 20
  },
  {
   "metadata": {
    "ExecuteTime": {
     "end_time": "2025-10-20T13:41:02.753434Z",
     "start_time": "2025-10-20T13:41:02.750665Z"
    }
   },
   "cell_type": "code",
   "source": [
    "from langgraph.graph import START, END\n",
    "\n",
    "\n",
    "def route_tools(state: State):\n",
    "  \"\"\"\n",
    "  마지막 메시지에 도구 호출이 있는 경우 ToolNode로 라우팅하고,\n",
    "  그렇지 않은 경우 끝으로 라우팅하기 위해 conditional_edge에서 사용합니다.\n",
    "  \"\"\"\n",
    "  if isinstance(state, list):\n",
    "    ai_message = state[-1]\n",
    "  elif messages := state.get(\"messages\", []):\n",
    "    ai_message = messages[-1]\n",
    "  else:\n",
    "    raise ValueError(f\"tool_edge 입력 상태에서 메시지를 찾을 수 없습니다: {state}\")\n",
    "\n",
    "  if hasattr(ai_message, \"tool_calls\") and len(ai_message.tool_calls) > 0:\n",
    "    return \"tools\"\n",
    "  return END\n",
    "\n",
    "\n",
    "graph_builder.add_edge(START, \"generate\")\n",
    "graph_builder.add_conditional_edges(\n",
    "    \"generate\",\n",
    "    route_tools,\n",
    "    {\"tools\": \"tools\", END: END},\n",
    ")\n",
    "\n",
    "graph_builder.add_edge(\"tools\", \"generate\")\n",
    "graph = graph_builder.compile()"
   ],
   "id": "64597446d08bbc55",
   "outputs": [],
   "execution_count": 21
  },
  {
   "metadata": {
    "ExecuteTime": {
     "end_time": "2025-10-20T13:41:03.198663Z",
     "start_time": "2025-10-20T13:41:02.757471Z"
    }
   },
   "cell_type": "code",
   "source": [
    "from IPython.display import Image, display\n",
    "\n",
    "try:\n",
    "  display(Image(graph.get_graph().draw_mermaid_png()))\n",
    "except Exception:\n",
    "  pass"
   ],
   "id": "4992a46feac04873",
   "outputs": [
    {
     "data": {
      "image/png": "[encoded data removed]",
      "text/plain": [
       "<IPython.core.display.Image object>"
      ]
     },
     "metadata": {},
     "output_type": "display_data",
     "jetTransient": {
      "display_id": null
     }
    }
   ],
   "execution_count": 22
  },
  {
   "metadata": {
    "ExecuteTime": {
     "end_time": "2025-10-20T13:41:05.048581Z",
     "start_time": "2025-10-20T13:41:03.211646Z"
    }
   },
   "cell_type": "code",
   "source": [
    "from langchain_core.messages import AIMessageChunk, HumanMessage\n",
    "\n",
    "inputs = [HumanMessage(content=\"지금 서울 몇 시야?\")]\n",
    "\n",
    "gathered = None\n",
    "\n",
    "for msg, metadata in graph.stream({\"messages\": inputs}, stream_mode=\"messages\"):\n",
    "  if isinstance(msg, AIMessageChunk):\n",
    "    print(msg.content, end='')\n",
    "\n",
    "    if gathered is None:\n",
    "      gathered = msg\n",
    "    else:\n",
    "      gathered = gathered + msg\n",
    "\n",
    "gathered"
   ],
   "id": "7fedf0f06b981e44",
   "outputs": [
    {
     "name": "stdout",
     "output_type": "stream",
     "text": [
      "지금 서울의 시간은 2025년 10월 20일 22시 41분입니다."
     ]
    },
    {
     "data": {
      "text/plain": [
       "AIMessageChunk(content='지금 서울의 시간은 2025년 10월 20일 22시 41분입니다.', additional_kwargs={'tool_calls': [{'index': 0, 'id': 'call_K720HPoxWcL6fAiKMN7zFESt', 'function': {'arguments': '{\"timezone\":\"Asia/Seoul\",\"location\":\"서울\"}', 'name': 'get_current_time'}, 'type': 'function'}]}, response_metadata={'finish_reason': 'tool_callsstop', 'model_name': 'gpt-4o-2024-08-06gpt-4o-2024-08-06', 'system_fingerprint': 'fp_cbf1785567fp_cbf1785567'}, id='run--a1bebc55-aca4-4561-9ac4-5b50abb4b50d', tool_calls=[{'name': 'get_current_time', 'args': {'timezone': 'Asia/Seoul', 'location': '서울'}, 'id': 'call_K720HPoxWcL6fAiKMN7zFESt', 'type': 'tool_call'}], tool_call_chunks=[{'name': 'get_current_time', 'args': '{\"timezone\":\"Asia/Seoul\",\"location\":\"서울\"}', 'id': 'call_K720HPoxWcL6fAiKMN7zFESt', 'index': 0, 'type': 'tool_call_chunk'}])"
      ]
     },
     "execution_count": 23,
     "metadata": {},
     "output_type": "execute_result"
    }
   ],
   "execution_count": 23
  },
  {
   "metadata": {
    "ExecuteTime": {
     "end_time": "2025-10-20T13:45:06.218374Z",
     "start_time": "2025-10-20T13:44:44.610010Z"
    }
   },
   "cell_type": "code",
   "source": [
    "from langchain_core.messages import AIMessageChunk, SystemMessage\n",
    "\n",
    "about = \"25-26시즌 LA레이커스\"\n",
    "\n",
    "inputs = [\n",
    "  SystemMessage(\n",
    "      content=f\"\"\"\n",
    "너는 신문기자이다.\n",
    "최근 {about}에 대해 비판하는 심층 분석 기사를 쓰려고 한다.\n",
    "\n",
    "- 최근 어떤 이슈가 있는지 검색하고, 사람들이 제일 관심있어 할만한 주제를 선정하고, 왜 선정했는지 말해줘.\n",
    "- 그 내용으로 원고를 작성하기 위한 목차를 만들고, 목차 내용을 채우기 위해 추가로 검색할 내용을 리스트로 정리해봐.\n",
    "- 검색할 리스트를 토대로 재검색을 한다.\n",
    "- 목차에 있는 내용을 작성하기 위해 더 검색이 필요한 정보가 있는지 확인하고, 있다면 추가로 검색해라.\n",
    "- 검색된 결과에 원하는 정보를 찾지 못했다면 다른 검색어로 재검색해도 좋다.\n",
    "\n",
    "더 이상 검색할 내용이 없다면, 조선일보 신문 기사 형식으로 최종 기사를 작성하라.\n",
    "제목, 부제, 리드문, 본문의 구성으로 작성하라. 본문 내용은 심층 분석 기사에 맞게 구체적이고 깊이 있게 작성해야 한다.\n",
    "\"\"\"\n",
    "  )\n",
    "]\n",
    "\n",
    "for msg, metadata in graph.stream({\"messages\": inputs}, stream_mode=\"messages\"):\n",
    "  if isinstance(msg, AIMessageChunk):\n",
    "    print(msg.content, end='')"
   ],
   "id": "1af5d8349e0d0877",
   "outputs": [
    {
     "name": "stdout",
     "output_type": "stream",
     "text": [
      "\n",
      "--------- WEB SEARCH -----------\n",
      "LA Lakers 25-26 season issues\n",
      "w\n",
      "1. snippet: Aug 24, 2018 · 节点锚入梁内的锚固长度？ 我想问一下这个节点锚入梁内的长度是多少？ 按一个锚固长度la计算吗？ 那la的依据是什么，按照什么确定是35d还 …, title: 未注明钢筋锚固长度la是多少?-服务新干线答疑解惑, link: https://www.fwxgx.com/questions/1922806;\n",
      "snippet: Mar 17, 2018 · 钢筋图中的La长度应该如何计算 请问图中的LA长度应该怎么计算，谢谢 补充问题： 图纸要求16图集 我来答 收藏 举报 全部回答 (3) 首答仅用1 …, title: 钢筋图中的La长度应该如何计算-服务新干线答疑解惑, link: https://www.fwxgx.com/questions/1749532;\n",
      "snippet: Oct 24, 2014 · 关于钢筋中lae，la,以及laf之间的关系？ 它们之间是什么关系，比如说混凝土等级是C35的，钢筋直接是d，那么它的la，lae，laf各是什么？, title: 关于钢筋中lae，la,以及laf之间的关系？-服务新干线答疑解惑, link: https://www.fwxgx.com/questions/1240607;\n",
      "snippet: Jan 9, 2025 · 刚开始学钢结构，这种檩条怎么计算长度？ 这个楼板阳角的放射筋怎么计算长度 2020-08-11 11:26:58 补充能不能讲的详细一点，计算公式可以写 …, title: la和lae怎么计算长度-服务新干线答疑解惑, link: https://www.fwxgx.com/questions/4334925\n"
     ]
    },
    {
     "name": "stderr",
     "output_type": "stream",
     "text": [
      "/Users/yeonsigjang/ideaProject/gpt_agent_2025_book_pip/.venv/lib/python3.12/site-packages/langchain_community/utilities/duckduckgo_search.py:63: RuntimeWarning: This package (`duckduckgo_search`) has been renamed to `ddgs`! Use `pip install ddgs` instead.\n",
      "  with DDGS() as ddgs:\n",
      "/Users/yeonsigjang/ideaProject/gpt_agent_2025_book_pip/.venv/lib/python3.12/site-packages/langchain_community/utilities/duckduckgo_search.py:64: UserWarning: backend='api' is deprecated, using backend='auto'\n",
      "  ddgs_gen = ddgs.text(\n"
     ]
    },
    {
     "name": "stdout",
     "output_type": "stream",
     "text": [
      "\n",
      "--------- WEB SEARCH -----------\n",
      "LA Lakers 2025-2026 season issues\n",
      "w\n"
     ]
    },
    {
     "name": "stderr",
     "output_type": "stream",
     "text": [
      "/Users/yeonsigjang/ideaProject/gpt_agent_2025_book_pip/.venv/lib/python3.12/site-packages/langchain_community/utilities/duckduckgo_search.py:63: RuntimeWarning: This package (`duckduckgo_search`) has been renamed to `ddgs`! Use `pip install ddgs` instead.\n",
      "  with DDGS() as ddgs:\n",
      "/Users/yeonsigjang/ideaProject/gpt_agent_2025_book_pip/.venv/lib/python3.12/site-packages/langchain_community/utilities/duckduckgo_search.py:64: UserWarning: backend='api' is deprecated, using backend='auto'\n",
      "  ddgs_gen = ddgs.text(\n"
     ]
    },
    {
     "name": "stdout",
     "output_type": "stream",
     "text": [
      "1. snippet: Aug 24, 2018 · 节点锚入梁内的锚固长度？ 我想问一下这个节点锚入梁内的长度是多少？ 按一个锚固长度la计算吗？ 那la的依据是什 …, title: 未注明钢筋锚固长度la是多少?-服务新干线答疑解惑, link: https://www.fwxgx.com/questions/1922806;\n",
      "snippet: Mar 17, 2018 · 钢筋图中的La长度应该如何计算 请问图中的LA长度应该怎么计算，谢谢 补充问题： 图纸要求16图集 我来答 收藏 举 …, title: 钢筋图中的La长度应该如何计算-服务新干线答疑解惑, link: https://www.fwxgx.com/questions/1749532;\n",
      "snippet: Oct 24, 2014 · 关于钢筋中lae，la,以及laf之间的关系？ 它们之间是什么关系，比如说混凝土等级是C35的，钢筋直接是d，那么它 …, title: 关于钢筋中lae，la,以及laf之间的关系？-服务新干线答疑解惑, link: https://www.fwxgx.com/questions/1240607;\n",
      "snippet: Jan 9, 2025 · 刚开始学钢结构，这种檩条怎么计算长度？ 这个楼板阳角的放射筋怎么计算长度 2020-08-11 11:26:58 补充能不能讲的 …, title: la和lae怎么计算长度-服务新干线答疑解惑, link: https://www.fwxgx.com/questions/4334925\n",
      "\n",
      "--------- WEB SEARCH -----------\n",
      "LA Lakers 2025 season recent news\n",
      "w\n"
     ]
    },
    {
     "name": "stderr",
     "output_type": "stream",
     "text": [
      "/Users/yeonsigjang/ideaProject/gpt_agent_2025_book_pip/.venv/lib/python3.12/site-packages/langchain_community/utilities/duckduckgo_search.py:63: RuntimeWarning: This package (`duckduckgo_search`) has been renamed to `ddgs`! Use `pip install ddgs` instead.\n",
      "  with DDGS() as ddgs:\n",
      "/Users/yeonsigjang/ideaProject/gpt_agent_2025_book_pip/.venv/lib/python3.12/site-packages/langchain_community/utilities/duckduckgo_search.py:64: UserWarning: backend='api' is deprecated, using backend='auto'\n",
      "  ddgs_gen = ddgs.text(\n"
     ]
    },
    {
     "name": "stdout",
     "output_type": "stream",
     "text": [
      "1. snippet: Aug 24, 2018 · 节点锚入梁内的锚固长度？ 我想问一下这个节点锚入梁内的长度是多少？ 按一个锚固长度la计算吗？ 那la的依据是什么，按照什么确定是35d还是37d或者其他的？, title: 未注明钢筋锚固长度la是多少?-服务新干线答疑解惑, link: https://www.fwxgx.com/questions/1922806;\n",
      "snippet: Mar 17, 2018 · 钢筋图中的La长度应该如何计算 请问图中的LA长度应该怎么计算，谢谢 补充问题： 图纸要求16图集 我来答 收藏 举报 全部回答 (3) 首答仅用1分53秒 已采纳, title: 钢筋图中的La长度应该如何计算-服务新干线答疑解惑, link: https://www.fwxgx.com/questions/1749532;\n",
      "snippet: Oct 24, 2014 · 关于钢筋中lae，la,以及laf之间的关系？ 它们之间是什么关系，比如说混凝土等级是C35的，钢筋直接是d，那么它的la，lae，laf各是什么？, title: 关于钢筋中lae，la,以及laf之间的关系？-服务新干线答疑解惑, link: https://www.fwxgx.com/questions/1240607;\n",
      "snippet: Jan 9, 2025 · 刚开始学钢结构，这种檩条怎么计算长度？ 这个楼板阳角的放射筋怎么计算长度 2020-08-11 11:26:58 补充能不能讲的详细一点，计算公式可以写下来吗 请问这种钢筋加固的怎 …, title: la和lae怎么计算长度-服务新干线答疑解惑, link: https://www.fwxgx.com/questions/4334925\n",
      "최근 LA 레이커스에 대한 정보를 검색했으나, 의미 있는 최근 데이터나 이슈를 찾을 수 없었습니다. \n",
      "\n",
      "이로 인해, 다음과 같은 방법으로 접근하겠습니다:\n",
      "1. LA 레이커스의 전반적인 성적 분석 및 최근 시즌의 주요 이슈를 살펴봅니다.\n",
      "2. 팀 내 주요 선수의 부상 또는 교체 사항을 분석합니다.\n",
      "3. 레이커스가 직면한 전술적 문제 또는 경기력 저하의 원인을 파악합니다.\n",
      "\n",
      "이 주제를 통해 독자들이 LA 레이커스의 현재 상황을 깊이 있게 이해할 수 있도록 하는 것이 목적입니다. 이는 팀의 성적과 팬들의 기대 간의 불일치를 해결하는 데 도움이 될 것입니다.\n",
      "\n",
      "### 목차\n",
      "1. 서론: LA 레이커스의 최근 시즌 성적 개요\n",
      "2. 주요 이슈 분석\n",
      "   - 선수 부상 및 교체\n",
      "   - 전술적 문제점\n",
      "3. 팬들의 반응 및 여론\n",
      "4. 결론 및 향후 전망\n",
      "\n",
      "### 추가 검색할 내용\n",
      "- LA 레이커스의 최근 몇 시즌 성적\n",
      "- 주요 선수의 부상 및 트레이드 뉴스\n",
      "- 팀의 전술적 변화 및 경기 전략\n",
      "- 팬 커뮤니티 및 소셜 미디어에서의 반응\n",
      "\n",
      "위의 검색 리스트를 토대로 추가 정보를 수집하고, 기사를 작성하겠습니다.\n",
      "--------- WEB SEARCH -----------\n",
      "LA Lakers recent season performance\n",
      "y\n",
      "1. snippet: Aug 24, 2018 · 节点锚入梁内的锚固长度？ 我想问一下这个节点锚入梁内的长度是多少？ 按一个锚固长度la计算吗？ 那la的依据是什么，按照什么确定是35d还 …, title: 未注明钢筋锚固长度la是多少?-服务新干线答疑解惑, link: https://www.fwxgx.com/questions/1922806;\n",
      "snippet: Mar 17, 2018 · 钢筋图中的La长度应该如何计算 请问图中的LA长度应该怎么计算，谢谢 补充问题： 图纸要求16图集 我来答 收藏 举报 全部回答 (3) 首答仅用1 …, title: 钢筋图中的La长度应该如何计算-服务新干线答疑解惑, link: https://www.fwxgx.com/questions/1749532;\n",
      "snippet: Oct 24, 2014 · 关于钢筋中lae，la,以及laf之间的关系？ 它们之间是什么关系，比如说混凝土等级是C35的，钢筋直接是d，那么它的la，lae，laf各是什么？, title: 关于钢筋中lae，la,以及laf之间的关系？-服务新干线答疑解惑, link: https://www.fwxgx.com/questions/1240607;\n",
      "snippet: Jan 9, 2025 · 刚开始学钢结构，这种檩条怎么计算长度？ 这个楼板阳角的放射筋怎么计算长度 2020-08-11 11:26:58 补充能不能讲的详细一点，计算公式可以写 …, title: la和lae怎么计算长度-服务新干线答疑解惑, link: https://www.fwxgx.com/questions/4334925\n",
      "\n",
      "--------- WEB SEARCH -----------\n",
      "LA Lakers player injuries and trades\n",
      "m\n"
     ]
    },
    {
     "name": "stderr",
     "output_type": "stream",
     "text": [
      "/Users/yeonsigjang/ideaProject/gpt_agent_2025_book_pip/.venv/lib/python3.12/site-packages/langchain_community/utilities/duckduckgo_search.py:63: RuntimeWarning: This package (`duckduckgo_search`) has been renamed to `ddgs`! Use `pip install ddgs` instead.\n",
      "  with DDGS() as ddgs:\n",
      "/Users/yeonsigjang/ideaProject/gpt_agent_2025_book_pip/.venv/lib/python3.12/site-packages/langchain_community/utilities/duckduckgo_search.py:64: UserWarning: backend='api' is deprecated, using backend='auto'\n",
      "  ddgs_gen = ddgs.text(\n",
      "/Users/yeonsigjang/ideaProject/gpt_agent_2025_book_pip/.venv/lib/python3.12/site-packages/langchain_community/utilities/duckduckgo_search.py:63: RuntimeWarning: This package (`duckduckgo_search`) has been renamed to `ddgs`! Use `pip install ddgs` instead.\n",
      "  with DDGS() as ddgs:\n",
      "/Users/yeonsigjang/ideaProject/gpt_agent_2025_book_pip/.venv/lib/python3.12/site-packages/langchain_community/utilities/duckduckgo_search.py:64: UserWarning: backend='api' is deprecated, using backend='auto'\n",
      "  ddgs_gen = ddgs.text(\n"
     ]
    },
    {
     "name": "stdout",
     "output_type": "stream",
     "text": [
      "1. snippet: Aug 24, 2018 · 节点锚入梁内的锚固长度？ 我想问一下这个节点锚入梁内的长度是多少？ 按一个锚固长度la计算吗？ 那la的依据是什么，按照什么确定是35d还是37d或者其他的？, title: 未注明钢筋锚固长度la是多少?-服务新干线答疑解惑, link: https://www.fwxgx.com/questions/1922806;\n",
      "snippet: Mar 17, 2018 · 钢筋图中的La长度应该如何计算 请问图中的LA长度应该怎么计算，谢谢 补充问题： 图纸要求16图集 我来答 收藏 举报 全部回答 (3) 首答仅用1分53秒 已采纳, title: 钢筋图中的La长度应该如何计算-服务新干线答疑解惑, link: https://www.fwxgx.com/questions/1749532;\n",
      "snippet: Oct 24, 2014 · 关于钢筋中lae，la,以及laf之间的关系？ 它们之间是什么关系，比如说混凝土等级是C35的，钢筋直接是d，那么它的la，lae，laf各是什么？, title: 关于钢筋中lae，la,以及laf之间的关系？-服务新干线答疑解惑, link: https://www.fwxgx.com/questions/1240607;\n",
      "snippet: Jan 9, 2025 · 刚开始学钢结构，这种檩条怎么计算长度？ 这个楼板阳角的放射筋怎么计算长度 2020-08-11 11:26:58 补充能不能讲的详细一点，计算公式可以写下来吗 请问这种钢筋加固的怎 …, title: la和lae怎么计算长度-服务新干线答疑解惑, link: https://www.fwxgx.com/questions/4334925\n",
      "\n",
      "--------- WEB SEARCH -----------\n",
      "LA Lakers tactical issues\n",
      "m\n"
     ]
    },
    {
     "name": "stderr",
     "output_type": "stream",
     "text": [
      "/Users/yeonsigjang/ideaProject/gpt_agent_2025_book_pip/.venv/lib/python3.12/site-packages/langchain_community/utilities/duckduckgo_search.py:63: RuntimeWarning: This package (`duckduckgo_search`) has been renamed to `ddgs`! Use `pip install ddgs` instead.\n",
      "  with DDGS() as ddgs:\n",
      "/Users/yeonsigjang/ideaProject/gpt_agent_2025_book_pip/.venv/lib/python3.12/site-packages/langchain_community/utilities/duckduckgo_search.py:64: UserWarning: backend='api' is deprecated, using backend='auto'\n",
      "  ddgs_gen = ddgs.text(\n"
     ]
    },
    {
     "name": "stdout",
     "output_type": "stream",
     "text": [
      "1. snippet: Aug 24, 2018 · 节点锚入梁内的锚固长度？ 我想问一下这个节点锚入梁内的长度是多少？ 按一个锚固长度la计算吗？ 那la的依据是什么，按照什么确定是35d还是37d或者其他的？, title: 未注明钢筋锚固长度la是多少?-服务新干线答疑解惑, link: https://www.fwxgx.com/questions/1922806;\n",
      "snippet: Mar 17, 2018 · 钢筋图中的La长度应该如何计算 请问图中的LA长度应该怎么计算，谢谢 补充问题： 图纸要求16图集 我来答 收藏 举报 全部回答 (3) 首答仅用1分53秒 已采纳, title: 钢筋图中的La长度应该如何计算-服务新干线答疑解惑, link: https://www.fwxgx.com/questions/1749532;\n",
      "snippet: Oct 24, 2014 · 关于钢筋中lae，la,以及laf之间的关系？ 它们之间是什么关系，比如说混凝土等级是C35的，钢筋直接是d，那么它的la，lae，laf各是什么？, title: 关于钢筋中lae，la,以及laf之间的关系？-服务新干线答疑解惑, link: https://www.fwxgx.com/questions/1240607;\n",
      "snippet: Jan 9, 2025 · 刚开始学钢结构，这种檩条怎么计算长度？ 这个楼板阳角的放射筋怎么计算长度 2020-08-11 11:26:58 补充能不能讲的详细一点，计算公式可以写下来吗 请问这种钢筋加固的怎 …, title: la和lae怎么计算长度-服务新干线答疑解惑, link: https://www.fwxgx.com/questions/4334925\n",
      "\n",
      "--------- WEB SEARCH -----------\n",
      "LA Lakers fan reactions\n",
      "m\n",
      "1. snippet: Aug 24, 2018 · 节点锚入梁内的锚固长度？ 我想问一下这个节点锚入梁内的长度是多少？ 按一个锚固长度la计算吗？ 那la的依据是什 …, title: 未注明钢筋锚固长度la是多少?-服务新干线答疑解惑, link: https://www.fwxgx.com/questions/1922806;\n",
      "snippet: Mar 17, 2018 · 钢筋图中的La长度应该如何计算 请问图中的LA长度应该怎么计算，谢谢 补充问题： 图纸要求16图集 我来答 收藏 举 …, title: 钢筋图中的La长度应该如何计算-服务新干线答疑解惑, link: https://www.fwxgx.com/questions/1749532;\n",
      "snippet: Oct 24, 2014 · 关于钢筋中lae，la,以及laf之间的关系？ 它们之间是什么关系，比如说混凝土等级是C35的，钢筋直接是d，那么它 …, title: 关于钢筋中lae，la,以及laf之间的关系？-服务新干线答疑解惑, link: https://www.fwxgx.com/questions/1240607;\n",
      "snippet: Jan 9, 2025 · 刚开始学钢结构，这种檩条怎么计算长度？ 这个楼板阳角的放射筋怎么计算长度 2020-08-11 11:26:58 补充能不能讲的 …, title: la和lae怎么计算长度-服务新干线答疑解惑, link: https://www.fwxgx.com/questions/4334925\n"
     ]
    },
    {
     "name": "stderr",
     "output_type": "stream",
     "text": [
      "/Users/yeonsigjang/ideaProject/gpt_agent_2025_book_pip/.venv/lib/python3.12/site-packages/langchain_community/utilities/duckduckgo_search.py:63: RuntimeWarning: This package (`duckduckgo_search`) has been renamed to `ddgs`! Use `pip install ddgs` instead.\n",
      "  with DDGS() as ddgs:\n",
      "/Users/yeonsigjang/ideaProject/gpt_agent_2025_book_pip/.venv/lib/python3.12/site-packages/langchain_community/utilities/duckduckgo_search.py:64: UserWarning: backend='api' is deprecated, using backend='auto'\n",
      "  ddgs_gen = ddgs.text(\n"
     ]
    },
    {
     "name": "stdout",
     "output_type": "stream",
     "text": [
      "검색을 통해 LA 레이커스에 대한 최근의 유의미한 정보를 찾지 못했습니다. 이로 인해 현재로서는 심층 분석 기사를 작성하기 위한 구체적인 자료를 확보하지 못한 상황입니다. \n",
      "\n",
      "이러한 경우, 기존의 정보를 바탕으로 LA 레이커스의 최근 시즌 성적, 주요 선수의 부상 및 트레이드, 전술적 문제, 그리고 팬들의 반응 등을 다루는 방향으로 기사를 작성할 수 있습니다. \n",
      "\n",
      "최종 기사를 작성하기 위해서는 신뢰할 수 있는 최신 정보원이 필요하며, 이를 위해 추가적인 정보 수집이 필요합니다. 현재로서는 추가적인 정보 없이 기사를 작성하기가 어렵습니다. \n",
      "\n",
      "만약 다른 주제를 다룰 필요가 있거나, 다른 방법으로 정보를 수집할 수 있는 방법이 있다면 그에 맞춰 진행하겠습니다. 추가적인 정보를 확보할 수 있는 방법이나 자료가 있다면 말씀해 주세요."
     ]
    }
   ],
   "execution_count": 24
  },
  {
   "metadata": {},
   "cell_type": "code",
   "outputs": [],
   "execution_count": null,
   "source": "",
   "id": "b93090dd8be85512"
  }
 ],
 "metadata": {
  "kernelspec": {
   "display_name": "Python 3",
   "language": "python",
   "name": "python3"
  },
  "language_info": {
   "codemirror_mode": {
    "name": "ipython",
    "version": 2
   },
   "file_extension": ".py",
   "mimetype": "text/x-python",
   "name": "python",
   "nbconvert_exporter": "python",
   "pygments_lexer": "ipython2",
   "version": "2.7.6"
  }
 },
 "nbformat": 4,
 "nbformat_minor": 5
}
